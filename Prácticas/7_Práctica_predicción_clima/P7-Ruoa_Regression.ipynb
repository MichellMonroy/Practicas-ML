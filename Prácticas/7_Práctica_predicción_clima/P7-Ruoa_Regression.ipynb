{
 "cells": [
  {
   "cell_type": "markdown",
   "id": "0a456f14-33c8-45d0-b6c9-db521582189d",
   "metadata": {},
   "source": [
    "# Predicción de la temperatura en Morelia Michoacán usando Dask"
   ]
  },
  {
   "cell_type": "code",
   "execution_count": 1,
   "id": "a7d5d535-b8f1-497d-8d46-8a7581c76697",
   "metadata": {},
   "outputs": [],
   "source": [
    "import os\n",
    "import glob\n",
    "import zipfile\n",
    "import pandas as pd\n",
    "import time\n",
    "import re\n",
    "import dask.dataframe as dd\n",
    "from dask.diagnostics import ProgressBar\n",
    "from dask_ml.linear_model import LinearRegression\n",
    "from dask_ml.model_selection import train_test_split\n",
    "from dask_ml.preprocessing import MinMaxScaler\n",
    "from dask_ml.metrics import mean_absolute_error\n",
    "#Install dask-ml"
   ]
  },
  {
   "cell_type": "code",
   "execution_count": 2,
   "id": "b56b2bed-662e-4c6b-ab42-da53aed9fcb7",
   "metadata": {},
   "outputs": [],
   "source": [
    "Path = \"/home/michell21/Datasets/Ruoa_Dask_minuto/\""
   ]
  },
  {
   "cell_type": "code",
   "execution_count": 3,
   "id": "a11c80f1-a653-4179-b0bb-fbda89313a20",
   "metadata": {},
   "outputs": [
    {
     "name": "stderr",
     "output_type": "stream",
     "text": [
      "/home/michell21/anaconda3/envs/practicasML/lib/python3.9/site-packages/distributed/node.py:160: UserWarning: Port 8787 is already in use.\n",
      "Perhaps you already have a cluster running?\n",
      "Hosting the HTTP server on port 41521 instead\n",
      "  warnings.warn(\n"
     ]
    }
   ],
   "source": [
    "#client = Client(n_workers=8)"
   ]
  },
  {
   "cell_type": "code",
   "execution_count": 3,
   "id": "5bd4e3f4-c666-4bf7-9a3a-06e34235d417",
   "metadata": {},
   "outputs": [],
   "source": [
    "df = dd.read_csv(Path+'*.csv')"
   ]
  },
  {
   "cell_type": "code",
   "execution_count": 4,
   "id": "4b28761f-a61c-4616-8130-286ee5d0150a",
   "metadata": {},
   "outputs": [
    {
     "name": "stdout",
     "output_type": "stream",
     "text": [
      "<class 'dask.dataframe.core.DataFrame'>\n",
      "Columns: 10 entries, TIMESTAMP to Rad_Avg\n",
      "dtypes: object(1), float64(9)"
     ]
    }
   ],
   "source": [
    "df.info()"
   ]
  },
  {
   "cell_type": "code",
   "execution_count": 4,
   "id": "e0549aa1-8dee-43b1-bc75-b660987a3659",
   "metadata": {},
   "outputs": [
    {
     "data": {
      "text/plain": [
       "count    3.225764e+06\n",
       "mean     1.745081e+01\n",
       "std      4.972629e+00\n",
       "min      5.080000e-01\n",
       "25%      1.571000e+01\n",
       "50%      1.924000e+01\n",
       "75%      2.479000e+01\n",
       "max      3.369000e+01\n",
       "Name: Temp_Avg, dtype: float64"
      ]
     },
     "execution_count": 4,
     "metadata": {},
     "output_type": "execute_result"
    }
   ],
   "source": [
    "df[\"Temp_Avg\"].describe().compute()"
   ]
  },
  {
   "cell_type": "code",
   "execution_count": 11,
   "id": "37e35bc2-9326-4be0-8c10-c4728fd5b716",
   "metadata": {
    "tags": []
   },
   "outputs": [
    {
     "data": {
      "text/plain": [
       "unique                3225764\n",
       "count                 3225764\n",
       "top       2015-08-18 15:02:00\n",
       "freq                        1\n",
       "Name: TIMESTAMP, dtype: object"
      ]
     },
     "execution_count": 11,
     "metadata": {},
     "output_type": "execute_result"
    }
   ],
   "source": [
    "df[\"TIMESTAMP\"].describe().compute()"
   ]
  },
  {
   "cell_type": "code",
   "execution_count": 4,
   "id": "975b8942-894d-48f5-b033-a80a8efc30cb",
   "metadata": {},
   "outputs": [],
   "source": [
    "df = df.dropna(subset=[\"Temp_Avg\"]) #usar Rad_Avg"
   ]
  },
  {
   "cell_type": "code",
   "execution_count": 5,
   "id": "cf47f4b1-a074-4e80-81eb-a040e7ff9380",
   "metadata": {},
   "outputs": [],
   "source": [
    "df = df.fillna(0)"
   ]
  },
  {
   "cell_type": "code",
   "execution_count": 6,
   "id": "a83e03cb-83a0-4011-b322-84a687e1903a",
   "metadata": {},
   "outputs": [
    {
     "data": {
      "text/plain": [
       "76"
      ]
     },
     "execution_count": 6,
     "metadata": {},
     "output_type": "execute_result"
    }
   ],
   "source": [
    "df.npartitions"
   ]
  },
  {
   "cell_type": "code",
   "execution_count": 7,
   "id": "a4f378f0-57da-4f09-9e5f-204d4db7e60f",
   "metadata": {},
   "outputs": [],
   "source": [
    "def month(TimeStamp):\n",
    "    #possible_months = {\"01\":\"January\", \"02\":\"February\", \"03\":\"March\", \"04\":\"April\", \"05\":\"May\", \"06\":\"June\",\n",
    "     #   \"07\":\"July\", \"08\":\"August\", \"09\":\"September\", \"10\":\"October\", \"11\":\"November\", \"12\":\"December\"}\n",
    "    date = re.findall(r'-\\d{2}',TimeStamp)[0]\n",
    "    date = date.replace(\"-\", \"\")\n",
    "    return int(date)\n",
    "\n",
    "def day_night(TimeStamp):\n",
    "    hour = re.findall(r' \\d{2}',TimeStamp)[0]\n",
    "    hour = hour.replace(\" \", \"\")\n",
    "    hour = int(hour)\n",
    "    if hour < 12:\n",
    "        return 0 #AM\n",
    "    return 1 #PM"
   ]
  },
  {
   "cell_type": "code",
   "execution_count": 8,
   "id": "3c62dcc8-5ae5-4c2b-95de-121922310fa1",
   "metadata": {},
   "outputs": [
    {
     "data": {
      "text/plain": [
       "'def find_day(df):\\n    df[\"Dia/Noche\"] = df.apply(lambda Row: day_night(Row[\"TIMESTAMP\"]), axis=1)\\n    df = dd.from_pandas(df, npartitions=76)\\n    return df'"
      ]
     },
     "execution_count": 8,
     "metadata": {},
     "output_type": "execute_result"
    }
   ],
   "source": [
    "def find_month(df):\n",
    "    df[\"Mes\"] = df.apply(lambda Row: month(Row[\"TIMESTAMP\"]), axis=1)\n",
    "    df[\"Dia/Noche\"] = df.apply(lambda Row: day_night(Row[\"TIMESTAMP\"]), axis=1)\n",
    "    #df1 = dd.from_pandas(df, npartitions=76)\n",
    "    return df\n",
    "\n",
    "\"\"\"def find_day(df):\n",
    "    df[\"Dia/Noche\"] = df.apply(lambda Row: day_night(Row[\"TIMESTAMP\"]), axis=1)\n",
    "    df = dd.from_pandas(df, npartitions=76)\n",
    "    return df\"\"\""
   ]
  },
  {
   "cell_type": "code",
   "execution_count": 34,
   "id": "87799efc-8453-4d92-8d1f-118886338ef7",
   "metadata": {},
   "outputs": [],
   "source": [
    "df1 = df.copy()"
   ]
  },
  {
   "cell_type": "code",
   "execution_count": 9,
   "id": "19b42a20-1f5f-459c-a2fa-3b4577729a3b",
   "metadata": {},
   "outputs": [],
   "source": [
    "df[\"Mes\"] = 0\n",
    "df[\"Dia/Noche\"] = 0"
   ]
  },
  {
   "cell_type": "code",
   "execution_count": 10,
   "id": "c205a1e7-e299-4d16-9241-450750722ea6",
   "metadata": {
    "tags": []
   },
   "outputs": [
    {
     "name": "stdout",
     "output_type": "stream",
     "text": [
      "CPU times: user 1.42 s, sys: 942 ms, total: 2.37 s\n",
      "Wall time: 25 s\n"
     ]
    }
   ],
   "source": [
    "%time df = df.map_partitions(find_month, meta=df).compute(scheduler='processes')"
   ]
  },
  {
   "cell_type": "code",
   "execution_count": 11,
   "id": "6b223324-3c44-4ea9-a9e0-5fc0dd0080c0",
   "metadata": {},
   "outputs": [],
   "source": [
    "df = dd.from_pandas(df, npartitions=76)"
   ]
  },
  {
   "cell_type": "code",
   "execution_count": 12,
   "id": "5c07d0fe-56d9-45c6-a99e-bf2c3c7a396b",
   "metadata": {},
   "outputs": [
    {
     "data": {
      "text/plain": [
       "dask.dataframe.core.DataFrame"
      ]
     },
     "execution_count": 12,
     "metadata": {},
     "output_type": "execute_result"
    }
   ],
   "source": [
    "type(df)"
   ]
  },
  {
   "cell_type": "code",
   "execution_count": 13,
   "id": "2eb9e271-d8ff-45f4-99e1-00bc84cdb15d",
   "metadata": {
    "tags": []
   },
   "outputs": [
    {
     "data": {
      "text/plain": [
       "3225764"
      ]
     },
     "execution_count": 13,
     "metadata": {},
     "output_type": "execute_result"
    }
   ],
   "source": [
    "len(df.index)"
   ]
  },
  {
   "cell_type": "code",
   "execution_count": 14,
   "id": "ce97f60b-b4d0-46bf-9575-88f646fa06aa",
   "metadata": {},
   "outputs": [
    {
     "data": {
      "text/html": [
       "<div>\n",
       "<style scoped>\n",
       "    .dataframe tbody tr th:only-of-type {\n",
       "        vertical-align: middle;\n",
       "    }\n",
       "\n",
       "    .dataframe tbody tr th {\n",
       "        vertical-align: top;\n",
       "    }\n",
       "\n",
       "    .dataframe thead th {\n",
       "        text-align: right;\n",
       "    }\n",
       "</style>\n",
       "<table border=\"1\" class=\"dataframe\">\n",
       "  <thead>\n",
       "    <tr style=\"text-align: right;\">\n",
       "      <th></th>\n",
       "      <th>TIMESTAMP</th>\n",
       "      <th>Temp_Avg</th>\n",
       "      <th>RH_Avg</th>\n",
       "      <th>WSpeed_Avg</th>\n",
       "      <th>WSpeed_Max</th>\n",
       "      <th>WDir_Avg</th>\n",
       "      <th>WDir_SD</th>\n",
       "      <th>Rain_Tot</th>\n",
       "      <th>Press_Avg</th>\n",
       "      <th>Rad_Avg</th>\n",
       "      <th>Mes</th>\n",
       "      <th>Dia/Noche</th>\n",
       "    </tr>\n",
       "  </thead>\n",
       "  <tbody>\n",
       "    <tr>\n",
       "      <th>0</th>\n",
       "      <td>2020-06-01 00:00:00</td>\n",
       "      <td>16.15</td>\n",
       "      <td>70.69</td>\n",
       "      <td>1.004</td>\n",
       "      <td>1.116</td>\n",
       "      <td>100.300</td>\n",
       "      <td>4.682</td>\n",
       "      <td>0.0</td>\n",
       "      <td>806.000</td>\n",
       "      <td>-1.337</td>\n",
       "      <td>6</td>\n",
       "      <td>0</td>\n",
       "    </tr>\n",
       "    <tr>\n",
       "      <th>0</th>\n",
       "      <td>2020-11-01 00:00:00</td>\n",
       "      <td>16.89</td>\n",
       "      <td>87.80</td>\n",
       "      <td>1.702</td>\n",
       "      <td>1.946</td>\n",
       "      <td>242.500</td>\n",
       "      <td>16.940</td>\n",
       "      <td>0.0</td>\n",
       "      <td>809.553</td>\n",
       "      <td>-1.429</td>\n",
       "      <td>11</td>\n",
       "      <td>0</td>\n",
       "    </tr>\n",
       "    <tr>\n",
       "      <th>0</th>\n",
       "      <td>2016-03-01 00:00:00</td>\n",
       "      <td>14.39</td>\n",
       "      <td>75.55</td>\n",
       "      <td>1.002</td>\n",
       "      <td>0.000</td>\n",
       "      <td>262.000</td>\n",
       "      <td>8.470</td>\n",
       "      <td>0.0</td>\n",
       "      <td>806.000</td>\n",
       "      <td>0.000</td>\n",
       "      <td>3</td>\n",
       "      <td>0</td>\n",
       "    </tr>\n",
       "    <tr>\n",
       "      <th>0</th>\n",
       "      <td>2021-02-01 00:00:00</td>\n",
       "      <td>14.17</td>\n",
       "      <td>56.79</td>\n",
       "      <td>2.154</td>\n",
       "      <td>2.529</td>\n",
       "      <td>267.800</td>\n",
       "      <td>7.473</td>\n",
       "      <td>0.0</td>\n",
       "      <td>808.148</td>\n",
       "      <td>-1.106</td>\n",
       "      <td>2</td>\n",
       "      <td>0</td>\n",
       "    </tr>\n",
       "    <tr>\n",
       "      <th>0</th>\n",
       "      <td>2020-12-01 00:00:00</td>\n",
       "      <td>16.63</td>\n",
       "      <td>70.85</td>\n",
       "      <td>2.391</td>\n",
       "      <td>3.379</td>\n",
       "      <td>2.498</td>\n",
       "      <td>5.615</td>\n",
       "      <td>0.0</td>\n",
       "      <td>807.000</td>\n",
       "      <td>-1.475</td>\n",
       "      <td>12</td>\n",
       "      <td>0</td>\n",
       "    </tr>\n",
       "  </tbody>\n",
       "</table>\n",
       "</div>"
      ],
      "text/plain": [
       "             TIMESTAMP  Temp_Avg  RH_Avg  WSpeed_Avg  WSpeed_Max  WDir_Avg  \\\n",
       "0  2020-06-01 00:00:00     16.15   70.69       1.004       1.116   100.300   \n",
       "0  2020-11-01 00:00:00     16.89   87.80       1.702       1.946   242.500   \n",
       "0  2016-03-01 00:00:00     14.39   75.55       1.002       0.000   262.000   \n",
       "0  2021-02-01 00:00:00     14.17   56.79       2.154       2.529   267.800   \n",
       "0  2020-12-01 00:00:00     16.63   70.85       2.391       3.379     2.498   \n",
       "\n",
       "   WDir_SD  Rain_Tot  Press_Avg  Rad_Avg  Mes  Dia/Noche  \n",
       "0    4.682       0.0    806.000   -1.337    6          0  \n",
       "0   16.940       0.0    809.553   -1.429   11          0  \n",
       "0    8.470       0.0    806.000    0.000    3          0  \n",
       "0    7.473       0.0    808.148   -1.106    2          0  \n",
       "0    5.615       0.0    807.000   -1.475   12          0  "
      ]
     },
     "execution_count": 14,
     "metadata": {},
     "output_type": "execute_result"
    }
   ],
   "source": [
    "df.head()"
   ]
  },
  {
   "cell_type": "code",
   "execution_count": 15,
   "id": "ff6c72bb-89b1-4cb7-9353-0b8d8fde3a7d",
   "metadata": {},
   "outputs": [],
   "source": [
    "y = df[\"Temp_Avg\"]"
   ]
  },
  {
   "cell_type": "code",
   "execution_count": 22,
   "id": "a179129c-aa51-4ab9-a6ec-e06c44ef9abe",
   "metadata": {},
   "outputs": [
    {
     "data": {
      "text/plain": [
       "Dask Series Structure:\n",
       "npartitions=76\n",
       "0        float64\n",
       "574          ...\n",
       "          ...   \n",
       "43677        ...\n",
       "44639        ...\n",
       "Name: Temp_Avg, dtype: float64\n",
       "Dask Name: getitem, 152 tasks"
      ]
     },
     "execution_count": 22,
     "metadata": {},
     "output_type": "execute_result"
    }
   ],
   "source": [
    "y"
   ]
  },
  {
   "cell_type": "code",
   "execution_count": 23,
   "id": "c8e2a74f-bd7f-4c21-966f-881e77a1db8a",
   "metadata": {},
   "outputs": [],
   "source": [
    "#X = df.copy()"
   ]
  },
  {
   "cell_type": "code",
   "execution_count": 16,
   "id": "edeacada-4c9d-431f-8f6a-d6d2b1e58698",
   "metadata": {},
   "outputs": [],
   "source": [
    "X = df.drop(['TIMESTAMP', \"Temp_Avg\"], axis=1)"
   ]
  },
  {
   "cell_type": "code",
   "execution_count": 17,
   "id": "fc537214-b10a-408d-8c05-2980858f54a5",
   "metadata": {},
   "outputs": [
    {
     "data": {
      "text/html": [
       "<div>\n",
       "<style scoped>\n",
       "    .dataframe tbody tr th:only-of-type {\n",
       "        vertical-align: middle;\n",
       "    }\n",
       "\n",
       "    .dataframe tbody tr th {\n",
       "        vertical-align: top;\n",
       "    }\n",
       "\n",
       "    .dataframe thead th {\n",
       "        text-align: right;\n",
       "    }\n",
       "</style>\n",
       "<table border=\"1\" class=\"dataframe\">\n",
       "  <thead>\n",
       "    <tr style=\"text-align: right;\">\n",
       "      <th></th>\n",
       "      <th>RH_Avg</th>\n",
       "      <th>WSpeed_Avg</th>\n",
       "      <th>WSpeed_Max</th>\n",
       "      <th>WDir_Avg</th>\n",
       "      <th>WDir_SD</th>\n",
       "      <th>Rain_Tot</th>\n",
       "      <th>Press_Avg</th>\n",
       "      <th>Rad_Avg</th>\n",
       "      <th>Mes</th>\n",
       "      <th>Dia/Noche</th>\n",
       "    </tr>\n",
       "  </thead>\n",
       "  <tbody>\n",
       "    <tr>\n",
       "      <th>0</th>\n",
       "      <td>70.69</td>\n",
       "      <td>1.004</td>\n",
       "      <td>1.116</td>\n",
       "      <td>100.300</td>\n",
       "      <td>4.682</td>\n",
       "      <td>0.0</td>\n",
       "      <td>806.000</td>\n",
       "      <td>-1.337</td>\n",
       "      <td>6</td>\n",
       "      <td>0</td>\n",
       "    </tr>\n",
       "    <tr>\n",
       "      <th>0</th>\n",
       "      <td>87.80</td>\n",
       "      <td>1.702</td>\n",
       "      <td>1.946</td>\n",
       "      <td>242.500</td>\n",
       "      <td>16.940</td>\n",
       "      <td>0.0</td>\n",
       "      <td>809.553</td>\n",
       "      <td>-1.429</td>\n",
       "      <td>11</td>\n",
       "      <td>0</td>\n",
       "    </tr>\n",
       "    <tr>\n",
       "      <th>0</th>\n",
       "      <td>75.55</td>\n",
       "      <td>1.002</td>\n",
       "      <td>0.000</td>\n",
       "      <td>262.000</td>\n",
       "      <td>8.470</td>\n",
       "      <td>0.0</td>\n",
       "      <td>806.000</td>\n",
       "      <td>0.000</td>\n",
       "      <td>3</td>\n",
       "      <td>0</td>\n",
       "    </tr>\n",
       "    <tr>\n",
       "      <th>0</th>\n",
       "      <td>56.79</td>\n",
       "      <td>2.154</td>\n",
       "      <td>2.529</td>\n",
       "      <td>267.800</td>\n",
       "      <td>7.473</td>\n",
       "      <td>0.0</td>\n",
       "      <td>808.148</td>\n",
       "      <td>-1.106</td>\n",
       "      <td>2</td>\n",
       "      <td>0</td>\n",
       "    </tr>\n",
       "    <tr>\n",
       "      <th>0</th>\n",
       "      <td>70.85</td>\n",
       "      <td>2.391</td>\n",
       "      <td>3.379</td>\n",
       "      <td>2.498</td>\n",
       "      <td>5.615</td>\n",
       "      <td>0.0</td>\n",
       "      <td>807.000</td>\n",
       "      <td>-1.475</td>\n",
       "      <td>12</td>\n",
       "      <td>0</td>\n",
       "    </tr>\n",
       "  </tbody>\n",
       "</table>\n",
       "</div>"
      ],
      "text/plain": [
       "   RH_Avg  WSpeed_Avg  WSpeed_Max  WDir_Avg  WDir_SD  Rain_Tot  Press_Avg  \\\n",
       "0   70.69       1.004       1.116   100.300    4.682       0.0    806.000   \n",
       "0   87.80       1.702       1.946   242.500   16.940       0.0    809.553   \n",
       "0   75.55       1.002       0.000   262.000    8.470       0.0    806.000   \n",
       "0   56.79       2.154       2.529   267.800    7.473       0.0    808.148   \n",
       "0   70.85       2.391       3.379     2.498    5.615       0.0    807.000   \n",
       "\n",
       "   Rad_Avg  Mes  Dia/Noche  \n",
       "0   -1.337    6          0  \n",
       "0   -1.429   11          0  \n",
       "0    0.000    3          0  \n",
       "0   -1.106    2          0  \n",
       "0   -1.475   12          0  "
      ]
     },
     "execution_count": 17,
     "metadata": {},
     "output_type": "execute_result"
    }
   ],
   "source": [
    "X.head()"
   ]
  },
  {
   "cell_type": "markdown",
   "id": "1d66a54d-b7f9-45a3-af71-5e7b1cb6864d",
   "metadata": {},
   "source": [
    "## Scalar"
   ]
  },
  {
   "cell_type": "code",
   "execution_count": 18,
   "id": "69ec81be-01ca-4e8b-8b9a-239d4194fe01",
   "metadata": {},
   "outputs": [],
   "source": [
    "scaler = MinMaxScaler() \n",
    "X_scaler = scaler.fit_transform(X)"
   ]
  },
  {
   "cell_type": "code",
   "execution_count": 19,
   "id": "bbc28f54-2e24-47f3-a53c-dcaa5756da41",
   "metadata": {},
   "outputs": [],
   "source": [
    "X_scaler = X_scaler.to_dask_array()\n",
    "y = y.to_dask_array()"
   ]
  },
  {
   "cell_type": "code",
   "execution_count": 20,
   "id": "a0f995ed-df5d-4c02-b714-76e538f7509a",
   "metadata": {},
   "outputs": [],
   "source": [
    "X_train, X_test, y_train, y_test = train_test_split(X_scaler.compute_chunk_sizes(), y.compute_chunk_sizes(), test_size = 0.3, shuffle=True)"
   ]
  },
  {
   "cell_type": "code",
   "execution_count": 21,
   "id": "111e04f7-ea88-448e-813a-0df8d92d6e98",
   "metadata": {},
   "outputs": [
    {
     "data": {
      "text/html": [
       "<table>\n",
       "    <tr>\n",
       "        <td>\n",
       "            <table>\n",
       "                <thead>\n",
       "                    <tr>\n",
       "                        <td> </td>\n",
       "                        <th> Array </th>\n",
       "                        <th> Chunk </th>\n",
       "                    </tr>\n",
       "                </thead>\n",
       "                <tbody>\n",
       "                    \n",
       "                    <tr>\n",
       "                        <th> Bytes </th>\n",
       "                        <td> 172.27 MiB </td>\n",
       "                        <td> 2.27 MiB </td>\n",
       "                    </tr>\n",
       "                    \n",
       "                    <tr>\n",
       "                        <th> Shape </th>\n",
       "                        <td> (2258000, 10) </td>\n",
       "                        <td> (29754, 10) </td>\n",
       "                    </tr>\n",
       "                    <tr>\n",
       "                        <th> Count </th>\n",
       "                        <td> 608 Tasks </td>\n",
       "                        <td> 76 Chunks </td>\n",
       "                    </tr>\n",
       "                    <tr>\n",
       "                    <th> Type </th>\n",
       "                    <td> float64 </td>\n",
       "                    <td> numpy.ndarray </td>\n",
       "                    </tr>\n",
       "                </tbody>\n",
       "            </table>\n",
       "        </td>\n",
       "        <td>\n",
       "        <svg width=\"75\" height=\"170\" style=\"stroke:rgb(0,0,0);stroke-width:1\" >\n",
       "\n",
       "  <!-- Horizontal lines -->\n",
       "  <line x1=\"0\" y1=\"0\" x2=\"25\" y2=\"0\" style=\"stroke-width:2\" />\n",
       "  <line x1=\"0\" y1=\"6\" x2=\"25\" y2=\"6\" />\n",
       "  <line x1=\"0\" y1=\"12\" x2=\"25\" y2=\"12\" />\n",
       "  <line x1=\"0\" y1=\"18\" x2=\"25\" y2=\"18\" />\n",
       "  <line x1=\"0\" y1=\"25\" x2=\"25\" y2=\"25\" />\n",
       "  <line x1=\"0\" y1=\"31\" x2=\"25\" y2=\"31\" />\n",
       "  <line x1=\"0\" y1=\"37\" x2=\"25\" y2=\"37\" />\n",
       "  <line x1=\"0\" y1=\"44\" x2=\"25\" y2=\"44\" />\n",
       "  <line x1=\"0\" y1=\"50\" x2=\"25\" y2=\"50\" />\n",
       "  <line x1=\"0\" y1=\"56\" x2=\"25\" y2=\"56\" />\n",
       "  <line x1=\"0\" y1=\"63\" x2=\"25\" y2=\"63\" />\n",
       "  <line x1=\"0\" y1=\"69\" x2=\"25\" y2=\"69\" />\n",
       "  <line x1=\"0\" y1=\"75\" x2=\"25\" y2=\"75\" />\n",
       "  <line x1=\"0\" y1=\"82\" x2=\"25\" y2=\"82\" />\n",
       "  <line x1=\"0\" y1=\"88\" x2=\"25\" y2=\"88\" />\n",
       "  <line x1=\"0\" y1=\"94\" x2=\"25\" y2=\"94\" />\n",
       "  <line x1=\"0\" y1=\"101\" x2=\"25\" y2=\"101\" />\n",
       "  <line x1=\"0\" y1=\"107\" x2=\"25\" y2=\"107\" />\n",
       "  <line x1=\"0\" y1=\"113\" x2=\"25\" y2=\"113\" />\n",
       "  <line x1=\"0\" y1=\"120\" x2=\"25\" y2=\"120\" style=\"stroke-width:2\" />\n",
       "\n",
       "  <!-- Vertical lines -->\n",
       "  <line x1=\"0\" y1=\"0\" x2=\"0\" y2=\"120\" style=\"stroke-width:2\" />\n",
       "  <line x1=\"25\" y1=\"0\" x2=\"25\" y2=\"120\" style=\"stroke-width:2\" />\n",
       "\n",
       "  <!-- Colored Rectangle -->\n",
       "  <polygon points=\"0.0,0.0 25.412616514582485,0.0 25.412616514582485,120.0 0.0,120.0\" style=\"fill:#8B4903A0;stroke-width:0\"/>\n",
       "\n",
       "  <!-- Text -->\n",
       "  <text x=\"12.706308\" y=\"140.000000\" font-size=\"1.0rem\" font-weight=\"100\" text-anchor=\"middle\" >10</text>\n",
       "  <text x=\"45.412617\" y=\"60.000000\" font-size=\"1.0rem\" font-weight=\"100\" text-anchor=\"middle\" transform=\"rotate(-90,45.412617,60.000000)\">2258000</text>\n",
       "</svg>\n",
       "        </td>\n",
       "    </tr>\n",
       "</table>"
      ],
      "text/plain": [
       "dask.array<concatenate, shape=(2258000, 10), dtype=float64, chunksize=(29754, 10), chunktype=numpy.ndarray>"
      ]
     },
     "execution_count": 21,
     "metadata": {},
     "output_type": "execute_result"
    }
   ],
   "source": [
    "X_train"
   ]
  },
  {
   "cell_type": "code",
   "execution_count": 22,
   "id": "3fcf1baa-ec35-4f28-8773-0efad3a89270",
   "metadata": {},
   "outputs": [],
   "source": [
    "lr = LinearRegression()"
   ]
  },
  {
   "cell_type": "code",
   "execution_count": 23,
   "id": "9251548c-89c0-4ab1-9278-f42c6b518a7e",
   "metadata": {
    "tags": []
   },
   "outputs": [
    {
     "name": "stdout",
     "output_type": "stream",
     "text": [
      "[########################################] | 100% Completed |  1.3s\n",
      "[########################################] | 100% Completed | 10.3s\n",
      "[########################################] | 100% Completed | 12.2s\n",
      "[########################################] | 100% Completed | 11.9s\n",
      "[########################################] | 100% Completed | 11.9s\n",
      "[########################################] | 100% Completed | 11.4s\n",
      "[########################################] | 100% Completed | 12.0s\n",
      "[########################################] | 100% Completed | 12.3s\n",
      "[########################################] | 100% Completed | 12.0s\n",
      "[########################################] | 100% Completed | 11.3s\n",
      "[########################################] | 100% Completed | 11.2s\n",
      "[########################################] | 100% Completed | 11.7s\n",
      "[########################################] | 100% Completed | 12.4s\n",
      "[########################################] | 100% Completed | 12.0s\n",
      "[########################################] | 100% Completed | 11.5s\n",
      "[########################################] | 100% Completed | 11.8s\n",
      "[########################################] | 100% Completed | 11.0s\n",
      "[########################################] | 100% Completed | 12.4s\n",
      "[########################################] | 100% Completed | 11.9s\n",
      "[########################################] | 100% Completed | 12.2s\n",
      "[########################################] | 100% Completed | 12.7s\n",
      "[########################################] | 100% Completed | 12.5s\n",
      "[########################################] | 100% Completed | 12.5s\n",
      "[########################################] | 100% Completed | 12.1s\n",
      "[########################################] | 100% Completed | 11.8s\n",
      "[########################################] | 100% Completed | 12.3s\n",
      "[########################################] | 100% Completed | 11.7s\n",
      "[########################################] | 100% Completed | 12.5s\n",
      "[########################################] | 100% Completed | 12.4s\n",
      "[########################################] | 100% Completed | 11.6s\n",
      "[########################################] | 100% Completed | 12.4s\n",
      "[########################################] | 100% Completed | 11.7s\n",
      "[########################################] | 100% Completed | 12.1s\n",
      "[########################################] | 100% Completed | 12.3s\n",
      "[########################################] | 100% Completed | 11.4s\n",
      "[########################################] | 100% Completed | 11.9s\n",
      "[########################################] | 100% Completed | 11.7s\n",
      "[########################################] | 100% Completed | 12.0s\n",
      "[########################################] | 100% Completed | 11.9s\n",
      "[########################################] | 100% Completed | 12.0s\n",
      "[########################################] | 100% Completed | 12.2s\n",
      "[########################################] | 100% Completed | 12.4s\n",
      "[########################################] | 100% Completed | 11.4s\n",
      "[########################################] | 100% Completed | 12.2s\n",
      "[########################################] | 100% Completed | 12.1s\n",
      "[########################################] | 100% Completed | 11.0s\n",
      "[########################################] | 100% Completed | 11.5s\n",
      "[########################################] | 100% Completed | 12.1s\n",
      "[########################################] | 100% Completed | 11.6s\n",
      "[########################################] | 100% Completed | 11.2s\n",
      "[########################################] | 100% Completed | 11.4s\n",
      "[########################################] | 100% Completed | 12.1s\n",
      "[########################################] | 100% Completed | 11.7s\n",
      "[########################################] | 100% Completed | 12.2s\n",
      "[########################################] | 100% Completed | 12.4s\n",
      "[########################################] | 100% Completed | 11.4s\n",
      "[########################################] | 100% Completed | 11.6s\n",
      "[########################################] | 100% Completed | 13.0s\n",
      "[########################################] | 100% Completed | 11.1s\n",
      "[########################################] | 100% Completed | 12.2s\n",
      "[########################################] | 100% Completed | 12.3s\n",
      "[########################################] | 100% Completed | 11.7s\n",
      "[########################################] | 100% Completed | 12.2s\n",
      "[########################################] | 100% Completed | 12.4s\n",
      "[########################################] | 100% Completed | 10.8s\n",
      "[########################################] | 100% Completed | 11.8s\n",
      "[########################################] | 100% Completed | 11.8s\n",
      "[########################################] | 100% Completed | 11.6s\n",
      "[########################################] | 100% Completed | 12.1s\n",
      "[########################################] | 100% Completed | 12.0s\n",
      "[########################################] | 100% Completed | 11.7s\n",
      "[########################################] | 100% Completed | 12.5s\n",
      "[########################################] | 100% Completed | 12.2s\n",
      "[########################################] | 100% Completed | 11.6s\n",
      "[########################################] | 100% Completed | 11.1s\n",
      "[########################################] | 100% Completed | 12.0s\n",
      "[########################################] | 100% Completed | 12.5s\n",
      "[########################################] | 100% Completed | 11.9s\n",
      "[########################################] | 100% Completed | 12.4s\n",
      "[########################################] | 100% Completed | 11.3s\n",
      "[########################################] | 100% Completed | 12.1s\n",
      "[########################################] | 100% Completed | 12.4s\n",
      "[########################################] | 100% Completed | 12.2s\n",
      "[########################################] | 100% Completed | 12.1s\n",
      "[########################################] | 100% Completed | 11.0s\n",
      "[########################################] | 100% Completed | 11.6s\n",
      "[########################################] | 100% Completed | 12.1s\n",
      "[########################################] | 100% Completed | 12.1s\n",
      "[########################################] | 100% Completed | 11.7s\n",
      "[########################################] | 100% Completed | 11.7s\n",
      "[########################################] | 100% Completed | 11.9s\n",
      "[########################################] | 100% Completed | 11.8s\n",
      "[########################################] | 100% Completed | 11.4s\n",
      "[########################################] | 100% Completed | 12.2s\n",
      "[########################################] | 100% Completed | 11.2s\n",
      "[########################################] | 100% Completed | 11.9s\n",
      "[########################################] | 100% Completed | 12.6s\n",
      "[########################################] | 100% Completed | 12.5s\n",
      "[########################################] | 100% Completed | 11.7s\n",
      "[########################################] | 100% Completed | 11.4s\n",
      "[########################################] | 100% Completed | 11.4s\n"
     ]
    }
   ],
   "source": [
    "with ProgressBar():\n",
    "    lr.fit(X_train, y_train)"
   ]
  },
  {
   "cell_type": "code",
   "execution_count": 24,
   "id": "2ac959f0-3820-4ffe-a918-20208f740f69",
   "metadata": {},
   "outputs": [],
   "source": [
    "y_pred = lr.predict(X_test)"
   ]
  },
  {
   "cell_type": "code",
   "execution_count": 32,
   "id": "9d07ee9b-7150-4412-90d9-e5a334c182ad",
   "metadata": {},
   "outputs": [
    {
     "data": {
      "text/html": [
       "<table>\n",
       "    <tr>\n",
       "        <td>\n",
       "            <table>\n",
       "                <thead>\n",
       "                    <tr>\n",
       "                        <td> </td>\n",
       "                        <th> Array </th>\n",
       "                        <th> Chunk </th>\n",
       "                    </tr>\n",
       "                </thead>\n",
       "                <tbody>\n",
       "                    \n",
       "                    <tr>\n",
       "                        <th> Bytes </th>\n",
       "                        <td> 7.38 MiB </td>\n",
       "                        <td> 99.62 kiB </td>\n",
       "                    </tr>\n",
       "                    \n",
       "                    <tr>\n",
       "                        <th> Shape </th>\n",
       "                        <td> (967758,) </td>\n",
       "                        <td> (12752,) </td>\n",
       "                    </tr>\n",
       "                    <tr>\n",
       "                        <th> Count </th>\n",
       "                        <td> 761 Tasks </td>\n",
       "                        <td> 76 Chunks </td>\n",
       "                    </tr>\n",
       "                    <tr>\n",
       "                    <th> Type </th>\n",
       "                    <td> float64 </td>\n",
       "                    <td> numpy.ndarray </td>\n",
       "                    </tr>\n",
       "                </tbody>\n",
       "            </table>\n",
       "        </td>\n",
       "        <td>\n",
       "        <svg width=\"170\" height=\"75\" style=\"stroke:rgb(0,0,0);stroke-width:1\" >\n",
       "\n",
       "  <!-- Horizontal lines -->\n",
       "  <line x1=\"0\" y1=\"0\" x2=\"120\" y2=\"0\" style=\"stroke-width:2\" />\n",
       "  <line x1=\"0\" y1=\"25\" x2=\"120\" y2=\"25\" style=\"stroke-width:2\" />\n",
       "\n",
       "  <!-- Vertical lines -->\n",
       "  <line x1=\"0\" y1=\"0\" x2=\"0\" y2=\"25\" style=\"stroke-width:2\" />\n",
       "  <line x1=\"6\" y1=\"0\" x2=\"6\" y2=\"25\" />\n",
       "  <line x1=\"12\" y1=\"0\" x2=\"12\" y2=\"25\" />\n",
       "  <line x1=\"18\" y1=\"0\" x2=\"18\" y2=\"25\" />\n",
       "  <line x1=\"25\" y1=\"0\" x2=\"25\" y2=\"25\" />\n",
       "  <line x1=\"31\" y1=\"0\" x2=\"31\" y2=\"25\" />\n",
       "  <line x1=\"37\" y1=\"0\" x2=\"37\" y2=\"25\" />\n",
       "  <line x1=\"44\" y1=\"0\" x2=\"44\" y2=\"25\" />\n",
       "  <line x1=\"50\" y1=\"0\" x2=\"50\" y2=\"25\" />\n",
       "  <line x1=\"56\" y1=\"0\" x2=\"56\" y2=\"25\" />\n",
       "  <line x1=\"63\" y1=\"0\" x2=\"63\" y2=\"25\" />\n",
       "  <line x1=\"69\" y1=\"0\" x2=\"69\" y2=\"25\" />\n",
       "  <line x1=\"75\" y1=\"0\" x2=\"75\" y2=\"25\" />\n",
       "  <line x1=\"82\" y1=\"0\" x2=\"82\" y2=\"25\" />\n",
       "  <line x1=\"88\" y1=\"0\" x2=\"88\" y2=\"25\" />\n",
       "  <line x1=\"94\" y1=\"0\" x2=\"94\" y2=\"25\" />\n",
       "  <line x1=\"101\" y1=\"0\" x2=\"101\" y2=\"25\" />\n",
       "  <line x1=\"107\" y1=\"0\" x2=\"107\" y2=\"25\" />\n",
       "  <line x1=\"113\" y1=\"0\" x2=\"113\" y2=\"25\" />\n",
       "  <line x1=\"120\" y1=\"0\" x2=\"120\" y2=\"25\" style=\"stroke-width:2\" />\n",
       "\n",
       "  <!-- Colored Rectangle -->\n",
       "  <polygon points=\"0.0,0.0 120.0,0.0 120.0,25.412616514582485 0.0,25.412616514582485\" style=\"fill:#8B4903A0;stroke-width:0\"/>\n",
       "\n",
       "  <!-- Text -->\n",
       "  <text x=\"60.000000\" y=\"45.412617\" font-size=\"1.0rem\" font-weight=\"100\" text-anchor=\"middle\" >967758</text>\n",
       "  <text x=\"140.000000\" y=\"12.706308\" font-size=\"1.0rem\" font-weight=\"100\" text-anchor=\"middle\" transform=\"rotate(0,140.000000,12.706308)\">1</text>\n",
       "</svg>\n",
       "        </td>\n",
       "    </tr>\n",
       "</table>"
      ],
      "text/plain": [
       "dask.array<tensordot, shape=(967758,), dtype=float64, chunksize=(12752,), chunktype=numpy.ndarray>"
      ]
     },
     "execution_count": 32,
     "metadata": {},
     "output_type": "execute_result"
    }
   ],
   "source": [
    "y_pred"
   ]
  },
  {
   "cell_type": "code",
   "execution_count": 25,
   "id": "4dd1fa07-dfbb-453c-97f5-d48806a15d4b",
   "metadata": {},
   "outputs": [],
   "source": [
    "y_pred_df = y_pred.to_dask_dataframe()"
   ]
  },
  {
   "cell_type": "code",
   "execution_count": 26,
   "id": "17285cc6-1880-4dc3-92e1-90193191bdc1",
   "metadata": {},
   "outputs": [
    {
     "data": {
      "text/plain": [
       "0    13.470033\n",
       "1    14.790290\n",
       "2    16.708427\n",
       "3    12.621100\n",
       "4    13.936094\n",
       "dtype: float64"
      ]
     },
     "execution_count": 26,
     "metadata": {},
     "output_type": "execute_result"
    }
   ],
   "source": [
    "y_pred_df.head()"
   ]
  },
  {
   "cell_type": "code",
   "execution_count": 27,
   "id": "8f3a0362-6274-4534-8bd9-3518b9dc9b56",
   "metadata": {},
   "outputs": [
    {
     "data": {
      "text/html": [
       "<table>\n",
       "    <tr>\n",
       "        <td>\n",
       "            <table>\n",
       "                <thead>\n",
       "                    <tr>\n",
       "                        <td> </td>\n",
       "                        <th> Array </th>\n",
       "                        <th> Chunk </th>\n",
       "                    </tr>\n",
       "                </thead>\n",
       "                <tbody>\n",
       "                    \n",
       "                    <tr>\n",
       "                        <th> Bytes </th>\n",
       "                        <td> 7.38 MiB </td>\n",
       "                        <td> 99.62 kiB </td>\n",
       "                    </tr>\n",
       "                    \n",
       "                    <tr>\n",
       "                        <th> Shape </th>\n",
       "                        <td> (967758,) </td>\n",
       "                        <td> (12752,) </td>\n",
       "                    </tr>\n",
       "                    <tr>\n",
       "                        <th> Count </th>\n",
       "                        <td> 608 Tasks </td>\n",
       "                        <td> 76 Chunks </td>\n",
       "                    </tr>\n",
       "                    <tr>\n",
       "                    <th> Type </th>\n",
       "                    <td> float64 </td>\n",
       "                    <td> numpy.ndarray </td>\n",
       "                    </tr>\n",
       "                </tbody>\n",
       "            </table>\n",
       "        </td>\n",
       "        <td>\n",
       "        <svg width=\"170\" height=\"75\" style=\"stroke:rgb(0,0,0);stroke-width:1\" >\n",
       "\n",
       "  <!-- Horizontal lines -->\n",
       "  <line x1=\"0\" y1=\"0\" x2=\"120\" y2=\"0\" style=\"stroke-width:2\" />\n",
       "  <line x1=\"0\" y1=\"25\" x2=\"120\" y2=\"25\" style=\"stroke-width:2\" />\n",
       "\n",
       "  <!-- Vertical lines -->\n",
       "  <line x1=\"0\" y1=\"0\" x2=\"0\" y2=\"25\" style=\"stroke-width:2\" />\n",
       "  <line x1=\"6\" y1=\"0\" x2=\"6\" y2=\"25\" />\n",
       "  <line x1=\"12\" y1=\"0\" x2=\"12\" y2=\"25\" />\n",
       "  <line x1=\"18\" y1=\"0\" x2=\"18\" y2=\"25\" />\n",
       "  <line x1=\"25\" y1=\"0\" x2=\"25\" y2=\"25\" />\n",
       "  <line x1=\"31\" y1=\"0\" x2=\"31\" y2=\"25\" />\n",
       "  <line x1=\"37\" y1=\"0\" x2=\"37\" y2=\"25\" />\n",
       "  <line x1=\"44\" y1=\"0\" x2=\"44\" y2=\"25\" />\n",
       "  <line x1=\"50\" y1=\"0\" x2=\"50\" y2=\"25\" />\n",
       "  <line x1=\"56\" y1=\"0\" x2=\"56\" y2=\"25\" />\n",
       "  <line x1=\"63\" y1=\"0\" x2=\"63\" y2=\"25\" />\n",
       "  <line x1=\"69\" y1=\"0\" x2=\"69\" y2=\"25\" />\n",
       "  <line x1=\"75\" y1=\"0\" x2=\"75\" y2=\"25\" />\n",
       "  <line x1=\"82\" y1=\"0\" x2=\"82\" y2=\"25\" />\n",
       "  <line x1=\"88\" y1=\"0\" x2=\"88\" y2=\"25\" />\n",
       "  <line x1=\"94\" y1=\"0\" x2=\"94\" y2=\"25\" />\n",
       "  <line x1=\"101\" y1=\"0\" x2=\"101\" y2=\"25\" />\n",
       "  <line x1=\"107\" y1=\"0\" x2=\"107\" y2=\"25\" />\n",
       "  <line x1=\"113\" y1=\"0\" x2=\"113\" y2=\"25\" />\n",
       "  <line x1=\"120\" y1=\"0\" x2=\"120\" y2=\"25\" style=\"stroke-width:2\" />\n",
       "\n",
       "  <!-- Colored Rectangle -->\n",
       "  <polygon points=\"0.0,0.0 120.0,0.0 120.0,25.412616514582485 0.0,25.412616514582485\" style=\"fill:#8B4903A0;stroke-width:0\"/>\n",
       "\n",
       "  <!-- Text -->\n",
       "  <text x=\"60.000000\" y=\"45.412617\" font-size=\"1.0rem\" font-weight=\"100\" text-anchor=\"middle\" >967758</text>\n",
       "  <text x=\"140.000000\" y=\"12.706308\" font-size=\"1.0rem\" font-weight=\"100\" text-anchor=\"middle\" transform=\"rotate(0,140.000000,12.706308)\">1</text>\n",
       "</svg>\n",
       "        </td>\n",
       "    </tr>\n",
       "</table>"
      ],
      "text/plain": [
       "dask.array<concatenate, shape=(967758,), dtype=float64, chunksize=(12752,), chunktype=numpy.ndarray>"
      ]
     },
     "execution_count": 27,
     "metadata": {},
     "output_type": "execute_result"
    }
   ],
   "source": [
    "y_test.compute_chunk_sizes()"
   ]
  },
  {
   "cell_type": "code",
   "execution_count": 28,
   "id": "1824cc06-9144-4735-987b-42b00f72b81b",
   "metadata": {},
   "outputs": [
    {
     "data": {
      "text/plain": [
       "0    14.19\n",
       "1    20.04\n",
       "2    16.28\n",
       "3     3.47\n",
       "4     9.75\n",
       "dtype: float64"
      ]
     },
     "execution_count": 28,
     "metadata": {},
     "output_type": "execute_result"
    }
   ],
   "source": [
    "y_test_df = y_test.to_dask_dataframe()\n",
    "y_test_df.head()"
   ]
  },
  {
   "cell_type": "code",
   "execution_count": 29,
   "id": "d6a0b95b-0246-40c3-b2dc-3047a46485ac",
   "metadata": {},
   "outputs": [
    {
     "data": {
      "text/plain": [
       "0.6325708831502763"
      ]
     },
     "execution_count": 29,
     "metadata": {},
     "output_type": "execute_result"
    }
   ],
   "source": [
    "lr.score(X_test, y_test)"
   ]
  },
  {
   "cell_type": "code",
   "execution_count": 30,
   "id": "4d75e2ee-0a1f-45de-851d-71dd2c232f7f",
   "metadata": {},
   "outputs": [
    {
     "data": {
      "text/plain": [
       "2.3587257394940804"
      ]
     },
     "execution_count": 30,
     "metadata": {},
     "output_type": "execute_result"
    }
   ],
   "source": [
    "mean_absolute_error(y_test, y_pred)"
   ]
  },
  {
   "cell_type": "code",
   "execution_count": null,
   "id": "39560262-47b1-4f88-8902-fa2706dac96c",
   "metadata": {},
   "outputs": [],
   "source": []
  }
 ],
 "metadata": {
  "kernelspec": {
   "display_name": "Python 3",
   "language": "python",
   "name": "python3"
  },
  "language_info": {
   "codemirror_mode": {
    "name": "ipython",
    "version": 3
   },
   "file_extension": ".py",
   "mimetype": "text/x-python",
   "name": "python",
   "nbconvert_exporter": "python",
   "pygments_lexer": "ipython3",
   "version": "3.8.8"
  }
 },
 "nbformat": 4,
 "nbformat_minor": 5
}

{
 "cells": [
  {
   "cell_type": "markdown",
   "id": "4ad3e2f5-afe3-47f4-b680-510556ea00e8",
   "metadata": {},
   "source": [
    "# k-vecinos más cercanos versión 2"
   ]
  },
  {
   "cell_type": "code",
   "execution_count": 1,
   "id": "42d1be66-7dd0-4a2e-b718-a233c28035da",
   "metadata": {},
   "outputs": [],
   "source": [
    "import os\n",
    "import path\n",
    "import zipfile\n",
    "import numpy as np\n",
    "import pandas as pd\n",
    "from sklearn.model_selection import GridSearchCV, train_test_split, cross_val_score\n",
    "from sklearn.preprocessing import LabelEncoder, MinMaxScaler\n",
    "from sklearn.neighbors import KNeighborsClassifier\n",
    "from sklearn.metrics import plot_confusion_matrix, precision_score, classification_report, recall_score, f1_score\n",
    "import matplotlib.pyplot as plt\n",
    "import seaborn as sns"
   ]
  },
  {
   "cell_type": "code",
   "execution_count": 2,
   "id": "0380c2bd-b1c4-4a9a-9ce6-4da023d91525",
   "metadata": {},
   "outputs": [],
   "source": [
    "Path = \"/home/michell21/Datasets/\" #Puede cambiar de acuerdo al usuario"
   ]
  },
  {
   "cell_type": "markdown",
   "id": "0259002a-60c3-44c0-903a-d07832bcdd62",
   "metadata": {},
   "source": [
    "Instalar las siguientes librerías para leer el archivo\n",
    "\n",
    "- conda install xlrd\n",
    "- conda install openpyxl"
   ]
  },
  {
   "cell_type": "code",
   "execution_count": 3,
   "id": "30be36be-45f4-4dc0-a205-d4704402bc0c",
   "metadata": {},
   "outputs": [],
   "source": [
    "read = pd.read_excel(Path+'Pozos_Michoacan.xlsx')"
   ]
  },
  {
   "cell_type": "code",
   "execution_count": 4,
   "id": "7bf976df-29d5-4203-8772-9d46e5f84fef",
   "metadata": {},
   "outputs": [],
   "source": [
    "pozos = pd.DataFrame(pd.read_excel(Path+'Pozos_Michoacan.xlsx'))"
   ]
  },
  {
   "cell_type": "code",
   "execution_count": 5,
   "id": "186208aa-9660-4061-a548-7502c9469288",
   "metadata": {},
   "outputs": [
    {
     "data": {
      "text/html": [
       "<div>\n",
       "<style scoped>\n",
       "    .dataframe tbody tr th:only-of-type {\n",
       "        vertical-align: middle;\n",
       "    }\n",
       "\n",
       "    .dataframe tbody tr th {\n",
       "        vertical-align: top;\n",
       "    }\n",
       "\n",
       "    .dataframe thead th {\n",
       "        text-align: right;\n",
       "    }\n",
       "</style>\n",
       "<table border=\"1\" class=\"dataframe\">\n",
       "  <thead>\n",
       "    <tr style=\"text-align: right;\">\n",
       "      <th></th>\n",
       "      <th>#</th>\n",
       "      <th>Título</th>\n",
       "      <th>Latitud</th>\n",
       "      <th>Longitud</th>\n",
       "      <th>Estado</th>\n",
       "      <th>Municipio</th>\n",
       "      <th>RegiónHidrológica</th>\n",
       "      <th>Cuenca</th>\n",
       "      <th>AcuíferoHomologado</th>\n",
       "      <th>Volumen (m3/año)</th>\n",
       "      <th>Uso</th>\n",
       "    </tr>\n",
       "  </thead>\n",
       "  <tbody>\n",
       "    <tr>\n",
       "      <th>0</th>\n",
       "      <td>1</td>\n",
       "      <td>837156</td>\n",
       "      <td>19°58'36.0006\"</td>\n",
       "      <td>-101°16'41.0007\"</td>\n",
       "      <td>MICHOACÁN DE OCAMPO</td>\n",
       "      <td>HUANDACAREO</td>\n",
       "      <td>LERMA-SANTIAGO</td>\n",
       "      <td>188</td>\n",
       "      <td>1602  - MORELIA-QUERENDARO</td>\n",
       "      <td>22800.0</td>\n",
       "      <td>AGRICOLA</td>\n",
       "    </tr>\n",
       "    <tr>\n",
       "      <th>1</th>\n",
       "      <td>2</td>\n",
       "      <td>836988</td>\n",
       "      <td>19°59'22.0004\"</td>\n",
       "      <td>-101°16'30.0003\"</td>\n",
       "      <td>MICHOACÁN DE OCAMPO</td>\n",
       "      <td>HUANDACAREO</td>\n",
       "      <td>LERMA-SANTIAGO</td>\n",
       "      <td>188</td>\n",
       "      <td>1602  - MORELIA-QUERENDARO</td>\n",
       "      <td>9000.0</td>\n",
       "      <td>AGRICOLA</td>\n",
       "    </tr>\n",
       "    <tr>\n",
       "      <th>2</th>\n",
       "      <td>3</td>\n",
       "      <td>836992</td>\n",
       "      <td>20°02'22.0006\"</td>\n",
       "      <td>-101°09'00.0005\"</td>\n",
       "      <td>MICHOACÁN DE OCAMPO</td>\n",
       "      <td>CUITZEO</td>\n",
       "      <td>LERMA-SANTIAGO</td>\n",
       "      <td>188</td>\n",
       "      <td>1602  - MORELIA-QUERENDARO</td>\n",
       "      <td>20020.0</td>\n",
       "      <td>AGRICOLA</td>\n",
       "    </tr>\n",
       "    <tr>\n",
       "      <th>3</th>\n",
       "      <td>4</td>\n",
       "      <td>836822</td>\n",
       "      <td>20°01'50.0005\"</td>\n",
       "      <td>-101°09'38.0006\"</td>\n",
       "      <td>MICHOACÁN DE OCAMPO</td>\n",
       "      <td>CUITZEO</td>\n",
       "      <td>LERMA-SANTIAGO</td>\n",
       "      <td>188</td>\n",
       "      <td>1602  - MORELIA-QUERENDARO</td>\n",
       "      <td>6000.0</td>\n",
       "      <td>AGRICOLA</td>\n",
       "    </tr>\n",
       "    <tr>\n",
       "      <th>4</th>\n",
       "      <td>5</td>\n",
       "      <td>835739</td>\n",
       "      <td>19°49'11.0005\"</td>\n",
       "      <td>-101°08'37.0006\"</td>\n",
       "      <td>MICHOACÁN DE OCAMPO</td>\n",
       "      <td>TARÍMBARO</td>\n",
       "      <td>LERMA-SANTIAGO</td>\n",
       "      <td>188</td>\n",
       "      <td>1602  - MORELIA-QUERENDARO</td>\n",
       "      <td>30000.0</td>\n",
       "      <td>SERVICIOS</td>\n",
       "    </tr>\n",
       "  </tbody>\n",
       "</table>\n",
       "</div>"
      ],
      "text/plain": [
       "   #  Título         Latitud          Longitud               Estado  \\\n",
       "0  1  837156  19°58'36.0006\"  -101°16'41.0007\"  MICHOACÁN DE OCAMPO   \n",
       "1  2  836988  19°59'22.0004\"  -101°16'30.0003\"  MICHOACÁN DE OCAMPO   \n",
       "2  3  836992  20°02'22.0006\"  -101°09'00.0005\"  MICHOACÁN DE OCAMPO   \n",
       "3  4  836822  20°01'50.0005\"  -101°09'38.0006\"  MICHOACÁN DE OCAMPO   \n",
       "4  5  835739  19°49'11.0005\"  -101°08'37.0006\"  MICHOACÁN DE OCAMPO   \n",
       "\n",
       "     Municipio RegiónHidrológica  Cuenca          AcuíferoHomologado  \\\n",
       "0  HUANDACAREO    LERMA-SANTIAGO     188  1602  - MORELIA-QUERENDARO   \n",
       "1  HUANDACAREO    LERMA-SANTIAGO     188  1602  - MORELIA-QUERENDARO   \n",
       "2      CUITZEO    LERMA-SANTIAGO     188  1602  - MORELIA-QUERENDARO   \n",
       "3      CUITZEO    LERMA-SANTIAGO     188  1602  - MORELIA-QUERENDARO   \n",
       "4    TARÍMBARO    LERMA-SANTIAGO     188  1602  - MORELIA-QUERENDARO   \n",
       "\n",
       "   Volumen (m3/año)        Uso  \n",
       "0           22800.0   AGRICOLA  \n",
       "1            9000.0   AGRICOLA  \n",
       "2           20020.0   AGRICOLA  \n",
       "3            6000.0   AGRICOLA  \n",
       "4           30000.0  SERVICIOS  "
      ]
     },
     "execution_count": 5,
     "metadata": {},
     "output_type": "execute_result"
    }
   ],
   "source": [
    "pozos.head()"
   ]
  },
  {
   "cell_type": "code",
   "execution_count": 28,
   "id": "53a7210e-ed62-4795-b9b6-aa9f2cfd5955",
   "metadata": {},
   "outputs": [
    {
     "name": "stdout",
     "output_type": "stream",
     "text": [
      "<class 'pandas.core.frame.DataFrame'>\n",
      "RangeIndex: 1363 entries, 0 to 1362\n",
      "Data columns (total 11 columns):\n",
      " #   Column              Non-Null Count  Dtype  \n",
      "---  ------              --------------  -----  \n",
      " 0   #                   1363 non-null   int64  \n",
      " 1   Título              1363 non-null   object \n",
      " 2   Latitud             1363 non-null   object \n",
      " 3   Longitud            1363 non-null   object \n",
      " 4   Estado              1363 non-null   object \n",
      " 5   Municipio           1363 non-null   object \n",
      " 6   RegiónHidrológica   1363 non-null   object \n",
      " 7   Cuenca              1363 non-null   int64  \n",
      " 8   AcuíferoHomologado  1363 non-null   object \n",
      " 9   Volumen (m3/año)    1363 non-null   float64\n",
      " 10  Uso                 1363 non-null   object \n",
      "dtypes: float64(1), int64(2), object(8)\n",
      "memory usage: 117.3+ KB\n"
     ]
    }
   ],
   "source": [
    "pozos.info()"
   ]
  },
  {
   "cell_type": "code",
   "execution_count": 5,
   "id": "55a3ed8a-40e7-4b8d-aa45-d2bd04688633",
   "metadata": {},
   "outputs": [
    {
     "data": {
      "text/html": [
       "<div>\n",
       "<style scoped>\n",
       "    .dataframe tbody tr th:only-of-type {\n",
       "        vertical-align: middle;\n",
       "    }\n",
       "\n",
       "    .dataframe tbody tr th {\n",
       "        vertical-align: top;\n",
       "    }\n",
       "\n",
       "    .dataframe thead th {\n",
       "        text-align: right;\n",
       "    }\n",
       "</style>\n",
       "<table border=\"1\" class=\"dataframe\">\n",
       "  <thead>\n",
       "    <tr style=\"text-align: right;\">\n",
       "      <th></th>\n",
       "      <th>#</th>\n",
       "      <th>Cuenca</th>\n",
       "      <th>Volumen (m3/año)</th>\n",
       "    </tr>\n",
       "  </thead>\n",
       "  <tbody>\n",
       "    <tr>\n",
       "      <th>count</th>\n",
       "      <td>1363.00000</td>\n",
       "      <td>1363.000000</td>\n",
       "      <td>1.363000e+03</td>\n",
       "    </tr>\n",
       "    <tr>\n",
       "      <th>mean</th>\n",
       "      <td>682.00000</td>\n",
       "      <td>28.546588</td>\n",
       "      <td>1.558366e+05</td>\n",
       "    </tr>\n",
       "    <tr>\n",
       "      <th>std</th>\n",
       "      <td>393.60852</td>\n",
       "      <td>67.485278</td>\n",
       "      <td>3.884465e+05</td>\n",
       "    </tr>\n",
       "    <tr>\n",
       "      <th>min</th>\n",
       "      <td>1.00000</td>\n",
       "      <td>0.000000</td>\n",
       "      <td>0.000000e+00</td>\n",
       "    </tr>\n",
       "    <tr>\n",
       "      <th>25%</th>\n",
       "      <td>341.50000</td>\n",
       "      <td>0.000000</td>\n",
       "      <td>1.500000e+04</td>\n",
       "    </tr>\n",
       "    <tr>\n",
       "      <th>50%</th>\n",
       "      <td>682.00000</td>\n",
       "      <td>0.000000</td>\n",
       "      <td>4.668000e+04</td>\n",
       "    </tr>\n",
       "    <tr>\n",
       "      <th>75%</th>\n",
       "      <td>1022.50000</td>\n",
       "      <td>0.000000</td>\n",
       "      <td>1.621800e+05</td>\n",
       "    </tr>\n",
       "    <tr>\n",
       "      <th>max</th>\n",
       "      <td>1363.00000</td>\n",
       "      <td>188.000000</td>\n",
       "      <td>1.103760e+07</td>\n",
       "    </tr>\n",
       "  </tbody>\n",
       "</table>\n",
       "</div>"
      ],
      "text/plain": [
       "                #       Cuenca  Volumen (m3/año)\n",
       "count  1363.00000  1363.000000      1.363000e+03\n",
       "mean    682.00000    28.546588      1.558366e+05\n",
       "std     393.60852    67.485278      3.884465e+05\n",
       "min       1.00000     0.000000      0.000000e+00\n",
       "25%     341.50000     0.000000      1.500000e+04\n",
       "50%     682.00000     0.000000      4.668000e+04\n",
       "75%    1022.50000     0.000000      1.621800e+05\n",
       "max    1363.00000   188.000000      1.103760e+07"
      ]
     },
     "execution_count": 5,
     "metadata": {},
     "output_type": "execute_result"
    }
   ],
   "source": [
    "pozos.describe()"
   ]
  },
  {
   "cell_type": "markdown",
   "id": "0649df31-3082-4273-8272-247d9f44b945",
   "metadata": {},
   "source": [
    "Como no hay registros vacios, se procede a trabajar con los datos. Lo primero será borrar la columna # "
   ]
  },
  {
   "cell_type": "markdown",
   "id": "5622fd1f-f4d2-4379-a290-c9075502aa11",
   "metadata": {},
   "source": [
    "# Visualización de Datos"
   ]
  },
  {
   "cell_type": "code",
   "execution_count": 6,
   "id": "062963f6-2e7f-44be-a6ae-3cac7e9191bd",
   "metadata": {},
   "outputs": [
    {
     "data": {
      "text/plain": [
       "<seaborn.axisgrid.FacetGrid at 0x7f904c144670>"
      ]
     },
     "execution_count": 6,
     "metadata": {},
     "output_type": "execute_result"
    },
    {
     "data": {
      "image/png": "[encoded data removed]",
      "text/plain": [
       "<Figure size 360x360 with 1 Axes>"
      ]
     },
     "metadata": {
      "needs_background": "light"
     },
     "output_type": "display_data"
    }
   ],
   "source": [
    "sns.displot(pozos['Uso'], palette=\"rocket\")"
   ]
  },
  {
   "cell_type": "code",
   "execution_count": 7,
   "id": "68b3557b-828d-466c-ba2d-2f0a4de9320b",
   "metadata": {},
   "outputs": [
    {
     "data": {
      "text/plain": [
       "<seaborn.axisgrid.FacetGrid at 0x7f9018bb5100>"
      ]
     },
     "execution_count": 7,
     "metadata": {},
     "output_type": "execute_result"
    },
    {
     "data": {
      "image/png": "[encoded data removed]",
      "text/plain": [
       "<Figure size 360x360 with 1 Axes>"
      ]
     },
     "metadata": {
      "needs_background": "light"
     },
     "output_type": "display_data"
    }
   ],
   "source": [
    "sns.displot(pozos['Municipio'], palette=\"rocket\")"
   ]
  },
  {
   "cell_type": "code",
   "execution_count": 5,
   "id": "1a301f7e-e568-437a-a138-0630f6b0884f",
   "metadata": {},
   "outputs": [],
   "source": [
    "pozos.drop(['#', 'Estado', \"Título\"], axis = 1, inplace = True) #Eliminamos estos dos ya que no aportan información"
   ]
  },
  {
   "cell_type": "code",
   "execution_count": 6,
   "id": "3c3bd4c5-6807-45f2-8fcd-dac888cf4b12",
   "metadata": {},
   "outputs": [],
   "source": [
    "def grad2float(datos, id1,id2):\n",
    "    characters = '°\\'\"'\n",
    "    lista = []\n",
    "    for i in datos:\n",
    "        i = ''.join( x for x in i if x not in characters)\n",
    "        if i[0] == '-':\n",
    "            a = -1*(3600*float(i[1:id1]) + 60*float(i[id1:id2]) + float(i[id2:])) #Para longitud\n",
    "        else:\n",
    "            a = 3600*float(i[:id1]) + 60*float(i[id1:id2]) + float(i[id2:])\n",
    "        #a = 3600*float(i[:4]) + 60*float(i[4:6]) + float(i[6:]) #Para latitud\n",
    "        lista.append(float(a))\n",
    "    return lista"
   ]
  },
  {
   "cell_type": "code",
   "execution_count": 7,
   "id": "e9696b95-578d-49a7-83c9-35077b1f637c",
   "metadata": {},
   "outputs": [],
   "source": [
    "pozos['Latitud'] = grad2float(pozos['Latitud'], 2, 4)\n",
    "pozos['Longitud'] = grad2float(pozos['Longitud'], 4, 6)"
   ]
  },
  {
   "cell_type": "code",
   "execution_count": 8,
   "id": "18fc791b-5046-4f90-9674-76f18cd82b0b",
   "metadata": {},
   "outputs": [
    {
     "data": {
      "text/plain": [
       "AGRICOLA           745\n",
       "PUBLICO URBANO     296\n",
       "INDUSTRIAL         107\n",
       "DIFERENTES USOS     91\n",
       "SERVICIOS           87\n",
       "DOMESTICO           23\n",
       "PECUARIO            11\n",
       "ACUACULTURA          2\n",
       "AGROINDUSTIAL        1\n",
       "Name: Uso, dtype: int64"
      ]
     },
     "execution_count": 8,
     "metadata": {},
     "output_type": "execute_result"
    }
   ],
   "source": [
    "pozos['Uso'].value_counts()  #No unir a Diferentes usos"
   ]
  },
  {
   "cell_type": "code",
   "execution_count": 84,
   "id": "fb033211-3e1e-4c3a-82ca-322188ea5220",
   "metadata": {
    "tags": []
   },
   "outputs": [
    {
     "data": {
      "text/plain": [
       "1602 - MORELIA-QUERENDARO       1335\n",
       "1610 - CIUDAD HIDALGO-TUXPAN      28\n",
       "Name: AcuíferoHomologado, dtype: int64"
      ]
     },
     "execution_count": 84,
     "metadata": {},
     "output_type": "execute_result"
    }
   ],
   "source": [
    "pozos['AcuíferoHomologado'].value_counts()  #Eliminar"
   ]
  },
  {
   "cell_type": "code",
   "execution_count": 9,
   "id": "15ddde78-012a-4234-b6b1-2eed329b726a",
   "metadata": {},
   "outputs": [
    {
     "data": {
      "text/html": [
       "<div>\n",
       "<style scoped>\n",
       "    .dataframe tbody tr th:only-of-type {\n",
       "        vertical-align: middle;\n",
       "    }\n",
       "\n",
       "    .dataframe tbody tr th {\n",
       "        vertical-align: top;\n",
       "    }\n",
       "\n",
       "    .dataframe thead th {\n",
       "        text-align: right;\n",
       "    }\n",
       "</style>\n",
       "<table border=\"1\" class=\"dataframe\">\n",
       "  <thead>\n",
       "    <tr style=\"text-align: right;\">\n",
       "      <th></th>\n",
       "      <th>Latitud</th>\n",
       "      <th>Longitud</th>\n",
       "      <th>Municipio</th>\n",
       "      <th>RegiónHidrológica</th>\n",
       "      <th>Cuenca</th>\n",
       "      <th>AcuíferoHomologado</th>\n",
       "      <th>Volumen (m3/año)</th>\n",
       "      <th>Uso</th>\n",
       "    </tr>\n",
       "  </thead>\n",
       "  <tbody>\n",
       "    <tr>\n",
       "      <th>280</th>\n",
       "      <td>71665.0</td>\n",
       "      <td>-363020.0</td>\n",
       "      <td>ZINAPÉCUARO</td>\n",
       "      <td>LERMA-SANTIAGO</td>\n",
       "      <td>0</td>\n",
       "      <td>1602  - MORELIA-QUERENDARO</td>\n",
       "      <td>30000.0</td>\n",
       "      <td>ACUACULTURA</td>\n",
       "    </tr>\n",
       "    <tr>\n",
       "      <th>1302</th>\n",
       "      <td>71663.0</td>\n",
       "      <td>-364157.0</td>\n",
       "      <td>CUITZEO</td>\n",
       "      <td>LERMA-SANTIAGO</td>\n",
       "      <td>0</td>\n",
       "      <td>1602  - MORELIA-QUERENDARO</td>\n",
       "      <td>15000.0</td>\n",
       "      <td>ACUACULTURA</td>\n",
       "    </tr>\n",
       "  </tbody>\n",
       "</table>\n",
       "</div>"
      ],
      "text/plain": [
       "      Latitud  Longitud    Municipio RegiónHidrológica  Cuenca  \\\n",
       "280   71665.0 -363020.0  ZINAPÉCUARO    LERMA-SANTIAGO       0   \n",
       "1302  71663.0 -364157.0      CUITZEO    LERMA-SANTIAGO       0   \n",
       "\n",
       "              AcuíferoHomologado  Volumen (m3/año)          Uso  \n",
       "280   1602  - MORELIA-QUERENDARO           30000.0  ACUACULTURA  \n",
       "1302  1602  - MORELIA-QUERENDARO           15000.0  ACUACULTURA  "
      ]
     },
     "execution_count": 9,
     "metadata": {},
     "output_type": "execute_result"
    }
   ],
   "source": [
    "pozos[pozos['Uso'] == 'ACUACULTURA']"
   ]
  },
  {
   "cell_type": "code",
   "execution_count": 10,
   "id": "bb7eb15e-ee01-4727-86bd-12ce42bc03f9",
   "metadata": {},
   "outputs": [
    {
     "data": {
      "text/html": [
       "<div>\n",
       "<style scoped>\n",
       "    .dataframe tbody tr th:only-of-type {\n",
       "        vertical-align: middle;\n",
       "    }\n",
       "\n",
       "    .dataframe tbody tr th {\n",
       "        vertical-align: top;\n",
       "    }\n",
       "\n",
       "    .dataframe thead th {\n",
       "        text-align: right;\n",
       "    }\n",
       "</style>\n",
       "<table border=\"1\" class=\"dataframe\">\n",
       "  <thead>\n",
       "    <tr style=\"text-align: right;\">\n",
       "      <th></th>\n",
       "      <th>Latitud</th>\n",
       "      <th>Longitud</th>\n",
       "      <th>Municipio</th>\n",
       "      <th>RegiónHidrológica</th>\n",
       "      <th>Cuenca</th>\n",
       "      <th>AcuíferoHomologado</th>\n",
       "      <th>Volumen (m3/año)</th>\n",
       "      <th>Uso</th>\n",
       "    </tr>\n",
       "  </thead>\n",
       "  <tbody>\n",
       "    <tr>\n",
       "      <th>941</th>\n",
       "      <td>72255.0</td>\n",
       "      <td>-364034.0</td>\n",
       "      <td>SANTA ANA MAYA</td>\n",
       "      <td>LERMA-SANTIAGO</td>\n",
       "      <td>0</td>\n",
       "      <td>1602  - MORELIA-QUERENDARO</td>\n",
       "      <td>40000.0</td>\n",
       "      <td>AGROINDUSTIAL</td>\n",
       "    </tr>\n",
       "  </tbody>\n",
       "</table>\n",
       "</div>"
      ],
      "text/plain": [
       "     Latitud  Longitud       Municipio RegiónHidrológica  Cuenca  \\\n",
       "941  72255.0 -364034.0  SANTA ANA MAYA    LERMA-SANTIAGO       0   \n",
       "\n",
       "             AcuíferoHomologado  Volumen (m3/año)            Uso  \n",
       "941  1602  - MORELIA-QUERENDARO           40000.0  AGROINDUSTIAL  "
      ]
     },
     "execution_count": 10,
     "metadata": {},
     "output_type": "execute_result"
    }
   ],
   "source": [
    "#Unimos los usos menos comunes en una nueva etiqueta llamada \"Otros Usos\"\n",
    "pozos[pozos['Uso'] == 'AGROINDUSTIAL']"
   ]
  },
  {
   "cell_type": "code",
   "execution_count": 8,
   "id": "a05960db-24c6-46a0-a6f3-7d4ad0c86bcc",
   "metadata": {},
   "outputs": [],
   "source": [
    "#Reemplazar el Uso con \"OTROS USOS\"\n",
    "#pozos['Uso'].replace(['ACUACULTURA', 'AGROINDUSTIAL'], 'DIFERENTES USOS', inplace = True)\n",
    "pozos['AcuíferoHomologado'].replace('1602  - MORELIA-QUERENDARO', '1602 - MORELIA-QUERENDARO', inplace = True)\n",
    "#pozos['Municipio'].replace(['PURUÁNDIRO', 'TZINTZUNTZAN', 'LA PIEDAD', 'LAGUNILLAS', 'JOSÉ SIXTO VERDUZCO', \n",
    "                            #'ARIO', 'HUIRAMBA'], 'VARIOS', inplace = True)"
   ]
  },
  {
   "cell_type": "code",
   "execution_count": 58,
   "id": "ae3c7176-15f8-47c2-bdf3-2189cabd1326",
   "metadata": {
    "tags": []
   },
   "outputs": [],
   "source": [
    "#Unir los registros con AcuíferoHomologado = '1602 - MORELIA-QUERENDARO' y '1602  - MORELIA-QUERENDARO'\n",
    "#pozos['AcuíferoHomologado'] = pozos['AcuíferoHomologado'].map({'1602  - MORELIA-QUERENDARO': '1602 - MORELIA-QUERENDARO', \n",
    "                                                              #'1610 - CIUDAD HIDALGO-TUXPAN': '1610 - CIUDAD HIDALGO-TUXPAN',\n",
    "                                                              #'1602 - MORELIA-QUERENDARO': '1602 - MORELIA-QUERENDARO'},na_action=None)#'1602 - MORELIA-QUERENDARO' #1138+197"
   ]
  },
  {
   "cell_type": "code",
   "execution_count": 13,
   "id": "1a5bec9e-e400-4b21-9d93-a0f143777c71",
   "metadata": {},
   "outputs": [
    {
     "data": {
      "text/html": [
       "<div>\n",
       "<style scoped>\n",
       "    .dataframe tbody tr th:only-of-type {\n",
       "        vertical-align: middle;\n",
       "    }\n",
       "\n",
       "    .dataframe tbody tr th {\n",
       "        vertical-align: top;\n",
       "    }\n",
       "\n",
       "    .dataframe thead th {\n",
       "        text-align: right;\n",
       "    }\n",
       "</style>\n",
       "<table border=\"1\" class=\"dataframe\">\n",
       "  <thead>\n",
       "    <tr style=\"text-align: right;\">\n",
       "      <th></th>\n",
       "      <th>Latitud</th>\n",
       "      <th>Longitud</th>\n",
       "      <th>Cuenca</th>\n",
       "      <th>Volumen (m3/año)</th>\n",
       "    </tr>\n",
       "  </thead>\n",
       "  <tbody>\n",
       "    <tr>\n",
       "      <th>count</th>\n",
       "      <td>1363.000000</td>\n",
       "      <td>1363.000000</td>\n",
       "      <td>1363.000000</td>\n",
       "      <td>1.363000e+03</td>\n",
       "    </tr>\n",
       "    <tr>\n",
       "      <th>mean</th>\n",
       "      <td>71490.946855</td>\n",
       "      <td>-364096.132121</td>\n",
       "      <td>28.546588</td>\n",
       "      <td>1.558366e+05</td>\n",
       "    </tr>\n",
       "    <tr>\n",
       "      <th>std</th>\n",
       "      <td>645.397221</td>\n",
       "      <td>721.149748</td>\n",
       "      <td>67.485278</td>\n",
       "      <td>3.884465e+05</td>\n",
       "    </tr>\n",
       "    <tr>\n",
       "      <th>min</th>\n",
       "      <td>68005.000000</td>\n",
       "      <td>-371361.000000</td>\n",
       "      <td>0.000000</td>\n",
       "      <td>0.000000e+00</td>\n",
       "    </tr>\n",
       "    <tr>\n",
       "      <th>25%</th>\n",
       "      <td>71118.004800</td>\n",
       "      <td>-364411.500000</td>\n",
       "      <td>0.000000</td>\n",
       "      <td>1.500000e+04</td>\n",
       "    </tr>\n",
       "    <tr>\n",
       "      <th>50%</th>\n",
       "      <td>71468.000000</td>\n",
       "      <td>-364145.000000</td>\n",
       "      <td>0.000000</td>\n",
       "      <td>4.668000e+04</td>\n",
       "    </tr>\n",
       "    <tr>\n",
       "      <th>75%</th>\n",
       "      <td>71938.250000</td>\n",
       "      <td>-363778.000000</td>\n",
       "      <td>0.000000</td>\n",
       "      <td>1.621800e+05</td>\n",
       "    </tr>\n",
       "    <tr>\n",
       "      <th>max</th>\n",
       "      <td>79260.000000</td>\n",
       "      <td>-362170.000000</td>\n",
       "      <td>188.000000</td>\n",
       "      <td>1.103760e+07</td>\n",
       "    </tr>\n",
       "  </tbody>\n",
       "</table>\n",
       "</div>"
      ],
      "text/plain": [
       "            Latitud       Longitud       Cuenca  Volumen (m3/año)\n",
       "count   1363.000000    1363.000000  1363.000000      1.363000e+03\n",
       "mean   71490.946855 -364096.132121    28.546588      1.558366e+05\n",
       "std      645.397221     721.149748    67.485278      3.884465e+05\n",
       "min    68005.000000 -371361.000000     0.000000      0.000000e+00\n",
       "25%    71118.004800 -364411.500000     0.000000      1.500000e+04\n",
       "50%    71468.000000 -364145.000000     0.000000      4.668000e+04\n",
       "75%    71938.250000 -363778.000000     0.000000      1.621800e+05\n",
       "max    79260.000000 -362170.000000   188.000000      1.103760e+07"
      ]
     },
     "execution_count": 13,
     "metadata": {},
     "output_type": "execute_result"
    }
   ],
   "source": [
    "pozos.describe()"
   ]
  },
  {
   "cell_type": "code",
   "execution_count": 9,
   "id": "4a9e9abb-bf85-460c-8828-02a8508f7033",
   "metadata": {},
   "outputs": [
    {
     "data": {
      "text/html": [
       "<div>\n",
       "<style scoped>\n",
       "    .dataframe tbody tr th:only-of-type {\n",
       "        vertical-align: middle;\n",
       "    }\n",
       "\n",
       "    .dataframe tbody tr th {\n",
       "        vertical-align: top;\n",
       "    }\n",
       "\n",
       "    .dataframe thead th {\n",
       "        text-align: right;\n",
       "    }\n",
       "</style>\n",
       "<table border=\"1\" class=\"dataframe\">\n",
       "  <thead>\n",
       "    <tr style=\"text-align: right;\">\n",
       "      <th></th>\n",
       "      <th>Latitud</th>\n",
       "      <th>Longitud</th>\n",
       "      <th>Municipio</th>\n",
       "      <th>RegiónHidrológica</th>\n",
       "      <th>Cuenca</th>\n",
       "      <th>AcuíferoHomologado</th>\n",
       "      <th>Volumen (m3/año)</th>\n",
       "      <th>Uso</th>\n",
       "    </tr>\n",
       "  </thead>\n",
       "  <tbody>\n",
       "    <tr>\n",
       "      <th>0</th>\n",
       "      <td>71916.0006</td>\n",
       "      <td>-364601.0007</td>\n",
       "      <td>HUANDACAREO</td>\n",
       "      <td>LERMA-SANTIAGO</td>\n",
       "      <td>188</td>\n",
       "      <td>1602 - MORELIA-QUERENDARO</td>\n",
       "      <td>22800.0</td>\n",
       "      <td>AGRICOLA</td>\n",
       "    </tr>\n",
       "    <tr>\n",
       "      <th>1</th>\n",
       "      <td>71962.0004</td>\n",
       "      <td>-364590.0003</td>\n",
       "      <td>HUANDACAREO</td>\n",
       "      <td>LERMA-SANTIAGO</td>\n",
       "      <td>188</td>\n",
       "      <td>1602 - MORELIA-QUERENDARO</td>\n",
       "      <td>9000.0</td>\n",
       "      <td>AGRICOLA</td>\n",
       "    </tr>\n",
       "    <tr>\n",
       "      <th>2</th>\n",
       "      <td>72142.0006</td>\n",
       "      <td>-364140.0005</td>\n",
       "      <td>CUITZEO</td>\n",
       "      <td>LERMA-SANTIAGO</td>\n",
       "      <td>188</td>\n",
       "      <td>1602 - MORELIA-QUERENDARO</td>\n",
       "      <td>20020.0</td>\n",
       "      <td>AGRICOLA</td>\n",
       "    </tr>\n",
       "    <tr>\n",
       "      <th>3</th>\n",
       "      <td>72110.0005</td>\n",
       "      <td>-364178.0006</td>\n",
       "      <td>CUITZEO</td>\n",
       "      <td>LERMA-SANTIAGO</td>\n",
       "      <td>188</td>\n",
       "      <td>1602 - MORELIA-QUERENDARO</td>\n",
       "      <td>6000.0</td>\n",
       "      <td>AGRICOLA</td>\n",
       "    </tr>\n",
       "    <tr>\n",
       "      <th>4</th>\n",
       "      <td>71351.0005</td>\n",
       "      <td>-364117.0006</td>\n",
       "      <td>TARÍMBARO</td>\n",
       "      <td>LERMA-SANTIAGO</td>\n",
       "      <td>188</td>\n",
       "      <td>1602 - MORELIA-QUERENDARO</td>\n",
       "      <td>30000.0</td>\n",
       "      <td>SERVICIOS</td>\n",
       "    </tr>\n",
       "  </tbody>\n",
       "</table>\n",
       "</div>"
      ],
      "text/plain": [
       "      Latitud     Longitud    Municipio RegiónHidrológica  Cuenca  \\\n",
       "0  71916.0006 -364601.0007  HUANDACAREO    LERMA-SANTIAGO     188   \n",
       "1  71962.0004 -364590.0003  HUANDACAREO    LERMA-SANTIAGO     188   \n",
       "2  72142.0006 -364140.0005      CUITZEO    LERMA-SANTIAGO     188   \n",
       "3  72110.0005 -364178.0006      CUITZEO    LERMA-SANTIAGO     188   \n",
       "4  71351.0005 -364117.0006    TARÍMBARO    LERMA-SANTIAGO     188   \n",
       "\n",
       "          AcuíferoHomologado  Volumen (m3/año)        Uso  \n",
       "0  1602 - MORELIA-QUERENDARO           22800.0   AGRICOLA  \n",
       "1  1602 - MORELIA-QUERENDARO            9000.0   AGRICOLA  \n",
       "2  1602 - MORELIA-QUERENDARO           20020.0   AGRICOLA  \n",
       "3  1602 - MORELIA-QUERENDARO            6000.0   AGRICOLA  \n",
       "4  1602 - MORELIA-QUERENDARO           30000.0  SERVICIOS  "
      ]
     },
     "execution_count": 9,
     "metadata": {},
     "output_type": "execute_result"
    }
   ],
   "source": [
    "pozos.head()"
   ]
  },
  {
   "cell_type": "markdown",
   "id": "7a4811bc-dd92-405a-b03c-4ebc68d00b17",
   "metadata": {},
   "source": [
    "# Dividir los datos en $X$ y $y$"
   ]
  },
  {
   "cell_type": "code",
   "execution_count": 11,
   "id": "4e14db37-14dc-4880-9899-b4f1b6f6d88d",
   "metadata": {},
   "outputs": [],
   "source": [
    "X = pozos.iloc[:,:-1]\n",
    "y = pozos['Uso']\n",
    "#y = pozos[['Uso', 'Uso Ponderado']]"
   ]
  },
  {
   "cell_type": "code",
   "execution_count": 12,
   "id": "441001e8-4fff-4a23-a383-f5bdb0e83c4b",
   "metadata": {},
   "outputs": [
    {
     "data": {
      "text/html": [
       "<div>\n",
       "<style scoped>\n",
       "    .dataframe tbody tr th:only-of-type {\n",
       "        vertical-align: middle;\n",
       "    }\n",
       "\n",
       "    .dataframe tbody tr th {\n",
       "        vertical-align: top;\n",
       "    }\n",
       "\n",
       "    .dataframe thead th {\n",
       "        text-align: right;\n",
       "    }\n",
       "</style>\n",
       "<table border=\"1\" class=\"dataframe\">\n",
       "  <thead>\n",
       "    <tr style=\"text-align: right;\">\n",
       "      <th></th>\n",
       "      <th>Latitud</th>\n",
       "      <th>Longitud</th>\n",
       "      <th>Municipio</th>\n",
       "      <th>RegiónHidrológica</th>\n",
       "      <th>Cuenca</th>\n",
       "      <th>AcuíferoHomologado</th>\n",
       "      <th>Volumen (m3/año)</th>\n",
       "    </tr>\n",
       "  </thead>\n",
       "  <tbody>\n",
       "    <tr>\n",
       "      <th>0</th>\n",
       "      <td>71916.0006</td>\n",
       "      <td>-364601.0007</td>\n",
       "      <td>HUANDACAREO</td>\n",
       "      <td>LERMA-SANTIAGO</td>\n",
       "      <td>188</td>\n",
       "      <td>1602 - MORELIA-QUERENDARO</td>\n",
       "      <td>22800.0</td>\n",
       "    </tr>\n",
       "    <tr>\n",
       "      <th>1</th>\n",
       "      <td>71962.0004</td>\n",
       "      <td>-364590.0003</td>\n",
       "      <td>HUANDACAREO</td>\n",
       "      <td>LERMA-SANTIAGO</td>\n",
       "      <td>188</td>\n",
       "      <td>1602 - MORELIA-QUERENDARO</td>\n",
       "      <td>9000.0</td>\n",
       "    </tr>\n",
       "    <tr>\n",
       "      <th>2</th>\n",
       "      <td>72142.0006</td>\n",
       "      <td>-364140.0005</td>\n",
       "      <td>CUITZEO</td>\n",
       "      <td>LERMA-SANTIAGO</td>\n",
       "      <td>188</td>\n",
       "      <td>1602 - MORELIA-QUERENDARO</td>\n",
       "      <td>20020.0</td>\n",
       "    </tr>\n",
       "    <tr>\n",
       "      <th>3</th>\n",
       "      <td>72110.0005</td>\n",
       "      <td>-364178.0006</td>\n",
       "      <td>CUITZEO</td>\n",
       "      <td>LERMA-SANTIAGO</td>\n",
       "      <td>188</td>\n",
       "      <td>1602 - MORELIA-QUERENDARO</td>\n",
       "      <td>6000.0</td>\n",
       "    </tr>\n",
       "    <tr>\n",
       "      <th>4</th>\n",
       "      <td>71351.0005</td>\n",
       "      <td>-364117.0006</td>\n",
       "      <td>TARÍMBARO</td>\n",
       "      <td>LERMA-SANTIAGO</td>\n",
       "      <td>188</td>\n",
       "      <td>1602 - MORELIA-QUERENDARO</td>\n",
       "      <td>30000.0</td>\n",
       "    </tr>\n",
       "  </tbody>\n",
       "</table>\n",
       "</div>"
      ],
      "text/plain": [
       "      Latitud     Longitud    Municipio RegiónHidrológica  Cuenca  \\\n",
       "0  71916.0006 -364601.0007  HUANDACAREO    LERMA-SANTIAGO     188   \n",
       "1  71962.0004 -364590.0003  HUANDACAREO    LERMA-SANTIAGO     188   \n",
       "2  72142.0006 -364140.0005      CUITZEO    LERMA-SANTIAGO     188   \n",
       "3  72110.0005 -364178.0006      CUITZEO    LERMA-SANTIAGO     188   \n",
       "4  71351.0005 -364117.0006    TARÍMBARO    LERMA-SANTIAGO     188   \n",
       "\n",
       "          AcuíferoHomologado  Volumen (m3/año)  \n",
       "0  1602 - MORELIA-QUERENDARO           22800.0  \n",
       "1  1602 - MORELIA-QUERENDARO            9000.0  \n",
       "2  1602 - MORELIA-QUERENDARO           20020.0  \n",
       "3  1602 - MORELIA-QUERENDARO            6000.0  \n",
       "4  1602 - MORELIA-QUERENDARO           30000.0  "
      ]
     },
     "execution_count": 12,
     "metadata": {},
     "output_type": "execute_result"
    }
   ],
   "source": [
    "X.head()"
   ]
  },
  {
   "cell_type": "code",
   "execution_count": 15,
   "id": "76db68d1-a7f6-4907-a129-e8b22521aeec",
   "metadata": {},
   "outputs": [
    {
     "data": {
      "text/plain": [
       "0     AGRICOLA\n",
       "1     AGRICOLA\n",
       "2     AGRICOLA\n",
       "3     AGRICOLA\n",
       "4    SERVICIOS\n",
       "Name: Uso, dtype: object"
      ]
     },
     "execution_count": 15,
     "metadata": {},
     "output_type": "execute_result"
    }
   ],
   "source": [
    "y.head() "
   ]
  },
  {
   "cell_type": "markdown",
   "id": "6dfe8ed9-befc-48f4-ab9f-84f076f9e9fb",
   "metadata": {},
   "source": [
    "## Codificar los datos categoricos y Escalar los datos numericos en X"
   ]
  },
  {
   "cell_type": "code",
   "execution_count": 12,
   "id": "66126350-3b4c-492e-8949-14b5a78442ba",
   "metadata": {},
   "outputs": [],
   "source": [
    "def codificar(data):\n",
    "    cat = []\n",
    "    num = []\n",
    "    for i in data.columns:\n",
    "        if data[i].dtypes == 'object':\n",
    "            cat.append(i)\n",
    "        elif data[i].dtypes == 'float64' or 'int64':\n",
    "            num.append(i)\n",
    "    scaler = MinMaxScaler() \n",
    "    scaled_values = scaler.fit_transform(data[num])\n",
    "    data[num] = scaled_values\n",
    "    code = LabelEncoder()\n",
    "    data[cat] = data[cat].apply(code.fit_transform)\n",
    "    print('num', num)\n",
    "    print('cat',cat)\n",
    "    return data"
   ]
  },
  {
   "cell_type": "code",
   "execution_count": 13,
   "id": "18809bb6-fe57-4a17-aa8d-32fc0dcf5afd",
   "metadata": {},
   "outputs": [
    {
     "name": "stdout",
     "output_type": "stream",
     "text": [
      "num ['Latitud', 'Longitud', 'Cuenca', 'Volumen (m3/año)']\n",
      "cat ['Municipio', 'RegiónHidrológica', 'AcuíferoHomologado']\n"
     ]
    }
   ],
   "source": [
    "x_cod = X.copy()\n",
    "X_cod = codificar(X)"
   ]
  },
  {
   "cell_type": "code",
   "execution_count": 18,
   "id": "2cacc8f1-6fec-4dcc-bfea-1ed633e70cd3",
   "metadata": {},
   "outputs": [
    {
     "data": {
      "text/html": [
       "<div>\n",
       "<style scoped>\n",
       "    .dataframe tbody tr th:only-of-type {\n",
       "        vertical-align: middle;\n",
       "    }\n",
       "\n",
       "    .dataframe tbody tr th {\n",
       "        vertical-align: top;\n",
       "    }\n",
       "\n",
       "    .dataframe thead th {\n",
       "        text-align: right;\n",
       "    }\n",
       "</style>\n",
       "<table border=\"1\" class=\"dataframe\">\n",
       "  <thead>\n",
       "    <tr style=\"text-align: right;\">\n",
       "      <th></th>\n",
       "      <th>Latitud</th>\n",
       "      <th>Longitud</th>\n",
       "      <th>Municipio</th>\n",
       "      <th>RegiónHidrológica</th>\n",
       "      <th>Cuenca</th>\n",
       "      <th>AcuíferoHomologado</th>\n",
       "      <th>Volumen (m3/año)</th>\n",
       "    </tr>\n",
       "  </thead>\n",
       "  <tbody>\n",
       "    <tr>\n",
       "      <th>0</th>\n",
       "      <td>0.347490</td>\n",
       "      <td>0.735502</td>\n",
       "      <td>7</td>\n",
       "      <td>1</td>\n",
       "      <td>1.0</td>\n",
       "      <td>0</td>\n",
       "      <td>0.002066</td>\n",
       "    </tr>\n",
       "    <tr>\n",
       "      <th>1</th>\n",
       "      <td>0.351577</td>\n",
       "      <td>0.736699</td>\n",
       "      <td>7</td>\n",
       "      <td>1</td>\n",
       "      <td>1.0</td>\n",
       "      <td>0</td>\n",
       "      <td>0.000815</td>\n",
       "    </tr>\n",
       "    <tr>\n",
       "      <th>2</th>\n",
       "      <td>0.367570</td>\n",
       "      <td>0.785660</td>\n",
       "      <td>5</td>\n",
       "      <td>1</td>\n",
       "      <td>1.0</td>\n",
       "      <td>0</td>\n",
       "      <td>0.001814</td>\n",
       "    </tr>\n",
       "    <tr>\n",
       "      <th>3</th>\n",
       "      <td>0.364727</td>\n",
       "      <td>0.781525</td>\n",
       "      <td>5</td>\n",
       "      <td>1</td>\n",
       "      <td>1.0</td>\n",
       "      <td>0</td>\n",
       "      <td>0.000544</td>\n",
       "    </tr>\n",
       "    <tr>\n",
       "      <th>4</th>\n",
       "      <td>0.297290</td>\n",
       "      <td>0.788162</td>\n",
       "      <td>18</td>\n",
       "      <td>1</td>\n",
       "      <td>1.0</td>\n",
       "      <td>0</td>\n",
       "      <td>0.002718</td>\n",
       "    </tr>\n",
       "  </tbody>\n",
       "</table>\n",
       "</div>"
      ],
      "text/plain": [
       "    Latitud  Longitud  Municipio  RegiónHidrológica  Cuenca  \\\n",
       "0  0.347490  0.735502          7                  1     1.0   \n",
       "1  0.351577  0.736699          7                  1     1.0   \n",
       "2  0.367570  0.785660          5                  1     1.0   \n",
       "3  0.364727  0.781525          5                  1     1.0   \n",
       "4  0.297290  0.788162         18                  1     1.0   \n",
       "\n",
       "   AcuíferoHomologado  Volumen (m3/año)  \n",
       "0                   0          0.002066  \n",
       "1                   0          0.000815  \n",
       "2                   0          0.001814  \n",
       "3                   0          0.000544  \n",
       "4                   0          0.002718  "
      ]
     },
     "execution_count": 18,
     "metadata": {},
     "output_type": "execute_result"
    }
   ],
   "source": [
    "X_cod.head()"
   ]
  },
  {
   "cell_type": "markdown",
   "id": "5face65d-06a8-4d98-8879-b87ccb084b41",
   "metadata": {},
   "source": [
    "# Dividir los datos en Train y Test"
   ]
  },
  {
   "cell_type": "code",
   "execution_count": 14,
   "id": "11ad5ed8-d416-4ada-b380-a12500d677b1",
   "metadata": {},
   "outputs": [],
   "source": [
    "X_train, X_test, y_train, y_test = train_test_split(X_cod, y, test_size = 0.3, shuffle=True)"
   ]
  },
  {
   "cell_type": "markdown",
   "id": "3b5a60e7-f580-4e0c-9ddd-ea8f9bf51f82",
   "metadata": {},
   "source": [
    "# Construir modelo"
   ]
  },
  {
   "cell_type": "code",
   "execution_count": 15,
   "id": "52ab7cbf-7f76-41fc-ab61-df6b16b84781",
   "metadata": {},
   "outputs": [
    {
     "data": {
      "text/plain": [
       "KNeighborsClassifier(n_neighbors=3, weights='distance')"
      ]
     },
     "execution_count": 15,
     "metadata": {},
     "output_type": "execute_result"
    }
   ],
   "source": [
    "#n_neighbors = \n",
    "\n",
    "knn = KNeighborsClassifier(n_neighbors=3, weights='distance')\n",
    "knn.fit(X_train, y_train)"
   ]
  },
  {
   "cell_type": "code",
   "execution_count": 16,
   "id": "a3f2b674-55cc-4993-ac9d-0f86a9677477",
   "metadata": {},
   "outputs": [
    {
     "name": "stdout",
     "output_type": "stream",
     "text": [
      "Precisión =  0.6625916870415648\n",
      "                 precision    recall  f1-score   support\n",
      "\n",
      "       AGRICOLA       0.74      0.85      0.79       219\n",
      "DIFERENTES USOS       0.12      0.07      0.09        29\n",
      "      DOMESTICO       0.00      0.00      0.00         7\n",
      "     INDUSTRIAL       0.79      0.81      0.80        32\n",
      "       PECUARIO       0.50      1.00      0.67         2\n",
      " PUBLICO URBANO       0.55      0.52      0.53        89\n",
      "      SERVICIOS       0.50      0.29      0.37        31\n",
      "\n",
      "       accuracy                           0.66       409\n",
      "      macro avg       0.46      0.51      0.46       409\n",
      "   weighted avg       0.63      0.66      0.64       409\n",
      "\n"
     ]
    },
    {
     "data": {
      "text/plain": [
       "<sklearn.metrics._plot.confusion_matrix.ConfusionMatrixDisplay at 0x7f1f900747f0>"
      ]
     },
     "execution_count": 16,
     "metadata": {},
     "output_type": "execute_result"
    },
    {
     "data": {
      "image/png": "[encoded data removed]",
      "text/plain": [
       "<Figure size 432x288 with 2 Axes>"
      ]
     },
     "metadata": {
      "needs_background": "light"
     },
     "output_type": "display_data"
    }
   ],
   "source": [
    "# Predicción\n",
    "\n",
    "pred = knn.predict(X_test)\n",
    "y_pred = pd.Series(pred, index=y_test.index)\n",
    "print('Precisión = ', precision_score(y_test, pred, average='micro'))\n",
    "print(classification_report(y_test, pred))\n",
    "plot_confusion_matrix(knn, X_test, y_test)"
   ]
  },
  {
   "cell_type": "markdown",
   "id": "2b103c2a-76e4-471b-a744-68916c1aedbf",
   "metadata": {},
   "source": [
    "## Saber cuales fueron las etiquetas que sí acertó"
   ]
  },
  {
   "cell_type": "code",
   "execution_count": 89,
   "id": "a35d0f8f-78df-44a2-9411-9f5f24581226",
   "metadata": {},
   "outputs": [
    {
     "data": {
      "text/plain": [
       "Int64Index([ 420,  771, 1158, 1343,  802, 1071, 1353,  300,  496,  948,\n",
       "            ...\n",
       "             336,   56,  514,  123,  129,  792, 1293, 1217,  801,  895],\n",
       "           dtype='int64', length=409)"
      ]
     },
     "execution_count": 89,
     "metadata": {},
     "output_type": "execute_result"
    }
   ],
   "source": [
    "y_test.index"
   ]
  },
  {
   "cell_type": "code",
   "execution_count": 17,
   "id": "6e7953e1-2e4c-47da-962f-16af2fd79a61",
   "metadata": {},
   "outputs": [],
   "source": [
    "def match(y_t, y_p):\n",
    "    matched = {}\n",
    "    aux = 0\n",
    "    for i, j in zip(y_t, y_p):\n",
    "        if i == j:\n",
    "            #data.loc[[i, 'Volumen (m3/año)']]\n",
    "            matched[y_t.index[aux]]= i\n",
    "        aux+=1\n",
    "    return matched\n",
    "aux = match(y_test, y_pred)"
   ]
  },
  {
   "cell_type": "code",
   "execution_count": 46,
   "id": "d9da2116-a8eb-4f30-92c8-204e0278e233",
   "metadata": {
    "tags": []
   },
   "outputs": [
    {
     "data": {
      "text/plain": [
       "4.7118406735597736e-06"
      ]
     },
     "execution_count": 46,
     "metadata": {},
     "output_type": "execute_result"
    }
   ],
   "source": [
    "pozos.iloc[1116][6]/volumen_total"
   ]
  },
  {
   "cell_type": "code",
   "execution_count": 42,
   "id": "ac8e5c89-bffe-490e-8466-e9796ee10e98",
   "metadata": {},
   "outputs": [
    {
     "data": {
      "text/plain": [
       "'AGRICOLA'"
      ]
     },
     "execution_count": 42,
     "metadata": {},
     "output_type": "execute_result"
    }
   ],
   "source": [
    "aux[420]"
   ]
  },
  {
   "cell_type": "markdown",
   "id": "8888411e-9b97-44f2-90d8-dd403c1fd0c0",
   "metadata": {},
   "source": [
    "## Obtener el volumen total"
   ]
  },
  {
   "cell_type": "code",
   "execution_count": 10,
   "id": "9e411101-2981-45ea-b0e6-fe8f15f7ce59",
   "metadata": {},
   "outputs": [],
   "source": [
    "volumen_total = sum(pozos['Volumen (m3/año)'].values)"
   ]
  },
  {
   "cell_type": "code",
   "execution_count": 100,
   "id": "18fcdcda-8a98-4b3c-850b-3469b67d9a87",
   "metadata": {},
   "outputs": [],
   "source": [
    "def volumen(data, indices, vol):\n",
    "    vol_pond = {}\n",
    "    for i in list(indices.keys()):\n",
    "        v_pond = (data.iloc[i][6])/vol\n",
    "        vol_pond[i] = indices[i], v_pond\n",
    "    return vol_pond"
   ]
  },
  {
   "cell_type": "code",
   "execution_count": 101,
   "id": "a5653582-2e92-4dfa-95d0-9e7a006a1804",
   "metadata": {},
   "outputs": [],
   "source": [
    "volumen_pon = volumen(pozos, aux, volumen_total)"
   ]
  },
  {
   "cell_type": "code",
   "execution_count": 80,
   "id": "5255b0a4-3ed4-483a-b30f-3ea6a0db2800",
   "metadata": {
    "collapsed": true,
    "jupyter": {
     "outputs_hidden": true
    },
    "tags": []
   },
   "outputs": [
    {
     "data": {
      "text/plain": [
       "{420: ('AGRICOLA', 0.000593205496361515),\n",
       " 1158: ('AGRICOLA', 0.0003220258408819653),\n",
       " 1343: ('AGRICOLA', 0.0007061970194779941),\n",
       " 802: ('INDUSTRIAL', 0.0024745143562508913),\n",
       " 1071: ('AGRICOLA', 0.0018266962903830779),\n",
       " 1353: ('AGRICOLA', 0.00032955860908973056),\n",
       " 300: ('INDUSTRIAL', 0.004742819182814208),\n",
       " 496: ('AGRICOLA', 1.4123940389559881e-05),\n",
       " 64: ('AGRICOLA', 0.0002462273607913273),\n",
       " 1116: ('PUBLICO URBANO', 4.7118406735597736e-06),\n",
       " 722: ('PUBLICO URBANO', 2.16520006171953e-05),\n",
       " 495: ('AGRICOLA', 2.8247880779119763e-05),\n",
       " 959: ('AGRICOLA', 7.06197019477994e-05),\n",
       " 798: ('INDUSTRIAL', 0.0053614477718769305),\n",
       " 872: ('PUBLICO URBANO', 0.001506553641553054),\n",
       " 502: ('AGRICOLA', 2.8247880779119763e-05),\n",
       " 837: ('PUBLICO URBANO', 0.00866268343893006),\n",
       " 252: ('AGRICOLA', 0.0001412394038955988),\n",
       " 1182: ('AGRICOLA', 4.237182116867964e-05),\n",
       " 908: ('AGRICOLA', 0.00019773516545383834),\n",
       " 702: ('PUBLICO URBANO', 0.00025572585194271017),\n",
       " 758: ('AGRICOLA', 0.0012146588735021497),\n",
       " 1268: ('PUBLICO URBANO', 0.0005352973407643195),\n",
       " 32: ('AGRICOLA', 0.0004613820527256228),\n",
       " 312: ('INDUSTRIAL', 0.005567657301564505),\n",
       " 272: ('AGRICOLA', 1.4123940389559881e-05),\n",
       " 952: ('AGRICOLA', 0.0016548644316036925),\n",
       " 894: ('AGRICOLA', 2.4406168993159476e-05),\n",
       " 843: ('PUBLICO URBANO', 0.002966027481807575),\n",
       " 818: ('INDUSTRIAL', 0.0),\n",
       " 928: ('INDUSTRIAL', 0.00011151792533583497),\n",
       " 782: ('AGRICOLA', 2.8247880779119763e-05),\n",
       " 664: ('AGRICOLA', 2.8247880779119763e-05),\n",
       " 168: ('AGRICOLA', 2.353990064926647e-05),\n",
       " 761: ('AGRICOLA', 2.9438999751972646e-05),\n",
       " 150: ('AGRICOLA', 0.0012667715055594958),\n",
       " 15: ('AGRICOLA', 8.474364233735929e-05),\n",
       " 1312: ('AGRICOLA', 0.0020762192372653027),\n",
       " 118: ('AGRICOLA', 0.00023539900649266468),\n",
       " 1064: ('AGRICOLA', 4.237182116867964e-05),\n",
       " 851: ('PUBLICO URBANO', 0.0006591172181794611),\n",
       " 991: ('AGRICOLA', 0.00023539900649266468),\n",
       " 507: ('AGRICOLA', 0.00016948728467471857),\n",
       " 1088: ('AGRICOLA', 0.00020446757703952855),\n",
       " 35: ('AGRICOLA', 0.001682443779204373),\n",
       " 604: ('AGRICOLA', 0.0009321800657109522),\n",
       " 887: ('AGRICOLA', 0.0003660925348973921),\n",
       " 504: ('AGRICOLA', 0.00011299152311647905),\n",
       " 533: ('AGRICOLA', 0.001525385562072467),\n",
       " 788: ('AGRICOLA', 7.061970194779941e-06),\n",
       " 656: ('AGRICOLA', 1.1299152311647904e-05),\n",
       " 316: ('INDUSTRIAL', 0.0035055620046887627),\n",
       " 524: ('AGRICOLA', 8.286045028541796e-05),\n",
       " 503: ('AGRICOLA', 7.06197019477994e-05),\n",
       " 105: ('AGRICOLA', 5.97442678478383e-05),\n",
       " 62: ('AGRICOLA', 0.00047079801298532937),\n",
       " 1316: ('AGRICOLA', 0.0001313526456229069),\n",
       " 127: ('AGRICOLA', 2.259830462329581e-05),\n",
       " 1340: ('AGRICOLA', 0.0001412394038955988),\n",
       " 753: ('AGRICOLA', 7.344449002571138e-05),\n",
       " 916: ('AGRICOLA', 0.003728720262843809),\n",
       " 1219: ('AGRICOLA', 0.0001412394038955988),\n",
       " 636: ('AGRICOLA', 7.061970194779941e-06),\n",
       " 817: ('INDUSTRIAL', 0.0),\n",
       " 744: ('PUBLICO URBANO', 5.258343007033144e-05),\n",
       " 14: ('AGRICOLA', 2.8247880779119763e-05),\n",
       " 1289: ('SERVICIOS', 7.423543068752674e-05),\n",
       " 249: ('SERVICIOS', 0.00047079801298532937),\n",
       " 338: ('AGRICOLA', 0.0016948728467471857),\n",
       " 558: ('AGRICOLA', 2.8247880779119763e-05),\n",
       " 759: ('AGRICOLA', 0.0011793060857494659),\n",
       " 261: ('SERVICIOS', 7.06197019477994e-05),\n",
       " 676: ('AGRICOLA', 0.0003578064898688503),\n",
       " 551: ('AGRICOLA', 6.1015422482898686e-05),\n",
       " 644: ('AGRICOLA', 0.00015485488243113454),\n",
       " 565: ('PUBLICO URBANO', 0.00012888095605473391),\n",
       " 1042: ('AGRICOLA', 0.0009689023107238078),\n",
       " 511: ('AGRICOLA', 2.353990064926647e-05),\n",
       " 279: ('AGRICOLA', 9.886758272691917e-05),\n",
       " 977: ('INDUSTRIAL', 0.0023635331406498595),\n",
       " 6: ('SERVICIOS', 0.0007061970194779941),\n",
       " 1307: ('PUBLICO URBANO', 0.0012888095605473391),\n",
       " 660: ('AGRICOLA', 1.4123940389559881e-05),\n",
       " 814: ('INDUSTRIAL', 0.0020620952968757426),\n",
       " 144: ('AGRICOLA', 0.0001412394038955988),\n",
       " 912: ('AGRICOLA', 4.237182116867964e-05),\n",
       " 1148: ('INDUSTRIAL', 0.0013796264972522091),\n",
       " 732: ('PUBLICO URBANO', 0.0001113531460312901),\n",
       " 1095: ('PUBLICO URBANO', 8.702701270033814e-06),\n",
       " 774: ('AGRICOLA', 1.0296352543989154e-05),\n",
       " 1288: ('PUBLICO URBANO', 0.0007732857363284035),\n",
       " 417: ('DIFERENTES USOS', 7.50546192301212e-05),\n",
       " 982: ('AGRICOLA', 0.00047079801298532937),\n",
       " 1223: ('PECUARIO', 0.00018361122506427847),\n",
       " 827: ('AGRICOLA', 0.00022779091060282176),\n",
       " 1211: ('PUBLICO URBANO', 0.0012888095605473391),\n",
       " 1198: ('AGRICOLA', 0.0027660324858914073),\n",
       " 318: ('INDUSTRIAL', 0.002268304826563317),\n",
       " 142: ('PUBLICO URBANO', 1.606645299113735e-06),\n",
       " 412: ('AGRICOLA', 8.843940673929413e-05),\n",
       " 128: ('PUBLICO URBANO', 0.0004169575522203271),\n",
       " 265: ('AGRICOLA', 0.00017287703036821295),\n",
       " 890: ('AGRICOLA', 0.00013423392946237711),\n",
       " 464: ('AGRICOLA', 0.0009415960259706587),\n",
       " 1177: ('AGRICOLA', 0.0015543867196723634),\n",
       " 983: ('AGRICOLA', 7.297369201272605e-05),\n",
       " 546: ('AGRICOLA', 0.0009604279464900719),\n",
       " 506: ('AGRICOLA', 2.8247880779119763e-05),\n",
       " 785: ('AGRICOLA', 1.4123940389559881e-05),\n",
       " 154: ('PUBLICO URBANO', 0.00014788707183895167),\n",
       " 29: ('AGRICOLA', 0.00043021522426599397),\n",
       " 1270: ('PUBLICO URBANO', 0.0007732857363284035),\n",
       " 438: ('PUBLICO URBANO', 0.0008620594096569172),\n",
       " 793: ('INDUSTRIAL', 0.005980076360939654),\n",
       " 132: ('PUBLICO URBANO', 0.00013558982773977487),\n",
       " 1160: ('AGRICOLA', 0.0021609628796026618),\n",
       " 1257: ('AGRICOLA', 0.001525385562072467),\n",
       " 1132: ('AGRICOLA', 7.061970194779941e-06),\n",
       " 810: ('INDUSTRIAL', 0.001067769893450727),\n",
       " 1034: ('AGRICOLA', 0.0010310476484378713),\n",
       " 578: ('AGRICOLA', 5.869344668285504e-05),\n",
       " 263: ('SERVICIOS', 7.06197019477994e-05),\n",
       " 875: ('PUBLICO URBANO', 0.005178778142838623),\n",
       " 91: ('AGRICOLA', 0.0015632094744357085),\n",
       " 440: ('PUBLICO URBANO', 0.00021609628796026619),\n",
       " 1033: ('AGRICOLA', 0.0006120374168809282),\n",
       " 605: ('AGRICOLA', 7.245581419844219e-06),\n",
       " 642: ('AGRICOLA', 0.00025423092701207787),\n",
       " 615: ('AGRICOLA', 0.0001450811156815591),\n",
       " 1193: ('AGRICOLA', 0.0001952493519452758),\n",
       " 821: ('AGRICOLA', 0.0011064129943565628),\n",
       " 406: ('AGRICOLA', 3.2955860908973056e-05),\n",
       " 1052: ('AGRICOLA', 8.502612114515048e-05),\n",
       " 733: ('PUBLICO URBANO', 0.00010258688702950327),\n",
       " 1362: ('PUBLICO URBANO', 0.0002276037683926601),\n",
       " 979: ('INDUSTRIAL', 0.0023635331406498595),\n",
       " 566: ('AGRICOLA', 5.9885507251733896e-05),\n",
       " 911: ('AGRICOLA', 0.0001412394038955988),\n",
       " 1184: ('AGRICOLA', 8.474364233735929e-05),\n",
       " 1171: ('AGRICOLA', 0.0012691207876442928),\n",
       " 1085: ('AGRICOLA', 2.9368380050024848e-05),\n",
       " 689: ('AGRICOLA', 0.0017372446679158654),\n",
       " 996: ('AGRICOLA', 7.246052217857204e-05),\n",
       " 262: ('SERVICIOS', 7.06197019477994e-05),\n",
       " 80: ('AGRICOLA', 0.0017339255419243189),\n",
       " 603: ('AGRICOLA', 0.0005649576155823952),\n",
       " 527: ('AGRICOLA', 9.35428572000551e-05),\n",
       " 1030: ('AGRICOLA', 0.0006120374168809282),\n",
       " 469: ('AGRICOLA', 1.2551475026188881e-05),\n",
       " 152: ('PUBLICO URBANO', 0.0007822026506943456),\n",
       " 1135: ('AGRICOLA', 0.0033897456934943713),\n",
       " 720: ('AGRICOLA', 0.0004519660924659162),\n",
       " 202: ('AGRICOLA', 0.00033897456934943714),\n",
       " 945: ('AGRICOLA', 8.474364233735929e-05),\n",
       " 900: ('AGRICOLA', 0.0005649576155823952),\n",
       " 323: ('INDUSTRIAL', 0.0),\n",
       " 455: ('SERVICIOS', 0.00035309850973899704),\n",
       " 984: ('AGRICOLA', 0.002033847416096623),\n",
       " 693: ('AGRICOLA', 0.0006813388843923687),\n",
       " 589: ('AGRICOLA', 0.0016760409262277726),\n",
       " 30: ('SERVICIOS', 0.00023539900649266468),\n",
       " 1101: ('PUBLICO URBANO', 0.00025572585194271017),\n",
       " 467: ('AGRICOLA', 1.0851894199311842e-05),\n",
       " 846: ('PUBLICO URBANO', 0.002212750661031048),\n",
       " 1325: ('AGRICOLA', 0.002259830462329581),\n",
       " 714: ('PUBLICO URBANO', 0.00029436410362901225),\n",
       " 661: ('AGRICOLA', 0.00021605862411922737),\n",
       " 1056: ('AGRICOLA', 0.0002259830462329581),\n",
       " 808: ('INDUSTRIAL', 0.0031778865876509734),\n",
       " 468: ('AGRICOLA', 2.8247880779119763e-05),\n",
       " 749: ('PUBLICO URBANO', 0.00014769757563872507),\n",
       " 143: ('PUBLICO URBANO', 0.0006120374168809282),\n",
       " 243: ('AGRICOLA', 0.0017339726217256172),\n",
       " 430: ('AGRICOLA', 5.6495761558239526e-05),\n",
       " 651: ('AGRICOLA', 8.474364233735929e-05),\n",
       " 489: ('AGRICOLA', 0.0001412394038955988),\n",
       " 1023: ('AGRICOLA', 9.886758272691917e-05),\n",
       " 296: ('INDUSTRIAL', 0.004949028712501783),\n",
       " 910: ('AGRICOLA', 5.6495761558239526e-05),\n",
       " 195: ('INDUSTRIAL', 0.00032955860908973056),\n",
       " 849: ('PUBLICO URBANO', 0.0011769950324633234),\n",
       " 680: ('AGRICOLA', 0.00018831920519413176),\n",
       " 610: ('AGRICOLA', 9.356828029275631e-05),\n",
       " 888: ('AGRICOLA', 0.00024406168993159474),\n",
       " 384: ('AGRICOLA', 0.0025705571508998983),\n",
       " 134: ('PUBLICO URBANO', 0.0005035636714970564),\n",
       " 508: ('AGRICOLA', 9.541192531160685e-05),\n",
       " 315: ('INDUSTRIAL', 0.006598704950002377),\n",
       " 31: ('AGRICOLA', 8.474364233735929e-05),\n",
       " 652: ('AGRICOLA', 0.0018315925897181254),\n",
       " 1035: ('AGRICOLA', 0.0010169237080483115),\n",
       " 70: ('AGRICOLA', 0.00011299152311647905),\n",
       " 633: ('DIFERENTES USOS', 0.0006280822131634682),\n",
       " 742: ('PUBLICO URBANO', 0.00036163996268958335),\n",
       " 236: ('AGRICOLA', 4.707980129853294e-05),\n",
       " 314: ('INDUSTRIAL', 0.0011547733662504158),\n",
       " 1358: ('AGRICOLA', 0.001153455131814057),\n",
       " 847: ('PUBLICO URBANO', 0.002966027481807575),\n",
       " 459: ('AGRICOLA', 0.00017131398096510166),\n",
       " 1318: ('AGRICOLA', 0.005302127222240779),\n",
       " 117: ('AGRICOLA', 0.0005762567678940432),\n",
       " 162: ('AGRICOLA', 0.0011083632280455532),\n",
       " 1111: ('PUBLICO URBANO', 0.00037762237823540283),\n",
       " 678: ('AGRICOLA', 4.128898573881339e-06),\n",
       " 93: ('AGRICOLA', 0.0003606312779467623),\n",
       " 1335: ('AGRICOLA', 0.00019773516545383834),\n",
       " 477: ('AGRICOLA', 0.0015818813236307067),\n",
       " 964: ('AGRICOLA', 0.00011769950324633234),\n",
       " 1089: ('AGRICOLA', 0.0015457240362334334),\n",
       " 1093: ('PUBLICO URBANO', 1.171519651572304e-05),\n",
       " 460: ('AGRICOLA', 6.355773175301947e-06),\n",
       " 874: ('PUBLICO URBANO', 0.00593205496361515),\n",
       " 1314: ('AGRICOLA', 0.0013705965913631505),\n",
       " 1091: ('PUBLICO URBANO', 1.238462421038688e-05),\n",
       " 264: ('AGRICOLA', 0.00036918567784270575),\n",
       " 580: ('AGRICOLA', 1.68639848251345e-05),\n",
       " 902: ('AGRICOLA', 0.00017870080178884146),\n",
       " 531: ('AGRICOLA', 0.002132714998823542),\n",
       " 1309: ('PUBLICO URBANO', 0.00018929846506114122),\n",
       " 1053: ('AGRICOLA', 0.0007626927810362336),\n",
       " 337: ('AGRICOLA', 2.8247880779119763e-05),\n",
       " 1173: ('AGRICOLA', 4.237182116867964e-05),\n",
       " 559: ('AGRICOLA', 0.000167227454212389),\n",
       " 684: ('AGRICOLA', 7.06197019477994e-05),\n",
       " 870: ('PUBLICO URBANO', 0.0009415960259706587),\n",
       " 1306: ('AGRICOLA', 7.383054439635935e-05),\n",
       " 1019: ('AGRICOLA', 0.0004237182116867964),\n",
       " 478: ('AGRICOLA', 8.474364233735929e-05),\n",
       " 672: ('AGRICOLA', 0.00024236681708484755),\n",
       " 824: ('AGRICOLA', 0.00160071324415012),\n",
       " 1214: ('AGRICOLA', 9.76246759726379e-05),\n",
       " 757: ('AGRICOLA', 0.00016948728467471857),\n",
       " 1326: ('PECUARIO', 0.00019773516545383834),\n",
       " 674: ('AGRICOLA', 0.001574654574131382),\n",
       " 522: ('PUBLICO URBANO', 0.0004510833461915687),\n",
       " 484: ('AGRICOLA', 0.00010828354298662576),\n",
       " 1215: ('AGRICOLA', 9.886758272691917e-05),\n",
       " 640: ('AGRICOLA', 0.0002612928972068578),\n",
       " 819: ('INDUSTRIAL', 0.0),\n",
       " 311: ('INDUSTRIAL', 0.0026807238859384653),\n",
       " 253: ('AGRICOLA', 0.00023539900649266468),\n",
       " 543: ('AGRICOLA', 5.6495761558239526e-05),\n",
       " 884: ('AGRICOLA', 0.0014688898005142277),\n",
       " 394: ('SERVICIOS', 0.00016477930454486528),\n",
       " 1137: ('AGRICOLA', 0.0020885070654042197),\n",
       " 933: ('AGRICOLA', 0.003673443868139201),\n",
       " 1032: ('AGRICOLA', 0.0018249543377350322),\n",
       " 1075: ('AGRICOLA', 5.6495761558239526e-05),\n",
       " 183: ('AGRICOLA', 0.0002118591058433982),\n",
       " 414: ('AGRICOLA', 0.00036722245012855693),\n",
       " 517: ('PUBLICO URBANO', 0.00040802331248750715),\n",
       " 1041: ('AGRICOLA', 0.0010357556285677245),\n",
       " 354: ('AGRICOLA', 3.502737216610851e-05),\n",
       " 130: ('PUBLICO URBANO', 0.00010310476484378713),\n",
       " 345: ('AGRICOLA', 0.004384071096919387),\n",
       " 809: ('INDUSTRIAL', 0.0032993524750011883),\n",
       " 717: ('AGRICOLA', 2.8247880779119763e-05),\n",
       " 20: ('AGRICOLA', 0.00032955860908973056),\n",
       " 611: ('AGRICOLA', 0.0010169237080483115),\n",
       " 692: ('AGRICOLA', 0.0012711546350603893),\n",
       " 838: ('PUBLICO URBANO', 0.0057437357584210185),\n",
       " 688: ('AGRICOLA', 3.950466126959899e-05),\n",
       " 1051: ('AGRICOLA', 0.0008474364233735928),\n",
       " 336: ('AGRICOLA', 0.0014010948866443403),\n",
       " 56: ('AGRICOLA', 0.0009886758272691916),\n",
       " 514: ('AGRICOLA', 2.394478694043385e-05),\n",
       " 123: ('AGRICOLA', 4.519660924659162e-05),\n",
       " 129: ('PUBLICO URBANO', 0.0008454590717190545),\n",
       " 792: ('INDUSTRIAL', 0.0020620952968757426),\n",
       " 1293: ('AGRICOLA', 0.0006073294367510749),\n",
       " 801: ('INDUSTRIAL', 0.0027219657918759804)}"
      ]
     },
     "execution_count": 80,
     "metadata": {},
     "output_type": "execute_result"
    }
   ],
   "source": [
    "volumen_pon"
   ]
  },
  {
   "cell_type": "code",
   "execution_count": 102,
   "id": "e16635d7-9162-449f-b85f-85d3de5f2cb1",
   "metadata": {},
   "outputs": [
    {
     "data": {
      "text/html": [
       "<div>\n",
       "<style scoped>\n",
       "    .dataframe tbody tr th:only-of-type {\n",
       "        vertical-align: middle;\n",
       "    }\n",
       "\n",
       "    .dataframe tbody tr th {\n",
       "        vertical-align: top;\n",
       "    }\n",
       "\n",
       "    .dataframe thead th {\n",
       "        text-align: right;\n",
       "    }\n",
       "</style>\n",
       "<table border=\"1\" class=\"dataframe\">\n",
       "  <thead>\n",
       "    <tr style=\"text-align: right;\">\n",
       "      <th></th>\n",
       "      <th>ID</th>\n",
       "      <th>Uso</th>\n",
       "      <th>Volumen Ponderado</th>\n",
       "    </tr>\n",
       "  </thead>\n",
       "  <tbody>\n",
       "    <tr>\n",
       "      <th>0</th>\n",
       "      <td>420</td>\n",
       "      <td>AGRICOLA</td>\n",
       "      <td>0.000593</td>\n",
       "    </tr>\n",
       "    <tr>\n",
       "      <th>1</th>\n",
       "      <td>1158</td>\n",
       "      <td>AGRICOLA</td>\n",
       "      <td>0.000322</td>\n",
       "    </tr>\n",
       "    <tr>\n",
       "      <th>2</th>\n",
       "      <td>1343</td>\n",
       "      <td>AGRICOLA</td>\n",
       "      <td>0.000706</td>\n",
       "    </tr>\n",
       "    <tr>\n",
       "      <th>3</th>\n",
       "      <td>802</td>\n",
       "      <td>INDUSTRIAL</td>\n",
       "      <td>0.002475</td>\n",
       "    </tr>\n",
       "    <tr>\n",
       "      <th>4</th>\n",
       "      <td>1071</td>\n",
       "      <td>AGRICOLA</td>\n",
       "      <td>0.001827</td>\n",
       "    </tr>\n",
       "  </tbody>\n",
       "</table>\n",
       "</div>"
      ],
      "text/plain": [
       "     ID         Uso  Volumen Ponderado\n",
       "0   420    AGRICOLA           0.000593\n",
       "1  1158    AGRICOLA           0.000322\n",
       "2  1343    AGRICOLA           0.000706\n",
       "3   802  INDUSTRIAL           0.002475\n",
       "4  1071    AGRICOLA           0.001827"
      ]
     },
     "execution_count": 102,
     "metadata": {},
     "output_type": "execute_result"
    }
   ],
   "source": [
    "Vol_df = pd.DataFrame([[key, volumen_pon[key][0], volumen_pon[key][1]] for key in volumen_pon.keys()], columns=['ID', 'Uso', 'Volumen Ponderado'])\n",
    "Vol_df.head()"
   ]
  },
  {
   "cell_type": "code",
   "execution_count": 103,
   "id": "3255908d-a2ee-4c91-857e-c7e2206f7f9b",
   "metadata": {},
   "outputs": [
    {
     "data": {
      "text/html": [
       "<div>\n",
       "<style scoped>\n",
       "    .dataframe tbody tr th:only-of-type {\n",
       "        vertical-align: middle;\n",
       "    }\n",
       "\n",
       "    .dataframe tbody tr th {\n",
       "        vertical-align: top;\n",
       "    }\n",
       "\n",
       "    .dataframe thead th {\n",
       "        text-align: right;\n",
       "    }\n",
       "</style>\n",
       "<table border=\"1\" class=\"dataframe\">\n",
       "  <thead>\n",
       "    <tr style=\"text-align: right;\">\n",
       "      <th></th>\n",
       "      <th>ID</th>\n",
       "      <th>Volumen Ponderado</th>\n",
       "    </tr>\n",
       "    <tr>\n",
       "      <th>Uso</th>\n",
       "      <th></th>\n",
       "      <th></th>\n",
       "    </tr>\n",
       "  </thead>\n",
       "  <tbody>\n",
       "    <tr>\n",
       "      <th>AGRICOLA</th>\n",
       "      <td>128565</td>\n",
       "      <td>0.114226</td>\n",
       "    </tr>\n",
       "    <tr>\n",
       "      <th>DIFERENTES USOS</th>\n",
       "      <td>1050</td>\n",
       "      <td>0.000703</td>\n",
       "    </tr>\n",
       "    <tr>\n",
       "      <th>INDUSTRIAL</th>\n",
       "      <td>16713</td>\n",
       "      <td>0.066223</td>\n",
       "    </tr>\n",
       "    <tr>\n",
       "      <th>PECUARIO</th>\n",
       "      <td>2549</td>\n",
       "      <td>0.000381</td>\n",
       "    </tr>\n",
       "    <tr>\n",
       "      <th>PUBLICO URBANO</th>\n",
       "      <td>34588</td>\n",
       "      <td>0.050656</td>\n",
       "    </tr>\n",
       "    <tr>\n",
       "      <th>SERVICIOS</th>\n",
       "      <td>3209</td>\n",
       "      <td>0.002216</td>\n",
       "    </tr>\n",
       "  </tbody>\n",
       "</table>\n",
       "</div>"
      ],
      "text/plain": [
       "                     ID  Volumen Ponderado\n",
       "Uso                                       \n",
       "AGRICOLA         128565           0.114226\n",
       "DIFERENTES USOS    1050           0.000703\n",
       "INDUSTRIAL        16713           0.066223\n",
       "PECUARIO           2549           0.000381\n",
       "PUBLICO URBANO    34588           0.050656\n",
       "SERVICIOS          3209           0.002216"
      ]
     },
     "execution_count": 103,
     "metadata": {},
     "output_type": "execute_result"
    }
   ],
   "source": [
    "Vol_df.groupby('Uso').sum()"
   ]
  },
  {
   "cell_type": "code",
   "execution_count": 99,
   "id": "9d901948-b966-427e-823d-fe8d18a12d66",
   "metadata": {},
   "outputs": [
    {
     "data": {
      "text/plain": [
       "23.440535461287702"
      ]
     },
     "execution_count": 99,
     "metadata": {},
     "output_type": "execute_result"
    }
   ],
   "source": [
    "Vol_df['Volumen Ponderado'].sum()"
   ]
  },
  {
   "cell_type": "markdown",
   "id": "61267ecb-90ba-44da-8da6-45600e5254a2",
   "metadata": {},
   "source": [
    "## Hacer un nuevo modelo con cross validation"
   ]
  },
  {
   "cell_type": "code",
   "execution_count": 18,
   "id": "8ddf350c-d215-4e34-b5ed-166f47cc75ea",
   "metadata": {},
   "outputs": [
    {
     "name": "stdout",
     "output_type": "stream",
     "text": [
      "[0.7080292  0.5620438  0.61313869 0.63970588 0.70588235 0.66176471\n",
      " 0.65441176 0.66176471 0.63970588 0.52205882]\n",
      "Score promedio 0.6368505796479176\n"
     ]
    }
   ],
   "source": [
    "knn_aux = KNeighborsClassifier()\n",
    "cv_scores = cross_val_score(knn_aux, X_cod, y, cv=10)\n",
    "print(cv_scores)\n",
    "print(\"Score promedio\", np.mean(cv_scores))"
   ]
  },
  {
   "cell_type": "markdown",
   "id": "a90863c5-76e8-4f91-af5a-7f423210a3d6",
   "metadata": {},
   "source": [
    "## Usar GridSearchCV para ver el número óptimo de K"
   ]
  },
  {
   "cell_type": "code",
   "execution_count": 19,
   "id": "0935ef96-7324-4993-8cfe-484773aecbbd",
   "metadata": {},
   "outputs": [
    {
     "name": "stderr",
     "output_type": "stream",
     "text": [
      "/home/michell21/anaconda3/envs/practicasML/lib/python3.9/site-packages/sklearn/model_selection/_split.py:666: UserWarning: The least populated class in y has only 8 members, which is less than n_splits=10.\n",
      "  warnings.warn((\"The least populated class in y has only %d\"\n"
     ]
    },
    {
     "data": {
      "text/plain": [
       "GridSearchCV(cv=10, estimator=KNeighborsClassifier(),\n",
       "             param_grid={'n_neighbors': array([ 1,  2,  3,  4,  5,  6,  7,  8,  9, 10, 11, 12, 13, 14, 15, 16, 17,\n",
       "       18, 19, 20, 21, 22, 23, 24])})"
      ]
     },
     "execution_count": 19,
     "metadata": {},
     "output_type": "execute_result"
    }
   ],
   "source": [
    "#create new a knn model\n",
    "knn2 = KNeighborsClassifier()\n",
    "#create a dictionary of all values we want to test for n_neighbors\n",
    "param_grid = {'n_neighbors': np.arange(1, 25)}\n",
    "#use gridsearch to test all values for n_neighbors\n",
    "knn_gscv = GridSearchCV(knn2, param_grid, cv=10)\n",
    "#fit model to data\n",
    "knn_gscv.fit(X_train, y_train)"
   ]
  },
  {
   "cell_type": "code",
   "execution_count": 20,
   "id": "a5dd0969-a104-40b6-a85d-4fe63a977f25",
   "metadata": {},
   "outputs": [
    {
     "data": {
      "text/plain": [
       "{'n_neighbors': 19}"
      ]
     },
     "execution_count": 20,
     "metadata": {},
     "output_type": "execute_result"
    }
   ],
   "source": [
    "knn_gscv.best_params_"
   ]
  },
  {
   "cell_type": "code",
   "execution_count": 21,
   "id": "92e2db1d-9972-4e11-809f-86a1f7588d0d",
   "metadata": {},
   "outputs": [
    {
     "data": {
      "text/plain": [
       "0.6646600877192983"
      ]
     },
     "execution_count": 21,
     "metadata": {},
     "output_type": "execute_result"
    }
   ],
   "source": [
    "knn_gscv.best_score_"
   ]
  },
  {
   "cell_type": "markdown",
   "id": "22c9dd9d-fd1a-45b1-9047-9f7ead6295e6",
   "metadata": {},
   "source": [
    "Usar "
   ]
  },
  {
   "cell_type": "code",
   "execution_count": 70,
   "id": "785f6849-c8d9-488b-b7ec-879884edcb34",
   "metadata": {},
   "outputs": [
    {
     "name": "stdout",
     "output_type": "stream",
     "text": [
      "Precisión =  0.6356968215158925\n",
      "                 precision    recall  f1-score   support\n",
      "\n",
      "       AGRICOLA       0.72      0.88      0.79       221\n",
      "DIFERENTES USOS       0.00      0.00      0.00        27\n",
      "      DOMESTICO       0.00      0.00      0.00         3\n",
      "     INDUSTRIAL       0.56      0.68      0.61        40\n",
      "       PECUARIO       0.00      0.00      0.00         3\n",
      " PUBLICO URBANO       0.49      0.43      0.46        86\n",
      "      SERVICIOS       0.13      0.07      0.09        29\n",
      "\n",
      "       accuracy                           0.64       409\n",
      "      macro avg       0.27      0.29      0.28       409\n",
      "   weighted avg       0.56      0.64      0.59       409\n",
      "\n"
     ]
    },
    {
     "name": "stderr",
     "output_type": "stream",
     "text": [
      "/home/michell21/anaconda3/envs/practicasML/lib/python3.9/site-packages/sklearn/metrics/_classification.py:1248: UndefinedMetricWarning: Precision and F-score are ill-defined and being set to 0.0 in labels with no predicted samples. Use `zero_division` parameter to control this behavior.\n",
      "  _warn_prf(average, modifier, msg_start, len(result))\n",
      "/home/michell21/anaconda3/envs/practicasML/lib/python3.9/site-packages/sklearn/metrics/_classification.py:1248: UndefinedMetricWarning: Precision and F-score are ill-defined and being set to 0.0 in labels with no predicted samples. Use `zero_division` parameter to control this behavior.\n",
      "  _warn_prf(average, modifier, msg_start, len(result))\n",
      "/home/michell21/anaconda3/envs/practicasML/lib/python3.9/site-packages/sklearn/metrics/_classification.py:1248: UndefinedMetricWarning: Precision and F-score are ill-defined and being set to 0.0 in labels with no predicted samples. Use `zero_division` parameter to control this behavior.\n",
      "  _warn_prf(average, modifier, msg_start, len(result))\n"
     ]
    },
    {
     "data": {
      "text/plain": [
       "<sklearn.metrics._plot.confusion_matrix.ConfusionMatrixDisplay at 0x7f12aacfee50>"
      ]
     },
     "execution_count": 70,
     "metadata": {},
     "output_type": "execute_result"
    },
    {
     "data": {
      "image/png": "[encoded data removed]",
      "text/plain": [
       "<Figure size 432x288 with 2 Axes>"
      ]
     },
     "metadata": {
      "needs_background": "light"
     },
     "output_type": "display_data"
    }
   ],
   "source": [
    "knn_final = knn_gscv.best_estimator_\n",
    "pred_final = knn_final.predict(X_test)\n",
    "y_pred_final = pd.Series(pred_final)\n",
    "print('Precisión = ', precision_score(y_test, y_pred_final, average='micro'))\n",
    "print(classification_report(y_test, y_pred_final))\n",
    "plot_confusion_matrix(knn_final, X_test, y_test)"
   ]
  },
  {
   "cell_type": "markdown",
   "id": "daaf2c32-9e3f-4f1d-863f-e281b411d284",
   "metadata": {},
   "source": [
    "## Graficar los datos"
   ]
  },
  {
   "cell_type": "code",
   "execution_count": 25,
   "id": "ce5397e4-c8dd-45b3-b218-94ac05c20f50",
   "metadata": {},
   "outputs": [
    {
     "data": {
      "text/plain": [
       "array(['AGRICOLA', 'SERVICIOS', 'INDUSTRIAL', 'PUBLICO URBANO',\n",
       "       'DIFERENTES USOS', 'PECUARIO', 'DOMESTICO'], dtype=object)"
      ]
     },
     "execution_count": 25,
     "metadata": {},
     "output_type": "execute_result"
    }
   ],
   "source": [
    "pozos['Uso'].unique()"
   ]
  },
  {
   "cell_type": "code",
   "execution_count": 22,
   "id": "b4ef8799-f83b-4ea6-934d-a72e036b3e0d",
   "metadata": {},
   "outputs": [],
   "source": [
    "label = y_test.map({'AGRICOLA': 0, 'SERVICIOS': 1, 'INDUSTRIAL': 2, 'PUBLICO URBANO': 3,\n",
    "                   'DIFERENTES USOS': 4, 'PECUARIO':5, 'DOMESTICO': 6},na_action=None)"
   ]
  },
  {
   "cell_type": "code",
   "execution_count": 23,
   "id": "fe26639f-8888-4490-a29b-4ef5472f2cc4",
   "metadata": {},
   "outputs": [],
   "source": [
    "label_p = y_pred.map({'AGRICOLA': 0, 'SERVICIOS': 1, 'INDUSTRIAL': 2, 'PUBLICO URBANO': 3,\n",
    "                   'DIFERENTES USOS': 4, 'PECUARIO':5, 'DOMESTICO': 6},na_action=None)"
   ]
  },
  {
   "cell_type": "code",
   "execution_count": 24,
   "id": "053efe21-81fe-4d05-aa55-773cc6dd4756",
   "metadata": {},
   "outputs": [],
   "source": [
    "def grafica(data):\n",
    "    for i in range(10):\n",
    "        plt.scatter(x=data[data==i].index, y=data[data==i], cmap='Sequential')\n",
    "    return plt.show()"
   ]
  },
  {
   "cell_type": "code",
   "execution_count": 25,
   "id": "96b965c6-8d03-4fc1-b209-113dbc454668",
   "metadata": {},
   "outputs": [
    {
     "data": {
      "image/png": "[encoded data removed]",
      "text/plain": [
       "<Figure size 432x288 with 1 Axes>"
      ]
     },
     "metadata": {
      "needs_background": "light"
     },
     "output_type": "display_data"
    }
   ],
   "source": [
    "grafica(label) #original"
   ]
  },
  {
   "cell_type": "code",
   "execution_count": 26,
   "id": "955daddc-8c13-4453-8b59-684505506243",
   "metadata": {},
   "outputs": [
    {
     "data": {
      "image/png": "[encoded data removed]",
      "text/plain": [
       "<Figure size 432x288 with 1 Axes>"
      ]
     },
     "metadata": {
      "needs_background": "light"
     },
     "output_type": "display_data"
    }
   ],
   "source": [
    "grafica(label_p) #Primera prediccion k=3"
   ]
  },
  {
   "cell_type": "markdown",
   "id": "6f54342d-1fa1-43ba-8f91-bfdd4bc20dd6",
   "metadata": {},
   "source": [
    "# Encontrar el valor de k"
   ]
  },
  {
   "cell_type": "code",
   "execution_count": 41,
   "id": "20924e18-042d-4d11-b172-b16ca529b35e",
   "metadata": {},
   "outputs": [
    {
     "data": {
      "text/plain": [
       "([<matplotlib.axis.YTick at 0x7fa2de68e8e0>,\n",
       "  <matplotlib.axis.YTick at 0x7fa2ddaf6eb0>,\n",
       "  <matplotlib.axis.YTick at 0x7fa2ddd10c10>,\n",
       "  <matplotlib.axis.YTick at 0x7fa2ddd1e3d0>,\n",
       "  <matplotlib.axis.YTick at 0x7fa2ddd1e7f0>],\n",
       " [Text(0, 0, ''),\n",
       "  Text(0, 0, ''),\n",
       "  Text(0, 0, ''),\n",
       "  Text(0, 0, ''),\n",
       "  Text(0, 0, '')])"
      ]
     },
     "execution_count": 41,
     "metadata": {},
     "output_type": "execute_result"
    },
    {
     "data": {
      "image/png": "[encoded data removed]",
      "text/plain": [
       "<Figure size 432x288 with 1 Axes>"
      ]
     },
     "metadata": {
      "needs_background": "light"
     },
     "output_type": "display_data"
    }
   ],
   "source": [
    "#No usar test. Se sobreajusta\n",
    "\n",
    "k_range = range(2, 25)\n",
    "scores = []\n",
    "for k in k_range:\n",
    "    knn = KNeighborsClassifier(n_neighbors = k)\n",
    "    knn.fit(X_train, y_train)\n",
    "    pred1=knn.predict(X_train)\n",
    "    scores.append(f1_score(y_train, pred1, average='micro'))\n",
    "#plt.figure()\n",
    "plt.scatter(k_range, scores)\n",
    "plt.xlabel('k')\n",
    "plt.ylabel('Precision')\n",
    "plt.grid()\n",
    "plt.xticks([0,5,10,15,20])\n",
    "plt.yticks([0, 0.25, 0.5, 0.75, 1])"
   ]
  },
  {
   "cell_type": "code",
   "execution_count": 42,
   "id": "d37b826d-bbb9-42d0-b2cf-71eec054b1b9",
   "metadata": {},
   "outputs": [
    {
     "data": {
      "text/plain": [
       "KNeighborsClassifier(n_neighbors=15, weights='distance')"
      ]
     },
     "execution_count": 42,
     "metadata": {},
     "output_type": "execute_result"
    }
   ],
   "source": [
    "knn_k = KNeighborsClassifier(n_neighbors=15, weights='distance')\n",
    "knn_k.fit(X_train, y_train)"
   ]
  },
  {
   "cell_type": "code",
   "execution_count": 43,
   "id": "58528158-f7a0-4fae-b628-aaf7e8220d72",
   "metadata": {},
   "outputs": [
    {
     "name": "stdout",
     "output_type": "stream",
     "text": [
      "Precisión =  0.6674816625916871\n"
     ]
    }
   ],
   "source": [
    "pred_k = knn_k.predict(X_test)\n",
    "y_pred_k = pd.Series(pred_k)\n",
    "print('Precisión = ', precision_score(y_test, y_pred_k, average='micro'))"
   ]
  },
  {
   "cell_type": "code",
   "execution_count": 31,
   "id": "5d9ba2a1-bbb7-467d-85af-f0b466b7aa60",
   "metadata": {},
   "outputs": [
    {
     "data": {
      "image/png": "[encoded data removed]",
      "text/plain": [
       "<Figure size 432x288 with 1 Axes>"
      ]
     },
     "metadata": {
      "needs_background": "light"
     },
     "output_type": "display_data"
    }
   ],
   "source": [
    "label_final = y_pred.map({'AGRICOLA': 0, 'SERVICIOS': 1, 'INDUSTRIAL': 2, 'PUBLICO URBANO': 3,\n",
    "                   'DIFERENTES USOS': 4, 'PECUARIO':5, 'DOMESTICO': 6},na_action=None)\n",
    "grafica(label_p)"
   ]
  },
  {
   "cell_type": "code",
   "execution_count": null,
   "id": "ccdfa8c2-0eb8-4370-b9d8-9a0af5ee51af",
   "metadata": {},
   "outputs": [],
   "source": []
  }
 ],
 "metadata": {
  "kernelspec": {
   "display_name": "Python 3",
   "language": "python",
   "name": "python3"
  },
  "language_info": {
   "codemirror_mode": {
    "name": "ipython",
    "version": 3
   },
   "file_extension": ".py",
   "mimetype": "text/x-python",
   "name": "python",
   "nbconvert_exporter": "python",
   "pygments_lexer": "ipython3",
   "version": "3.9.5"
  }
 },
 "nbformat": 4,
 "nbformat_minor": 5
}

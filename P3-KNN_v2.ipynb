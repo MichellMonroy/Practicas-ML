{
 "cells": [
  {
   "cell_type": "markdown",
   "id": "4ad3e2f5-afe3-47f4-b680-510556ea00e8",
   "metadata": {},
   "source": [
    "# k-vecinos más cercanos versión 2"
   ]
  },
  {
   "cell_type": "code",
   "execution_count": 1,
   "id": "42d1be66-7dd0-4a2e-b718-a233c28035da",
   "metadata": {},
   "outputs": [],
   "source": [
    "import os\n",
    "import path\n",
    "import zipfile\n",
    "import numpy as np\n",
    "import pandas as pd\n",
    "from sklearn.model_selection import GridSearchCV, train_test_split, cross_val_score\n",
    "from sklearn.preprocessing import LabelEncoder, MinMaxScaler\n",
    "from sklearn.neighbors import KNeighborsClassifier\n",
    "from sklearn.metrics import plot_confusion_matrix, precision_score, classification_report, recall_score, f1_score\n",
    "import matplotlib.pyplot as plt\n",
    "import seaborn as sns"
   ]
  },
  {
   "cell_type": "code",
   "execution_count": 2,
   "id": "0380c2bd-b1c4-4a9a-9ce6-4da023d91525",
   "metadata": {},
   "outputs": [],
   "source": [
    "Path = \"/home/michell21/Datasets/\" #Puede cambiar de acuerdo al usuario"
   ]
  },
  {
   "cell_type": "markdown",
   "id": "0259002a-60c3-44c0-903a-d07832bcdd62",
   "metadata": {},
   "source": [
    "Instalar las siguientes librerías para leer el archivo\n",
    "\n",
    "- conda install xlrd\n",
    "- conda install openpyxl"
   ]
  },
  {
   "cell_type": "code",
   "execution_count": 3,
   "id": "30be36be-45f4-4dc0-a205-d4704402bc0c",
   "metadata": {},
   "outputs": [],
   "source": [
    "read = pd.read_excel(Path+'Pozos_Michoacan.xlsx')"
   ]
  },
  {
   "cell_type": "code",
   "execution_count": 4,
   "id": "7bf976df-29d5-4203-8772-9d46e5f84fef",
   "metadata": {},
   "outputs": [],
   "source": [
    "pozos = pd.DataFrame(pd.read_excel(Path+'Pozos_Michoacan.xlsx'))"
   ]
  },
  {
   "cell_type": "code",
   "execution_count": 5,
   "id": "186208aa-9660-4061-a548-7502c9469288",
   "metadata": {},
   "outputs": [
    {
     "data": {
      "text/html": [
       "<div>\n",
       "<style scoped>\n",
       "    .dataframe tbody tr th:only-of-type {\n",
       "        vertical-align: middle;\n",
       "    }\n",
       "\n",
       "    .dataframe tbody tr th {\n",
       "        vertical-align: top;\n",
       "    }\n",
       "\n",
       "    .dataframe thead th {\n",
       "        text-align: right;\n",
       "    }\n",
       "</style>\n",
       "<table border=\"1\" class=\"dataframe\">\n",
       "  <thead>\n",
       "    <tr style=\"text-align: right;\">\n",
       "      <th></th>\n",
       "      <th>#</th>\n",
       "      <th>Título</th>\n",
       "      <th>Latitud</th>\n",
       "      <th>Longitud</th>\n",
       "      <th>Estado</th>\n",
       "      <th>Municipio</th>\n",
       "      <th>RegiónHidrológica</th>\n",
       "      <th>Cuenca</th>\n",
       "      <th>AcuíferoHomologado</th>\n",
       "      <th>Volumen (m3/año)</th>\n",
       "      <th>Uso</th>\n",
       "    </tr>\n",
       "  </thead>\n",
       "  <tbody>\n",
       "    <tr>\n",
       "      <th>0</th>\n",
       "      <td>1</td>\n",
       "      <td>837156</td>\n",
       "      <td>19°58'36.0006\"</td>\n",
       "      <td>-101°16'41.0007\"</td>\n",
       "      <td>MICHOACÁN DE OCAMPO</td>\n",
       "      <td>HUANDACAREO</td>\n",
       "      <td>LERMA-SANTIAGO</td>\n",
       "      <td>188</td>\n",
       "      <td>1602  - MORELIA-QUERENDARO</td>\n",
       "      <td>22800.0</td>\n",
       "      <td>AGRICOLA</td>\n",
       "    </tr>\n",
       "    <tr>\n",
       "      <th>1</th>\n",
       "      <td>2</td>\n",
       "      <td>836988</td>\n",
       "      <td>19°59'22.0004\"</td>\n",
       "      <td>-101°16'30.0003\"</td>\n",
       "      <td>MICHOACÁN DE OCAMPO</td>\n",
       "      <td>HUANDACAREO</td>\n",
       "      <td>LERMA-SANTIAGO</td>\n",
       "      <td>188</td>\n",
       "      <td>1602  - MORELIA-QUERENDARO</td>\n",
       "      <td>9000.0</td>\n",
       "      <td>AGRICOLA</td>\n",
       "    </tr>\n",
       "    <tr>\n",
       "      <th>2</th>\n",
       "      <td>3</td>\n",
       "      <td>836992</td>\n",
       "      <td>20°02'22.0006\"</td>\n",
       "      <td>-101°09'00.0005\"</td>\n",
       "      <td>MICHOACÁN DE OCAMPO</td>\n",
       "      <td>CUITZEO</td>\n",
       "      <td>LERMA-SANTIAGO</td>\n",
       "      <td>188</td>\n",
       "      <td>1602  - MORELIA-QUERENDARO</td>\n",
       "      <td>20020.0</td>\n",
       "      <td>AGRICOLA</td>\n",
       "    </tr>\n",
       "    <tr>\n",
       "      <th>3</th>\n",
       "      <td>4</td>\n",
       "      <td>836822</td>\n",
       "      <td>20°01'50.0005\"</td>\n",
       "      <td>-101°09'38.0006\"</td>\n",
       "      <td>MICHOACÁN DE OCAMPO</td>\n",
       "      <td>CUITZEO</td>\n",
       "      <td>LERMA-SANTIAGO</td>\n",
       "      <td>188</td>\n",
       "      <td>1602  - MORELIA-QUERENDARO</td>\n",
       "      <td>6000.0</td>\n",
       "      <td>AGRICOLA</td>\n",
       "    </tr>\n",
       "    <tr>\n",
       "      <th>4</th>\n",
       "      <td>5</td>\n",
       "      <td>835739</td>\n",
       "      <td>19°49'11.0005\"</td>\n",
       "      <td>-101°08'37.0006\"</td>\n",
       "      <td>MICHOACÁN DE OCAMPO</td>\n",
       "      <td>TARÍMBARO</td>\n",
       "      <td>LERMA-SANTIAGO</td>\n",
       "      <td>188</td>\n",
       "      <td>1602  - MORELIA-QUERENDARO</td>\n",
       "      <td>30000.0</td>\n",
       "      <td>SERVICIOS</td>\n",
       "    </tr>\n",
       "  </tbody>\n",
       "</table>\n",
       "</div>"
      ],
      "text/plain": [
       "   #  Título         Latitud          Longitud               Estado  \\\n",
       "0  1  837156  19°58'36.0006\"  -101°16'41.0007\"  MICHOACÁN DE OCAMPO   \n",
       "1  2  836988  19°59'22.0004\"  -101°16'30.0003\"  MICHOACÁN DE OCAMPO   \n",
       "2  3  836992  20°02'22.0006\"  -101°09'00.0005\"  MICHOACÁN DE OCAMPO   \n",
       "3  4  836822  20°01'50.0005\"  -101°09'38.0006\"  MICHOACÁN DE OCAMPO   \n",
       "4  5  835739  19°49'11.0005\"  -101°08'37.0006\"  MICHOACÁN DE OCAMPO   \n",
       "\n",
       "     Municipio RegiónHidrológica  Cuenca          AcuíferoHomologado  \\\n",
       "0  HUANDACAREO    LERMA-SANTIAGO     188  1602  - MORELIA-QUERENDARO   \n",
       "1  HUANDACAREO    LERMA-SANTIAGO     188  1602  - MORELIA-QUERENDARO   \n",
       "2      CUITZEO    LERMA-SANTIAGO     188  1602  - MORELIA-QUERENDARO   \n",
       "3      CUITZEO    LERMA-SANTIAGO     188  1602  - MORELIA-QUERENDARO   \n",
       "4    TARÍMBARO    LERMA-SANTIAGO     188  1602  - MORELIA-QUERENDARO   \n",
       "\n",
       "   Volumen (m3/año)        Uso  \n",
       "0           22800.0   AGRICOLA  \n",
       "1            9000.0   AGRICOLA  \n",
       "2           20020.0   AGRICOLA  \n",
       "3            6000.0   AGRICOLA  \n",
       "4           30000.0  SERVICIOS  "
      ]
     },
     "execution_count": 5,
     "metadata": {},
     "output_type": "execute_result"
    }
   ],
   "source": [
    "pozos.head()"
   ]
  },
  {
   "cell_type": "code",
   "execution_count": 28,
   "id": "53a7210e-ed62-4795-b9b6-aa9f2cfd5955",
   "metadata": {},
   "outputs": [
    {
     "name": "stdout",
     "output_type": "stream",
     "text": [
      "<class 'pandas.core.frame.DataFrame'>\n",
      "RangeIndex: 1363 entries, 0 to 1362\n",
      "Data columns (total 11 columns):\n",
      " #   Column              Non-Null Count  Dtype  \n",
      "---  ------              --------------  -----  \n",
      " 0   #                   1363 non-null   int64  \n",
      " 1   Título              1363 non-null   object \n",
      " 2   Latitud             1363 non-null   object \n",
      " 3   Longitud            1363 non-null   object \n",
      " 4   Estado              1363 non-null   object \n",
      " 5   Municipio           1363 non-null   object \n",
      " 6   RegiónHidrológica   1363 non-null   object \n",
      " 7   Cuenca              1363 non-null   int64  \n",
      " 8   AcuíferoHomologado  1363 non-null   object \n",
      " 9   Volumen (m3/año)    1363 non-null   float64\n",
      " 10  Uso                 1363 non-null   object \n",
      "dtypes: float64(1), int64(2), object(8)\n",
      "memory usage: 117.3+ KB\n"
     ]
    }
   ],
   "source": [
    "pozos.info()"
   ]
  },
  {
   "cell_type": "code",
   "execution_count": 5,
   "id": "55a3ed8a-40e7-4b8d-aa45-d2bd04688633",
   "metadata": {},
   "outputs": [
    {
     "data": {
      "text/html": [
       "<div>\n",
       "<style scoped>\n",
       "    .dataframe tbody tr th:only-of-type {\n",
       "        vertical-align: middle;\n",
       "    }\n",
       "\n",
       "    .dataframe tbody tr th {\n",
       "        vertical-align: top;\n",
       "    }\n",
       "\n",
       "    .dataframe thead th {\n",
       "        text-align: right;\n",
       "    }\n",
       "</style>\n",
       "<table border=\"1\" class=\"dataframe\">\n",
       "  <thead>\n",
       "    <tr style=\"text-align: right;\">\n",
       "      <th></th>\n",
       "      <th>#</th>\n",
       "      <th>Cuenca</th>\n",
       "      <th>Volumen (m3/año)</th>\n",
       "    </tr>\n",
       "  </thead>\n",
       "  <tbody>\n",
       "    <tr>\n",
       "      <th>count</th>\n",
       "      <td>1363.00000</td>\n",
       "      <td>1363.000000</td>\n",
       "      <td>1.363000e+03</td>\n",
       "    </tr>\n",
       "    <tr>\n",
       "      <th>mean</th>\n",
       "      <td>682.00000</td>\n",
       "      <td>28.546588</td>\n",
       "      <td>1.558366e+05</td>\n",
       "    </tr>\n",
       "    <tr>\n",
       "      <th>std</th>\n",
       "      <td>393.60852</td>\n",
       "      <td>67.485278</td>\n",
       "      <td>3.884465e+05</td>\n",
       "    </tr>\n",
       "    <tr>\n",
       "      <th>min</th>\n",
       "      <td>1.00000</td>\n",
       "      <td>0.000000</td>\n",
       "      <td>0.000000e+00</td>\n",
       "    </tr>\n",
       "    <tr>\n",
       "      <th>25%</th>\n",
       "      <td>341.50000</td>\n",
       "      <td>0.000000</td>\n",
       "      <td>1.500000e+04</td>\n",
       "    </tr>\n",
       "    <tr>\n",
       "      <th>50%</th>\n",
       "      <td>682.00000</td>\n",
       "      <td>0.000000</td>\n",
       "      <td>4.668000e+04</td>\n",
       "    </tr>\n",
       "    <tr>\n",
       "      <th>75%</th>\n",
       "      <td>1022.50000</td>\n",
       "      <td>0.000000</td>\n",
       "      <td>1.621800e+05</td>\n",
       "    </tr>\n",
       "    <tr>\n",
       "      <th>max</th>\n",
       "      <td>1363.00000</td>\n",
       "      <td>188.000000</td>\n",
       "      <td>1.103760e+07</td>\n",
       "    </tr>\n",
       "  </tbody>\n",
       "</table>\n",
       "</div>"
      ],
      "text/plain": [
       "                #       Cuenca  Volumen (m3/año)\n",
       "count  1363.00000  1363.000000      1.363000e+03\n",
       "mean    682.00000    28.546588      1.558366e+05\n",
       "std     393.60852    67.485278      3.884465e+05\n",
       "min       1.00000     0.000000      0.000000e+00\n",
       "25%     341.50000     0.000000      1.500000e+04\n",
       "50%     682.00000     0.000000      4.668000e+04\n",
       "75%    1022.50000     0.000000      1.621800e+05\n",
       "max    1363.00000   188.000000      1.103760e+07"
      ]
     },
     "execution_count": 5,
     "metadata": {},
     "output_type": "execute_result"
    }
   ],
   "source": [
    "pozos.describe()"
   ]
  },
  {
   "cell_type": "markdown",
   "id": "0649df31-3082-4273-8272-247d9f44b945",
   "metadata": {},
   "source": [
    "Como no hay registros vacios, se procede a trabajar con los datos. Lo primero será borrar la columna # "
   ]
  },
  {
   "cell_type": "markdown",
   "id": "5622fd1f-f4d2-4379-a290-c9075502aa11",
   "metadata": {},
   "source": [
    "# Visualización de Datos"
   ]
  },
  {
   "cell_type": "code",
   "execution_count": 6,
   "id": "062963f6-2e7f-44be-a6ae-3cac7e9191bd",
   "metadata": {},
   "outputs": [
    {
     "data": {
      "text/plain": [
       "<seaborn.axisgrid.FacetGrid at 0x7f904c144670>"
      ]
     },
     "execution_count": 6,
     "metadata": {},
     "output_type": "execute_result"
    },
    {
     "data": {
      "image/png": "[encoded data removed]",
      "text/plain": [
       "<Figure size 360x360 with 1 Axes>"
      ]
     },
     "metadata": {
      "needs_background": "light"
     },
     "output_type": "display_data"
    }
   ],
   "source": [
    "sns.displot(pozos['Uso'], palette=\"rocket\")"
   ]
  },
  {
   "cell_type": "code",
   "execution_count": 7,
   "id": "68b3557b-828d-466c-ba2d-2f0a4de9320b",
   "metadata": {},
   "outputs": [
    {
     "data": {
      "text/plain": [
       "<seaborn.axisgrid.FacetGrid at 0x7f9018bb5100>"
      ]
     },
     "execution_count": 7,
     "metadata": {},
     "output_type": "execute_result"
    },
    {
     "data": {
      "image/png": "[encoded data removed]",
      "text/plain": [
       "<Figure size 360x360 with 1 Axes>"
      ]
     },
     "metadata": {
      "needs_background": "light"
     },
     "output_type": "display_data"
    }
   ],
   "source": [
    "sns.displot(pozos['Municipio'], palette=\"rocket\")"
   ]
  },
  {
   "cell_type": "code",
   "execution_count": 5,
   "id": "1a301f7e-e568-437a-a138-0630f6b0884f",
   "metadata": {},
   "outputs": [],
   "source": [
    "pozos.drop(['#', 'Estado', \"Título\"], axis = 1, inplace = True) #Eliminamos estos dos ya que no aportan información"
   ]
  },
  {
   "cell_type": "code",
   "execution_count": 6,
   "id": "3c3bd4c5-6807-45f2-8fcd-dac888cf4b12",
   "metadata": {},
   "outputs": [],
   "source": [
    "def grad2float(datos, id1,id2):\n",
    "    characters = '°\\'\"'\n",
    "    lista = []\n",
    "    for i in datos:\n",
    "        i = ''.join( x for x in i if x not in characters)\n",
    "        if i[0] == '-':\n",
    "            a = -1*(3600*float(i[1:id1]) + 60*float(i[id1:id2]) + float(i[id2:])) #Para longitud\n",
    "        else:\n",
    "            a = 3600*float(i[:id1]) + 60*float(i[id1:id2]) + float(i[id2:])\n",
    "        #a = 3600*float(i[:4]) + 60*float(i[4:6]) + float(i[6:]) #Para latitud\n",
    "        lista.append(float(a))\n",
    "    return lista"
   ]
  },
  {
   "cell_type": "code",
   "execution_count": 7,
   "id": "e9696b95-578d-49a7-83c9-35077b1f637c",
   "metadata": {},
   "outputs": [],
   "source": [
    "pozos['Latitud'] = grad2float(pozos['Latitud'], 2, 4)\n",
    "pozos['Longitud'] = grad2float(pozos['Longitud'], 4, 6)"
   ]
  },
  {
   "cell_type": "code",
   "execution_count": 8,
   "id": "18fc791b-5046-4f90-9674-76f18cd82b0b",
   "metadata": {},
   "outputs": [
    {
     "data": {
      "text/plain": [
       "AGRICOLA           745\n",
       "PUBLICO URBANO     296\n",
       "INDUSTRIAL         107\n",
       "DIFERENTES USOS     91\n",
       "SERVICIOS           87\n",
       "DOMESTICO           23\n",
       "PECUARIO            11\n",
       "ACUACULTURA          2\n",
       "AGROINDUSTIAL        1\n",
       "Name: Uso, dtype: int64"
      ]
     },
     "execution_count": 8,
     "metadata": {},
     "output_type": "execute_result"
    }
   ],
   "source": [
    "pozos['Uso'].value_counts()  #No unir a Diferentes usos"
   ]
  },
  {
   "cell_type": "code",
   "execution_count": 84,
   "id": "fb033211-3e1e-4c3a-82ca-322188ea5220",
   "metadata": {
    "tags": []
   },
   "outputs": [
    {
     "data": {
      "text/plain": [
       "1602 - MORELIA-QUERENDARO       1335\n",
       "1610 - CIUDAD HIDALGO-TUXPAN      28\n",
       "Name: AcuíferoHomologado, dtype: int64"
      ]
     },
     "execution_count": 84,
     "metadata": {},
     "output_type": "execute_result"
    }
   ],
   "source": [
    "pozos['AcuíferoHomologado'].value_counts()  #Eliminar"
   ]
  },
  {
   "cell_type": "code",
   "execution_count": 9,
   "id": "15ddde78-012a-4234-b6b1-2eed329b726a",
   "metadata": {},
   "outputs": [
    {
     "data": {
      "text/html": [
       "<div>\n",
       "<style scoped>\n",
       "    .dataframe tbody tr th:only-of-type {\n",
       "        vertical-align: middle;\n",
       "    }\n",
       "\n",
       "    .dataframe tbody tr th {\n",
       "        vertical-align: top;\n",
       "    }\n",
       "\n",
       "    .dataframe thead th {\n",
       "        text-align: right;\n",
       "    }\n",
       "</style>\n",
       "<table border=\"1\" class=\"dataframe\">\n",
       "  <thead>\n",
       "    <tr style=\"text-align: right;\">\n",
       "      <th></th>\n",
       "      <th>Latitud</th>\n",
       "      <th>Longitud</th>\n",
       "      <th>Municipio</th>\n",
       "      <th>RegiónHidrológica</th>\n",
       "      <th>Cuenca</th>\n",
       "      <th>AcuíferoHomologado</th>\n",
       "      <th>Volumen (m3/año)</th>\n",
       "      <th>Uso</th>\n",
       "    </tr>\n",
       "  </thead>\n",
       "  <tbody>\n",
       "    <tr>\n",
       "      <th>280</th>\n",
       "      <td>71665.0</td>\n",
       "      <td>-363020.0</td>\n",
       "      <td>ZINAPÉCUARO</td>\n",
       "      <td>LERMA-SANTIAGO</td>\n",
       "      <td>0</td>\n",
       "      <td>1602  - MORELIA-QUERENDARO</td>\n",
       "      <td>30000.0</td>\n",
       "      <td>ACUACULTURA</td>\n",
       "    </tr>\n",
       "    <tr>\n",
       "      <th>1302</th>\n",
       "      <td>71663.0</td>\n",
       "      <td>-364157.0</td>\n",
       "      <td>CUITZEO</td>\n",
       "      <td>LERMA-SANTIAGO</td>\n",
       "      <td>0</td>\n",
       "      <td>1602  - MORELIA-QUERENDARO</td>\n",
       "      <td>15000.0</td>\n",
       "      <td>ACUACULTURA</td>\n",
       "    </tr>\n",
       "  </tbody>\n",
       "</table>\n",
       "</div>"
      ],
      "text/plain": [
       "      Latitud  Longitud    Municipio RegiónHidrológica  Cuenca  \\\n",
       "280   71665.0 -363020.0  ZINAPÉCUARO    LERMA-SANTIAGO       0   \n",
       "1302  71663.0 -364157.0      CUITZEO    LERMA-SANTIAGO       0   \n",
       "\n",
       "              AcuíferoHomologado  Volumen (m3/año)          Uso  \n",
       "280   1602  - MORELIA-QUERENDARO           30000.0  ACUACULTURA  \n",
       "1302  1602  - MORELIA-QUERENDARO           15000.0  ACUACULTURA  "
      ]
     },
     "execution_count": 9,
     "metadata": {},
     "output_type": "execute_result"
    }
   ],
   "source": [
    "pozos[pozos['Uso'] == 'ACUACULTURA']"
   ]
  },
  {
   "cell_type": "code",
   "execution_count": 10,
   "id": "bb7eb15e-ee01-4727-86bd-12ce42bc03f9",
   "metadata": {},
   "outputs": [
    {
     "data": {
      "text/html": [
       "<div>\n",
       "<style scoped>\n",
       "    .dataframe tbody tr th:only-of-type {\n",
       "        vertical-align: middle;\n",
       "    }\n",
       "\n",
       "    .dataframe tbody tr th {\n",
       "        vertical-align: top;\n",
       "    }\n",
       "\n",
       "    .dataframe thead th {\n",
       "        text-align: right;\n",
       "    }\n",
       "</style>\n",
       "<table border=\"1\" class=\"dataframe\">\n",
       "  <thead>\n",
       "    <tr style=\"text-align: right;\">\n",
       "      <th></th>\n",
       "      <th>Latitud</th>\n",
       "      <th>Longitud</th>\n",
       "      <th>Municipio</th>\n",
       "      <th>RegiónHidrológica</th>\n",
       "      <th>Cuenca</th>\n",
       "      <th>AcuíferoHomologado</th>\n",
       "      <th>Volumen (m3/año)</th>\n",
       "      <th>Uso</th>\n",
       "    </tr>\n",
       "  </thead>\n",
       "  <tbody>\n",
       "    <tr>\n",
       "      <th>941</th>\n",
       "      <td>72255.0</td>\n",
       "      <td>-364034.0</td>\n",
       "      <td>SANTA ANA MAYA</td>\n",
       "      <td>LERMA-SANTIAGO</td>\n",
       "      <td>0</td>\n",
       "      <td>1602  - MORELIA-QUERENDARO</td>\n",
       "      <td>40000.0</td>\n",
       "      <td>AGROINDUSTIAL</td>\n",
       "    </tr>\n",
       "  </tbody>\n",
       "</table>\n",
       "</div>"
      ],
      "text/plain": [
       "     Latitud  Longitud       Municipio RegiónHidrológica  Cuenca  \\\n",
       "941  72255.0 -364034.0  SANTA ANA MAYA    LERMA-SANTIAGO       0   \n",
       "\n",
       "             AcuíferoHomologado  Volumen (m3/año)            Uso  \n",
       "941  1602  - MORELIA-QUERENDARO           40000.0  AGROINDUSTIAL  "
      ]
     },
     "execution_count": 10,
     "metadata": {},
     "output_type": "execute_result"
    }
   ],
   "source": [
    "pozos[pozos['Uso'] == 'AGROINDUSTIAL']"
   ]
  },
  {
   "cell_type": "code",
   "execution_count": 8,
   "id": "a05960db-24c6-46a0-a6f3-7d4ad0c86bcc",
   "metadata": {},
   "outputs": [],
   "source": [
    "#Reemplazar 1602  - MORELIA-QUERENDARO con 1602 - MORELIA-QUERENDARO\n",
    "pozos['AcuíferoHomologado'].replace('1602  - MORELIA-QUERENDARO', '1602 - MORELIA-QUERENDARO', inplace = True)"
   ]
  },
  {
   "cell_type": "code",
   "execution_count": 9,
   "id": "1a5bec9e-e400-4b21-9d93-a0f143777c71",
   "metadata": {},
   "outputs": [
    {
     "data": {
      "text/html": [
       "<div>\n",
       "<style scoped>\n",
       "    .dataframe tbody tr th:only-of-type {\n",
       "        vertical-align: middle;\n",
       "    }\n",
       "\n",
       "    .dataframe tbody tr th {\n",
       "        vertical-align: top;\n",
       "    }\n",
       "\n",
       "    .dataframe thead th {\n",
       "        text-align: right;\n",
       "    }\n",
       "</style>\n",
       "<table border=\"1\" class=\"dataframe\">\n",
       "  <thead>\n",
       "    <tr style=\"text-align: right;\">\n",
       "      <th></th>\n",
       "      <th>Latitud</th>\n",
       "      <th>Longitud</th>\n",
       "      <th>Cuenca</th>\n",
       "      <th>Volumen (m3/año)</th>\n",
       "    </tr>\n",
       "  </thead>\n",
       "  <tbody>\n",
       "    <tr>\n",
       "      <th>count</th>\n",
       "      <td>1363.000000</td>\n",
       "      <td>1363.000000</td>\n",
       "      <td>1363.000000</td>\n",
       "      <td>1.363000e+03</td>\n",
       "    </tr>\n",
       "    <tr>\n",
       "      <th>mean</th>\n",
       "      <td>71490.946855</td>\n",
       "      <td>-364096.132121</td>\n",
       "      <td>28.546588</td>\n",
       "      <td>1.558366e+05</td>\n",
       "    </tr>\n",
       "    <tr>\n",
       "      <th>std</th>\n",
       "      <td>645.397221</td>\n",
       "      <td>721.149748</td>\n",
       "      <td>67.485278</td>\n",
       "      <td>3.884465e+05</td>\n",
       "    </tr>\n",
       "    <tr>\n",
       "      <th>min</th>\n",
       "      <td>68005.000000</td>\n",
       "      <td>-371361.000000</td>\n",
       "      <td>0.000000</td>\n",
       "      <td>0.000000e+00</td>\n",
       "    </tr>\n",
       "    <tr>\n",
       "      <th>25%</th>\n",
       "      <td>71118.004800</td>\n",
       "      <td>-364411.500000</td>\n",
       "      <td>0.000000</td>\n",
       "      <td>1.500000e+04</td>\n",
       "    </tr>\n",
       "    <tr>\n",
       "      <th>50%</th>\n",
       "      <td>71468.000000</td>\n",
       "      <td>-364145.000000</td>\n",
       "      <td>0.000000</td>\n",
       "      <td>4.668000e+04</td>\n",
       "    </tr>\n",
       "    <tr>\n",
       "      <th>75%</th>\n",
       "      <td>71938.250000</td>\n",
       "      <td>-363778.000000</td>\n",
       "      <td>0.000000</td>\n",
       "      <td>1.621800e+05</td>\n",
       "    </tr>\n",
       "    <tr>\n",
       "      <th>max</th>\n",
       "      <td>79260.000000</td>\n",
       "      <td>-362170.000000</td>\n",
       "      <td>188.000000</td>\n",
       "      <td>1.103760e+07</td>\n",
       "    </tr>\n",
       "  </tbody>\n",
       "</table>\n",
       "</div>"
      ],
      "text/plain": [
       "            Latitud       Longitud       Cuenca  Volumen (m3/año)\n",
       "count   1363.000000    1363.000000  1363.000000      1.363000e+03\n",
       "mean   71490.946855 -364096.132121    28.546588      1.558366e+05\n",
       "std      645.397221     721.149748    67.485278      3.884465e+05\n",
       "min    68005.000000 -371361.000000     0.000000      0.000000e+00\n",
       "25%    71118.004800 -364411.500000     0.000000      1.500000e+04\n",
       "50%    71468.000000 -364145.000000     0.000000      4.668000e+04\n",
       "75%    71938.250000 -363778.000000     0.000000      1.621800e+05\n",
       "max    79260.000000 -362170.000000   188.000000      1.103760e+07"
      ]
     },
     "execution_count": 9,
     "metadata": {},
     "output_type": "execute_result"
    }
   ],
   "source": [
    "pozos.describe()"
   ]
  },
  {
   "cell_type": "code",
   "execution_count": 9,
   "id": "4a9e9abb-bf85-460c-8828-02a8508f7033",
   "metadata": {},
   "outputs": [
    {
     "data": {
      "text/html": [
       "<div>\n",
       "<style scoped>\n",
       "    .dataframe tbody tr th:only-of-type {\n",
       "        vertical-align: middle;\n",
       "    }\n",
       "\n",
       "    .dataframe tbody tr th {\n",
       "        vertical-align: top;\n",
       "    }\n",
       "\n",
       "    .dataframe thead th {\n",
       "        text-align: right;\n",
       "    }\n",
       "</style>\n",
       "<table border=\"1\" class=\"dataframe\">\n",
       "  <thead>\n",
       "    <tr style=\"text-align: right;\">\n",
       "      <th></th>\n",
       "      <th>Latitud</th>\n",
       "      <th>Longitud</th>\n",
       "      <th>Municipio</th>\n",
       "      <th>RegiónHidrológica</th>\n",
       "      <th>Cuenca</th>\n",
       "      <th>AcuíferoHomologado</th>\n",
       "      <th>Volumen (m3/año)</th>\n",
       "      <th>Uso</th>\n",
       "    </tr>\n",
       "  </thead>\n",
       "  <tbody>\n",
       "    <tr>\n",
       "      <th>0</th>\n",
       "      <td>71916.0006</td>\n",
       "      <td>-364601.0007</td>\n",
       "      <td>HUANDACAREO</td>\n",
       "      <td>LERMA-SANTIAGO</td>\n",
       "      <td>188</td>\n",
       "      <td>1602 - MORELIA-QUERENDARO</td>\n",
       "      <td>22800.0</td>\n",
       "      <td>AGRICOLA</td>\n",
       "    </tr>\n",
       "    <tr>\n",
       "      <th>1</th>\n",
       "      <td>71962.0004</td>\n",
       "      <td>-364590.0003</td>\n",
       "      <td>HUANDACAREO</td>\n",
       "      <td>LERMA-SANTIAGO</td>\n",
       "      <td>188</td>\n",
       "      <td>1602 - MORELIA-QUERENDARO</td>\n",
       "      <td>9000.0</td>\n",
       "      <td>AGRICOLA</td>\n",
       "    </tr>\n",
       "    <tr>\n",
       "      <th>2</th>\n",
       "      <td>72142.0006</td>\n",
       "      <td>-364140.0005</td>\n",
       "      <td>CUITZEO</td>\n",
       "      <td>LERMA-SANTIAGO</td>\n",
       "      <td>188</td>\n",
       "      <td>1602 - MORELIA-QUERENDARO</td>\n",
       "      <td>20020.0</td>\n",
       "      <td>AGRICOLA</td>\n",
       "    </tr>\n",
       "    <tr>\n",
       "      <th>3</th>\n",
       "      <td>72110.0005</td>\n",
       "      <td>-364178.0006</td>\n",
       "      <td>CUITZEO</td>\n",
       "      <td>LERMA-SANTIAGO</td>\n",
       "      <td>188</td>\n",
       "      <td>1602 - MORELIA-QUERENDARO</td>\n",
       "      <td>6000.0</td>\n",
       "      <td>AGRICOLA</td>\n",
       "    </tr>\n",
       "    <tr>\n",
       "      <th>4</th>\n",
       "      <td>71351.0005</td>\n",
       "      <td>-364117.0006</td>\n",
       "      <td>TARÍMBARO</td>\n",
       "      <td>LERMA-SANTIAGO</td>\n",
       "      <td>188</td>\n",
       "      <td>1602 - MORELIA-QUERENDARO</td>\n",
       "      <td>30000.0</td>\n",
       "      <td>SERVICIOS</td>\n",
       "    </tr>\n",
       "  </tbody>\n",
       "</table>\n",
       "</div>"
      ],
      "text/plain": [
       "      Latitud     Longitud    Municipio RegiónHidrológica  Cuenca  \\\n",
       "0  71916.0006 -364601.0007  HUANDACAREO    LERMA-SANTIAGO     188   \n",
       "1  71962.0004 -364590.0003  HUANDACAREO    LERMA-SANTIAGO     188   \n",
       "2  72142.0006 -364140.0005      CUITZEO    LERMA-SANTIAGO     188   \n",
       "3  72110.0005 -364178.0006      CUITZEO    LERMA-SANTIAGO     188   \n",
       "4  71351.0005 -364117.0006    TARÍMBARO    LERMA-SANTIAGO     188   \n",
       "\n",
       "          AcuíferoHomologado  Volumen (m3/año)        Uso  \n",
       "0  1602 - MORELIA-QUERENDARO           22800.0   AGRICOLA  \n",
       "1  1602 - MORELIA-QUERENDARO            9000.0   AGRICOLA  \n",
       "2  1602 - MORELIA-QUERENDARO           20020.0   AGRICOLA  \n",
       "3  1602 - MORELIA-QUERENDARO            6000.0   AGRICOLA  \n",
       "4  1602 - MORELIA-QUERENDARO           30000.0  SERVICIOS  "
      ]
     },
     "execution_count": 9,
     "metadata": {},
     "output_type": "execute_result"
    }
   ],
   "source": [
    "pozos.head()"
   ]
  },
  {
   "cell_type": "markdown",
   "id": "7a4811bc-dd92-405a-b03c-4ebc68d00b17",
   "metadata": {},
   "source": [
    "# Dividir los datos en $X$ y $y$"
   ]
  },
  {
   "cell_type": "code",
   "execution_count": 10,
   "id": "4e14db37-14dc-4880-9899-b4f1b6f6d88d",
   "metadata": {},
   "outputs": [],
   "source": [
    "X = pozos.iloc[:,:-1]\n",
    "y = pozos['Uso']\n",
    "#y = pozos[['Uso', 'Uso Ponderado']]"
   ]
  },
  {
   "cell_type": "code",
   "execution_count": 11,
   "id": "441001e8-4fff-4a23-a383-f5bdb0e83c4b",
   "metadata": {},
   "outputs": [
    {
     "data": {
      "text/html": [
       "<div>\n",
       "<style scoped>\n",
       "    .dataframe tbody tr th:only-of-type {\n",
       "        vertical-align: middle;\n",
       "    }\n",
       "\n",
       "    .dataframe tbody tr th {\n",
       "        vertical-align: top;\n",
       "    }\n",
       "\n",
       "    .dataframe thead th {\n",
       "        text-align: right;\n",
       "    }\n",
       "</style>\n",
       "<table border=\"1\" class=\"dataframe\">\n",
       "  <thead>\n",
       "    <tr style=\"text-align: right;\">\n",
       "      <th></th>\n",
       "      <th>Latitud</th>\n",
       "      <th>Longitud</th>\n",
       "      <th>Municipio</th>\n",
       "      <th>RegiónHidrológica</th>\n",
       "      <th>Cuenca</th>\n",
       "      <th>AcuíferoHomologado</th>\n",
       "      <th>Volumen (m3/año)</th>\n",
       "    </tr>\n",
       "  </thead>\n",
       "  <tbody>\n",
       "    <tr>\n",
       "      <th>0</th>\n",
       "      <td>71916.0006</td>\n",
       "      <td>-364601.0007</td>\n",
       "      <td>HUANDACAREO</td>\n",
       "      <td>LERMA-SANTIAGO</td>\n",
       "      <td>188</td>\n",
       "      <td>1602 - MORELIA-QUERENDARO</td>\n",
       "      <td>22800.0</td>\n",
       "    </tr>\n",
       "    <tr>\n",
       "      <th>1</th>\n",
       "      <td>71962.0004</td>\n",
       "      <td>-364590.0003</td>\n",
       "      <td>HUANDACAREO</td>\n",
       "      <td>LERMA-SANTIAGO</td>\n",
       "      <td>188</td>\n",
       "      <td>1602 - MORELIA-QUERENDARO</td>\n",
       "      <td>9000.0</td>\n",
       "    </tr>\n",
       "    <tr>\n",
       "      <th>2</th>\n",
       "      <td>72142.0006</td>\n",
       "      <td>-364140.0005</td>\n",
       "      <td>CUITZEO</td>\n",
       "      <td>LERMA-SANTIAGO</td>\n",
       "      <td>188</td>\n",
       "      <td>1602 - MORELIA-QUERENDARO</td>\n",
       "      <td>20020.0</td>\n",
       "    </tr>\n",
       "    <tr>\n",
       "      <th>3</th>\n",
       "      <td>72110.0005</td>\n",
       "      <td>-364178.0006</td>\n",
       "      <td>CUITZEO</td>\n",
       "      <td>LERMA-SANTIAGO</td>\n",
       "      <td>188</td>\n",
       "      <td>1602 - MORELIA-QUERENDARO</td>\n",
       "      <td>6000.0</td>\n",
       "    </tr>\n",
       "    <tr>\n",
       "      <th>4</th>\n",
       "      <td>71351.0005</td>\n",
       "      <td>-364117.0006</td>\n",
       "      <td>TARÍMBARO</td>\n",
       "      <td>LERMA-SANTIAGO</td>\n",
       "      <td>188</td>\n",
       "      <td>1602 - MORELIA-QUERENDARO</td>\n",
       "      <td>30000.0</td>\n",
       "    </tr>\n",
       "  </tbody>\n",
       "</table>\n",
       "</div>"
      ],
      "text/plain": [
       "      Latitud     Longitud    Municipio RegiónHidrológica  Cuenca  \\\n",
       "0  71916.0006 -364601.0007  HUANDACAREO    LERMA-SANTIAGO     188   \n",
       "1  71962.0004 -364590.0003  HUANDACAREO    LERMA-SANTIAGO     188   \n",
       "2  72142.0006 -364140.0005      CUITZEO    LERMA-SANTIAGO     188   \n",
       "3  72110.0005 -364178.0006      CUITZEO    LERMA-SANTIAGO     188   \n",
       "4  71351.0005 -364117.0006    TARÍMBARO    LERMA-SANTIAGO     188   \n",
       "\n",
       "          AcuíferoHomologado  Volumen (m3/año)  \n",
       "0  1602 - MORELIA-QUERENDARO           22800.0  \n",
       "1  1602 - MORELIA-QUERENDARO            9000.0  \n",
       "2  1602 - MORELIA-QUERENDARO           20020.0  \n",
       "3  1602 - MORELIA-QUERENDARO            6000.0  \n",
       "4  1602 - MORELIA-QUERENDARO           30000.0  "
      ]
     },
     "execution_count": 11,
     "metadata": {},
     "output_type": "execute_result"
    }
   ],
   "source": [
    "X.head()"
   ]
  },
  {
   "cell_type": "code",
   "execution_count": 12,
   "id": "76db68d1-a7f6-4907-a129-e8b22521aeec",
   "metadata": {},
   "outputs": [
    {
     "data": {
      "text/plain": [
       "0     AGRICOLA\n",
       "1     AGRICOLA\n",
       "2     AGRICOLA\n",
       "3     AGRICOLA\n",
       "4    SERVICIOS\n",
       "Name: Uso, dtype: object"
      ]
     },
     "execution_count": 12,
     "metadata": {},
     "output_type": "execute_result"
    }
   ],
   "source": [
    "y.head() "
   ]
  },
  {
   "cell_type": "markdown",
   "id": "6dfe8ed9-befc-48f4-ab9f-84f076f9e9fb",
   "metadata": {},
   "source": [
    "## Codificar los datos categoricos y Escalar los datos numericos en X"
   ]
  },
  {
   "cell_type": "code",
   "execution_count": 11,
   "id": "66126350-3b4c-492e-8949-14b5a78442ba",
   "metadata": {},
   "outputs": [],
   "source": [
    "def codificar(data):\n",
    "    cat = []\n",
    "    num = []\n",
    "    for i in data.columns:\n",
    "        if data[i].dtypes == 'object':\n",
    "            cat.append(i)\n",
    "        elif data[i].dtypes == 'float64' or 'int64':\n",
    "            num.append(i)\n",
    "    scaler = MinMaxScaler() \n",
    "    scaled_values = scaler.fit_transform(data[num])\n",
    "    data[num] = scaled_values\n",
    "    code = LabelEncoder()\n",
    "    data[cat] = data[cat].apply(code.fit_transform)\n",
    "    print('num', num)\n",
    "    print('cat',cat)\n",
    "    return data"
   ]
  },
  {
   "cell_type": "code",
   "execution_count": 12,
   "id": "18809bb6-fe57-4a17-aa8d-32fc0dcf5afd",
   "metadata": {},
   "outputs": [
    {
     "name": "stdout",
     "output_type": "stream",
     "text": [
      "num ['Latitud', 'Longitud', 'Cuenca', 'Volumen (m3/año)']\n",
      "cat ['Municipio', 'RegiónHidrológica', 'AcuíferoHomologado']\n"
     ]
    }
   ],
   "source": [
    "x_cod = X.copy()\n",
    "X_cod = codificar(X)"
   ]
  },
  {
   "cell_type": "code",
   "execution_count": 15,
   "id": "2cacc8f1-6fec-4dcc-bfea-1ed633e70cd3",
   "metadata": {},
   "outputs": [
    {
     "data": {
      "text/html": [
       "<div>\n",
       "<style scoped>\n",
       "    .dataframe tbody tr th:only-of-type {\n",
       "        vertical-align: middle;\n",
       "    }\n",
       "\n",
       "    .dataframe tbody tr th {\n",
       "        vertical-align: top;\n",
       "    }\n",
       "\n",
       "    .dataframe thead th {\n",
       "        text-align: right;\n",
       "    }\n",
       "</style>\n",
       "<table border=\"1\" class=\"dataframe\">\n",
       "  <thead>\n",
       "    <tr style=\"text-align: right;\">\n",
       "      <th></th>\n",
       "      <th>Latitud</th>\n",
       "      <th>Longitud</th>\n",
       "      <th>Municipio</th>\n",
       "      <th>RegiónHidrológica</th>\n",
       "      <th>Cuenca</th>\n",
       "      <th>AcuíferoHomologado</th>\n",
       "      <th>Volumen (m3/año)</th>\n",
       "    </tr>\n",
       "  </thead>\n",
       "  <tbody>\n",
       "    <tr>\n",
       "      <th>0</th>\n",
       "      <td>0.347490</td>\n",
       "      <td>0.735502</td>\n",
       "      <td>7</td>\n",
       "      <td>1</td>\n",
       "      <td>1.0</td>\n",
       "      <td>0</td>\n",
       "      <td>0.002066</td>\n",
       "    </tr>\n",
       "    <tr>\n",
       "      <th>1</th>\n",
       "      <td>0.351577</td>\n",
       "      <td>0.736699</td>\n",
       "      <td>7</td>\n",
       "      <td>1</td>\n",
       "      <td>1.0</td>\n",
       "      <td>0</td>\n",
       "      <td>0.000815</td>\n",
       "    </tr>\n",
       "    <tr>\n",
       "      <th>2</th>\n",
       "      <td>0.367570</td>\n",
       "      <td>0.785660</td>\n",
       "      <td>5</td>\n",
       "      <td>1</td>\n",
       "      <td>1.0</td>\n",
       "      <td>0</td>\n",
       "      <td>0.001814</td>\n",
       "    </tr>\n",
       "    <tr>\n",
       "      <th>3</th>\n",
       "      <td>0.364727</td>\n",
       "      <td>0.781525</td>\n",
       "      <td>5</td>\n",
       "      <td>1</td>\n",
       "      <td>1.0</td>\n",
       "      <td>0</td>\n",
       "      <td>0.000544</td>\n",
       "    </tr>\n",
       "    <tr>\n",
       "      <th>4</th>\n",
       "      <td>0.297290</td>\n",
       "      <td>0.788162</td>\n",
       "      <td>18</td>\n",
       "      <td>1</td>\n",
       "      <td>1.0</td>\n",
       "      <td>0</td>\n",
       "      <td>0.002718</td>\n",
       "    </tr>\n",
       "  </tbody>\n",
       "</table>\n",
       "</div>"
      ],
      "text/plain": [
       "    Latitud  Longitud  Municipio  RegiónHidrológica  Cuenca  \\\n",
       "0  0.347490  0.735502          7                  1     1.0   \n",
       "1  0.351577  0.736699          7                  1     1.0   \n",
       "2  0.367570  0.785660          5                  1     1.0   \n",
       "3  0.364727  0.781525          5                  1     1.0   \n",
       "4  0.297290  0.788162         18                  1     1.0   \n",
       "\n",
       "   AcuíferoHomologado  Volumen (m3/año)  \n",
       "0                   0          0.002066  \n",
       "1                   0          0.000815  \n",
       "2                   0          0.001814  \n",
       "3                   0          0.000544  \n",
       "4                   0          0.002718  "
      ]
     },
     "execution_count": 15,
     "metadata": {},
     "output_type": "execute_result"
    }
   ],
   "source": [
    "X_cod.head()"
   ]
  },
  {
   "cell_type": "markdown",
   "id": "5face65d-06a8-4d98-8879-b87ccb084b41",
   "metadata": {},
   "source": [
    "# Dividir los datos en Train y Test"
   ]
  },
  {
   "cell_type": "code",
   "execution_count": 13,
   "id": "11ad5ed8-d416-4ada-b380-a12500d677b1",
   "metadata": {},
   "outputs": [],
   "source": [
    "X_train, X_test, y_train, y_test = train_test_split(X_cod, y, test_size = 0.3, shuffle=True)"
   ]
  },
  {
   "cell_type": "markdown",
   "id": "3b5a60e7-f580-4e0c-9ddd-ea8f9bf51f82",
   "metadata": {},
   "source": [
    "# Construir modelo"
   ]
  },
  {
   "cell_type": "code",
   "execution_count": 14,
   "id": "52ab7cbf-7f76-41fc-ab61-df6b16b84781",
   "metadata": {},
   "outputs": [
    {
     "data": {
      "text/plain": [
       "KNeighborsClassifier(n_neighbors=3, weights='distance')"
      ]
     },
     "execution_count": 14,
     "metadata": {},
     "output_type": "execute_result"
    }
   ],
   "source": [
    "#n_neighbors = 3\n",
    "\n",
    "knn = KNeighborsClassifier(n_neighbors=3, weights='distance')\n",
    "knn.fit(X_train, y_train)"
   ]
  },
  {
   "cell_type": "code",
   "execution_count": 15,
   "id": "a3f2b674-55cc-4993-ac9d-0f86a9677477",
   "metadata": {},
   "outputs": [],
   "source": [
    "# Predicción\n",
    "def prediccion(model, X, y):\n",
    "    pred = model.predict(X)\n",
    "    y_pred = pd.Series(pred, index=y.index)\n",
    "    print('Precisión = ', precision_score(y, y_pred, average='micro'))\n",
    "    print(classification_report(y, pred))\n",
    "    plot_confusion_matrix(model, X, y)\n",
    "    return y_pred"
   ]
  },
  {
   "cell_type": "code",
   "execution_count": 16,
   "id": "cb1755aa-0ea7-498a-8a35-805ee992fdf1",
   "metadata": {},
   "outputs": [
    {
     "name": "stdout",
     "output_type": "stream",
     "text": [
      "Precisión =  0.6356968215158925\n",
      "                 precision    recall  f1-score   support\n",
      "\n",
      "    ACUACULTURA       0.00      0.00      0.00         0\n",
      "       AGRICOLA       0.79      0.79      0.79       224\n",
      "  AGROINDUSTIAL       0.00      0.00      0.00         1\n",
      "DIFERENTES USOS       0.09      0.08      0.09        25\n",
      "      DOMESTICO       0.00      0.00      0.00         4\n",
      "     INDUSTRIAL       0.81      0.77      0.79        44\n",
      "       PECUARIO       0.50      0.25      0.33         4\n",
      " PUBLICO URBANO       0.46      0.43      0.45        81\n",
      "      SERVICIOS       0.30      0.38      0.34        26\n",
      "\n",
      "       accuracy                           0.64       409\n",
      "      macro avg       0.33      0.30      0.31       409\n",
      "   weighted avg       0.64      0.64      0.64       409\n",
      "\n"
     ]
    },
    {
     "name": "stderr",
     "output_type": "stream",
     "text": [
      "/home/michell21/anaconda3/envs/practicasML/lib/python3.9/site-packages/sklearn/metrics/_classification.py:1248: UndefinedMetricWarning: Precision and F-score are ill-defined and being set to 0.0 in labels with no predicted samples. Use `zero_division` parameter to control this behavior.\n",
      "  _warn_prf(average, modifier, msg_start, len(result))\n",
      "/home/michell21/anaconda3/envs/practicasML/lib/python3.9/site-packages/sklearn/metrics/_classification.py:1248: UndefinedMetricWarning: Recall and F-score are ill-defined and being set to 0.0 in labels with no true samples. Use `zero_division` parameter to control this behavior.\n",
      "  _warn_prf(average, modifier, msg_start, len(result))\n",
      "/home/michell21/anaconda3/envs/practicasML/lib/python3.9/site-packages/sklearn/metrics/_classification.py:1248: UndefinedMetricWarning: Precision and F-score are ill-defined and being set to 0.0 in labels with no predicted samples. Use `zero_division` parameter to control this behavior.\n",
      "  _warn_prf(average, modifier, msg_start, len(result))\n",
      "/home/michell21/anaconda3/envs/practicasML/lib/python3.9/site-packages/sklearn/metrics/_classification.py:1248: UndefinedMetricWarning: Recall and F-score are ill-defined and being set to 0.0 in labels with no true samples. Use `zero_division` parameter to control this behavior.\n",
      "  _warn_prf(average, modifier, msg_start, len(result))\n",
      "/home/michell21/anaconda3/envs/practicasML/lib/python3.9/site-packages/sklearn/metrics/_classification.py:1248: UndefinedMetricWarning: Precision and F-score are ill-defined and being set to 0.0 in labels with no predicted samples. Use `zero_division` parameter to control this behavior.\n",
      "  _warn_prf(average, modifier, msg_start, len(result))\n",
      "/home/michell21/anaconda3/envs/practicasML/lib/python3.9/site-packages/sklearn/metrics/_classification.py:1248: UndefinedMetricWarning: Recall and F-score are ill-defined and being set to 0.0 in labels with no true samples. Use `zero_division` parameter to control this behavior.\n",
      "  _warn_prf(average, modifier, msg_start, len(result))\n"
     ]
    },
    {
     "data": {
      "image/png": "[encoded data removed]",
      "text/plain": [
       "<Figure size 432x288 with 2 Axes>"
      ]
     },
     "metadata": {
      "needs_background": "light"
     },
     "output_type": "display_data"
    }
   ],
   "source": [
    "y_pred = prediccion(knn, X_test, y_test)"
   ]
  },
  {
   "cell_type": "markdown",
   "id": "2b103c2a-76e4-471b-a744-68916c1aedbf",
   "metadata": {},
   "source": [
    "## Saber cuales fueron las etiquetas que sí acertó"
   ]
  },
  {
   "cell_type": "code",
   "execution_count": 17,
   "id": "6e7953e1-2e4c-47da-962f-16af2fd79a61",
   "metadata": {},
   "outputs": [],
   "source": [
    "def match(y_t, y_p):\n",
    "    matched = {}\n",
    "    aux = 0\n",
    "    for i, j in zip(y_t, y_p):\n",
    "        if i == j:\n",
    "            matched[y_t.index[aux]]= i\n",
    "        aux+=1\n",
    "    return matched\n",
    "aux = match(y_test, y_pred)"
   ]
  },
  {
   "cell_type": "code",
   "execution_count": 18,
   "id": "ac8e5c89-bffe-490e-8466-e9796ee10e98",
   "metadata": {
    "tags": []
   },
   "outputs": [
    {
     "data": {
      "text/plain": [
       "260"
      ]
     },
     "execution_count": 18,
     "metadata": {},
     "output_type": "execute_result"
    }
   ],
   "source": [
    "len(aux)"
   ]
  },
  {
   "cell_type": "markdown",
   "id": "8888411e-9b97-44f2-90d8-dd403c1fd0c0",
   "metadata": {},
   "source": [
    "## Obtener el volumen total"
   ]
  },
  {
   "cell_type": "code",
   "execution_count": 19,
   "id": "9e411101-2981-45ea-b0e6-fe8f15f7ce59",
   "metadata": {},
   "outputs": [
    {
     "name": "stdout",
     "output_type": "stream",
     "text": [
      "212405314.46999994\n"
     ]
    }
   ],
   "source": [
    "volumen_total = sum(pozos['Volumen (m3/año)'].values)\n",
    "print(volumen_total)"
   ]
  },
  {
   "cell_type": "code",
   "execution_count": 20,
   "id": "18fcdcda-8a98-4b3c-850b-3469b67d9a87",
   "metadata": {},
   "outputs": [],
   "source": [
    "def volumen(data, indices, vol):\n",
    "    vol_pond = {}\n",
    "    for i in list(indices.keys()):\n",
    "        v_pond = (data.iloc[i][6])/vol\n",
    "        vol_pond[i] = indices[i], v_pond\n",
    "    vol_pond = pd.DataFrame([[key, vol_pond[key][0], vol_pond[key][1]] for key in vol_pond.keys()], columns=['ID', 'Uso', 'Volumen Ponderado'])\n",
    "    return vol_pond\n",
    "volumen_pon = volumen(pozos, aux, volumen_total)"
   ]
  },
  {
   "cell_type": "code",
   "execution_count": 21,
   "id": "25ae49e0-b897-4004-93f0-9fdf33908ca8",
   "metadata": {},
   "outputs": [
    {
     "data": {
      "text/html": [
       "<div>\n",
       "<style scoped>\n",
       "    .dataframe tbody tr th:only-of-type {\n",
       "        vertical-align: middle;\n",
       "    }\n",
       "\n",
       "    .dataframe tbody tr th {\n",
       "        vertical-align: top;\n",
       "    }\n",
       "\n",
       "    .dataframe thead th {\n",
       "        text-align: right;\n",
       "    }\n",
       "</style>\n",
       "<table border=\"1\" class=\"dataframe\">\n",
       "  <thead>\n",
       "    <tr style=\"text-align: right;\">\n",
       "      <th></th>\n",
       "      <th>ID</th>\n",
       "      <th>Volumen Ponderado</th>\n",
       "    </tr>\n",
       "    <tr>\n",
       "      <th>Uso</th>\n",
       "      <th></th>\n",
       "      <th></th>\n",
       "    </tr>\n",
       "  </thead>\n",
       "  <tbody>\n",
       "    <tr>\n",
       "      <th>AGRICOLA</th>\n",
       "      <td>126580</td>\n",
       "      <td>0.120718</td>\n",
       "    </tr>\n",
       "    <tr>\n",
       "      <th>DIFERENTES USOS</th>\n",
       "      <td>616</td>\n",
       "      <td>0.000169</td>\n",
       "    </tr>\n",
       "    <tr>\n",
       "      <th>INDUSTRIAL</th>\n",
       "      <td>20878</td>\n",
       "      <td>0.075899</td>\n",
       "    </tr>\n",
       "    <tr>\n",
       "      <th>PECUARIO</th>\n",
       "      <td>1008</td>\n",
       "      <td>0.000030</td>\n",
       "    </tr>\n",
       "    <tr>\n",
       "      <th>PUBLICO URBANO</th>\n",
       "      <td>22527</td>\n",
       "      <td>0.029778</td>\n",
       "    </tr>\n",
       "    <tr>\n",
       "      <th>SERVICIOS</th>\n",
       "      <td>3976</td>\n",
       "      <td>0.002158</td>\n",
       "    </tr>\n",
       "  </tbody>\n",
       "</table>\n",
       "</div>"
      ],
      "text/plain": [
       "                     ID  Volumen Ponderado\n",
       "Uso                                       \n",
       "AGRICOLA         126580           0.120718\n",
       "DIFERENTES USOS     616           0.000169\n",
       "INDUSTRIAL        20878           0.075899\n",
       "PECUARIO           1008           0.000030\n",
       "PUBLICO URBANO    22527           0.029778\n",
       "SERVICIOS          3976           0.002158"
      ]
     },
     "execution_count": 21,
     "metadata": {},
     "output_type": "execute_result"
    }
   ],
   "source": [
    "volumen_pon.groupby('Uso').sum()"
   ]
  },
  {
   "cell_type": "markdown",
   "id": "4e5f5592-f6d1-4ebd-93e8-7e372764185f",
   "metadata": {},
   "source": [
    "## Obtener el volumen ponderado por etiquetas"
   ]
  },
  {
   "cell_type": "code",
   "execution_count": 22,
   "id": "3255908d-a2ee-4c91-857e-c7e2206f7f9b",
   "metadata": {},
   "outputs": [
    {
     "data": {
      "text/plain": [
       "Uso\n",
       "ACUACULTURA           45000.00\n",
       "AGRICOLA           91725771.79\n",
       "AGROINDUSTIAL         40000.00\n",
       "DIFERENTES USOS     5866832.32\n",
       "DOMESTICO           1354190.77\n",
       "INDUSTRIAL         60461754.00\n",
       "PECUARIO             195005.00\n",
       "PUBLICO URBANO     47014568.69\n",
       "SERVICIOS           5702191.90\n",
       "Name: Volumen (m3/año), dtype: float64"
      ]
     },
     "execution_count": 22,
     "metadata": {},
     "output_type": "execute_result"
    }
   ],
   "source": [
    "v = pozos.groupby('Uso').sum()\n",
    "v = v['Volumen (m3/año)']\n",
    "v"
   ]
  },
  {
   "cell_type": "code",
   "execution_count": 23,
   "id": "1734804b-dc30-4c32-9dae-bec8650ec0af",
   "metadata": {
    "tags": []
   },
   "outputs": [],
   "source": [
    "def vol_lab(data, indices, vol):\n",
    "    vol_pond = {}\n",
    "    for i in list(indices.keys()):\n",
    "        vl = vol[indices[i]] #volumen total por etiqueta\n",
    "        v_pond = (data.iloc[i])/vl #Volumen ponderado por etiqueta\n",
    "        vol_pond[i] = indices[i], v_pond\n",
    "    vol_pond = pd.DataFrame([[key, vol_pond[key][0], vol_pond[key][1]] for key in vol_pond.keys()], columns=['ID', 'Uso', 'Volumen Ponderado'])\n",
    "    return vol_pond\n",
    "vol_label = vol_lab(pozos['Volumen (m3/año)'], aux, v)"
   ]
  },
  {
   "cell_type": "code",
   "execution_count": 24,
   "id": "a48631a2-991c-4197-b8b3-a7e8e5742dc2",
   "metadata": {},
   "outputs": [
    {
     "data": {
      "text/html": [
       "<div>\n",
       "<style scoped>\n",
       "    .dataframe tbody tr th:only-of-type {\n",
       "        vertical-align: middle;\n",
       "    }\n",
       "\n",
       "    .dataframe tbody tr th {\n",
       "        vertical-align: top;\n",
       "    }\n",
       "\n",
       "    .dataframe thead th {\n",
       "        text-align: right;\n",
       "    }\n",
       "</style>\n",
       "<table border=\"1\" class=\"dataframe\">\n",
       "  <thead>\n",
       "    <tr style=\"text-align: right;\">\n",
       "      <th></th>\n",
       "      <th>ID</th>\n",
       "      <th>Volumen Ponderado</th>\n",
       "    </tr>\n",
       "    <tr>\n",
       "      <th>Uso</th>\n",
       "      <th></th>\n",
       "      <th></th>\n",
       "    </tr>\n",
       "  </thead>\n",
       "  <tbody>\n",
       "    <tr>\n",
       "      <th>AGRICOLA</th>\n",
       "      <td>126580</td>\n",
       "      <td>0.279542</td>\n",
       "    </tr>\n",
       "    <tr>\n",
       "      <th>DIFERENTES USOS</th>\n",
       "      <td>616</td>\n",
       "      <td>0.006126</td>\n",
       "    </tr>\n",
       "    <tr>\n",
       "      <th>INDUSTRIAL</th>\n",
       "      <td>20878</td>\n",
       "      <td>0.266637</td>\n",
       "    </tr>\n",
       "    <tr>\n",
       "      <th>PECUARIO</th>\n",
       "      <td>1008</td>\n",
       "      <td>0.032384</td>\n",
       "    </tr>\n",
       "    <tr>\n",
       "      <th>PUBLICO URBANO</th>\n",
       "      <td>22527</td>\n",
       "      <td>0.134535</td>\n",
       "    </tr>\n",
       "    <tr>\n",
       "      <th>SERVICIOS</th>\n",
       "      <td>3976</td>\n",
       "      <td>0.080380</td>\n",
       "    </tr>\n",
       "  </tbody>\n",
       "</table>\n",
       "</div>"
      ],
      "text/plain": [
       "                     ID  Volumen Ponderado\n",
       "Uso                                       \n",
       "AGRICOLA         126580           0.279542\n",
       "DIFERENTES USOS     616           0.006126\n",
       "INDUSTRIAL        20878           0.266637\n",
       "PECUARIO           1008           0.032384\n",
       "PUBLICO URBANO    22527           0.134535\n",
       "SERVICIOS          3976           0.080380"
      ]
     },
     "execution_count": 24,
     "metadata": {},
     "output_type": "execute_result"
    }
   ],
   "source": [
    "vol_label.groupby('Uso').sum()"
   ]
  },
  {
   "cell_type": "markdown",
   "id": "17ebb239-fdee-45b6-95b1-a86dbf44543b",
   "metadata": {},
   "source": [
    "Como se puede ver en esta segunda tabla, hay mejores resultados si ponderamos por etiqueta"
   ]
  },
  {
   "cell_type": "markdown",
   "id": "47ac75a5-4fff-436f-be9c-55b3545e8cc2",
   "metadata": {},
   "source": [
    "# Hacer el mismo procedimiento con los siguientes modelos"
   ]
  },
  {
   "cell_type": "markdown",
   "id": "61267ecb-90ba-44da-8da6-45600e5254a2",
   "metadata": {},
   "source": [
    "## Hacer un nuevo modelo con cross validation"
   ]
  },
  {
   "cell_type": "code",
   "execution_count": 25,
   "id": "8ddf350c-d215-4e34-b5ed-166f47cc75ea",
   "metadata": {},
   "outputs": [
    {
     "name": "stderr",
     "output_type": "stream",
     "text": [
      "/home/michell21/anaconda3/envs/practicasML/lib/python3.9/site-packages/sklearn/model_selection/_split.py:666: UserWarning: The least populated class in y has only 1 members, which is less than n_splits=10.\n",
      "  warnings.warn((\"The least populated class in y has only %d\"\n"
     ]
    },
    {
     "name": "stdout",
     "output_type": "stream",
     "text": [
      "[0.70072993 0.5620438  0.60583942 0.64705882 0.71323529 0.64705882\n",
      " 0.67647059 0.66911765 0.63970588 0.52205882]\n",
      "Score promedio 0.6383319021039073\n"
     ]
    }
   ],
   "source": [
    "knn_cv = KNeighborsClassifier()\n",
    "cv_scores = cross_val_score(knn_cv, X_cod, y, cv=10)\n",
    "print(cv_scores)\n",
    "print(\"Score promedio\", np.mean(cv_scores))"
   ]
  },
  {
   "cell_type": "markdown",
   "id": "7fe98871-7b5c-4280-8141-9f5674ef29a8",
   "metadata": {},
   "source": [
    "El mejor score es con k = 5"
   ]
  },
  {
   "cell_type": "markdown",
   "id": "a90863c5-76e8-4f91-af5a-7f423210a3d6",
   "metadata": {},
   "source": [
    "## Usar GridSearchCV para ver el número óptimo de K"
   ]
  },
  {
   "cell_type": "code",
   "execution_count": 26,
   "id": "0935ef96-7324-4993-8cfe-484773aecbbd",
   "metadata": {},
   "outputs": [
    {
     "name": "stderr",
     "output_type": "stream",
     "text": [
      "/home/michell21/anaconda3/envs/practicasML/lib/python3.9/site-packages/sklearn/model_selection/_split.py:666: UserWarning: The least populated class in y has only 2 members, which is less than n_splits=10.\n",
      "  warnings.warn((\"The least populated class in y has only %d\"\n"
     ]
    },
    {
     "data": {
      "text/plain": [
       "GridSearchCV(cv=10, estimator=KNeighborsClassifier(),\n",
       "             param_grid={'n_neighbors': array([ 1,  2,  3,  4,  5,  6,  7,  8,  9, 10, 11, 12, 13, 14, 15, 16, 17,\n",
       "       18, 19, 20, 21, 22, 23, 24])})"
      ]
     },
     "execution_count": 26,
     "metadata": {},
     "output_type": "execute_result"
    }
   ],
   "source": [
    "#create new a knn model\n",
    "knn2 = KNeighborsClassifier()\n",
    "#create a dictionary of all values we want to test for n_neighbors\n",
    "param_grid = {'n_neighbors': np.arange(1, 25)}\n",
    "#use gridsearch to test all values for n_neighbors\n",
    "knn_gscv = GridSearchCV(knn2, param_grid, cv=10)\n",
    "#fit model to data\n",
    "knn_gscv.fit(X_train, y_train)"
   ]
  },
  {
   "cell_type": "code",
   "execution_count": 27,
   "id": "a5dd0969-a104-40b6-a85d-4fe63a977f25",
   "metadata": {},
   "outputs": [
    {
     "data": {
      "text/plain": [
       "{'n_neighbors': 24}"
      ]
     },
     "execution_count": 27,
     "metadata": {},
     "output_type": "execute_result"
    }
   ],
   "source": [
    "knn_gscv.best_params_"
   ]
  },
  {
   "cell_type": "code",
   "execution_count": 28,
   "id": "92e2db1d-9972-4e11-809f-86a1f7588d0d",
   "metadata": {},
   "outputs": [
    {
     "data": {
      "text/plain": [
       "0.6729714912280701"
      ]
     },
     "execution_count": 28,
     "metadata": {},
     "output_type": "execute_result"
    }
   ],
   "source": [
    "knn_gscv.best_score_"
   ]
  },
  {
   "cell_type": "code",
   "execution_count": 29,
   "id": "785f6849-c8d9-488b-b7ec-879884edcb34",
   "metadata": {},
   "outputs": [
    {
     "name": "stdout",
     "output_type": "stream",
     "text": [
      "Precisión =  0.6772616136919315\n",
      "                 precision    recall  f1-score   support\n",
      "\n",
      "       AGRICOLA       0.74      0.90      0.81       224\n",
      "  AGROINDUSTIAL       0.00      0.00      0.00         1\n",
      "DIFERENTES USOS       0.00      0.00      0.00        25\n",
      "      DOMESTICO       0.00      0.00      0.00         4\n",
      "     INDUSTRIAL       0.82      0.70      0.76        44\n",
      "       PECUARIO       0.00      0.00      0.00         4\n",
      " PUBLICO URBANO       0.53      0.51      0.52        81\n",
      "      SERVICIOS       0.19      0.15      0.17        26\n",
      "\n",
      "       accuracy                           0.68       409\n",
      "      macro avg       0.28      0.28      0.28       409\n",
      "   weighted avg       0.61      0.68      0.64       409\n",
      "\n"
     ]
    },
    {
     "name": "stderr",
     "output_type": "stream",
     "text": [
      "/home/michell21/anaconda3/envs/practicasML/lib/python3.9/site-packages/sklearn/metrics/_classification.py:1248: UndefinedMetricWarning: Precision and F-score are ill-defined and being set to 0.0 in labels with no predicted samples. Use `zero_division` parameter to control this behavior.\n",
      "  _warn_prf(average, modifier, msg_start, len(result))\n",
      "/home/michell21/anaconda3/envs/practicasML/lib/python3.9/site-packages/sklearn/metrics/_classification.py:1248: UndefinedMetricWarning: Precision and F-score are ill-defined and being set to 0.0 in labels with no predicted samples. Use `zero_division` parameter to control this behavior.\n",
      "  _warn_prf(average, modifier, msg_start, len(result))\n",
      "/home/michell21/anaconda3/envs/practicasML/lib/python3.9/site-packages/sklearn/metrics/_classification.py:1248: UndefinedMetricWarning: Precision and F-score are ill-defined and being set to 0.0 in labels with no predicted samples. Use `zero_division` parameter to control this behavior.\n",
      "  _warn_prf(average, modifier, msg_start, len(result))\n"
     ]
    },
    {
     "data": {
      "image/png": "[encoded data removed]",
      "text/plain": [
       "<Figure size 432x288 with 2 Axes>"
      ]
     },
     "metadata": {
      "needs_background": "light"
     },
     "output_type": "display_data"
    }
   ],
   "source": [
    "knn_grid = knn_gscv.best_estimator_\n",
    "y_pred_grid = prediccion(knn_grid, X_test, y_test)"
   ]
  },
  {
   "cell_type": "code",
   "execution_count": 30,
   "id": "2efb8d60-b60a-4175-a7d2-4f8ac11efb7b",
   "metadata": {},
   "outputs": [
    {
     "data": {
      "text/plain": [
       "277"
      ]
     },
     "execution_count": 30,
     "metadata": {},
     "output_type": "execute_result"
    }
   ],
   "source": [
    "#Obtener las etiquetas acertadas\n",
    "aux1 = match(y_test, y_pred_grid)\n",
    "len(aux1) #por ahora hay +10 etiquetas que en el caso anterior"
   ]
  },
  {
   "cell_type": "code",
   "execution_count": 32,
   "id": "2f03b06d-1537-4aab-a0dc-d93dcc16cd88",
   "metadata": {},
   "outputs": [
    {
     "data": {
      "text/html": [
       "<div>\n",
       "<style scoped>\n",
       "    .dataframe tbody tr th:only-of-type {\n",
       "        vertical-align: middle;\n",
       "    }\n",
       "\n",
       "    .dataframe tbody tr th {\n",
       "        vertical-align: top;\n",
       "    }\n",
       "\n",
       "    .dataframe thead th {\n",
       "        text-align: right;\n",
       "    }\n",
       "</style>\n",
       "<table border=\"1\" class=\"dataframe\">\n",
       "  <thead>\n",
       "    <tr style=\"text-align: right;\">\n",
       "      <th></th>\n",
       "      <th>ID</th>\n",
       "      <th>Volumen Ponderado</th>\n",
       "    </tr>\n",
       "    <tr>\n",
       "      <th>Uso</th>\n",
       "      <th></th>\n",
       "      <th></th>\n",
       "    </tr>\n",
       "  </thead>\n",
       "  <tbody>\n",
       "    <tr>\n",
       "      <th>AGRICOLA</th>\n",
       "      <td>697.009950</td>\n",
       "      <td>0.000603</td>\n",
       "    </tr>\n",
       "    <tr>\n",
       "      <th>INDUSTRIAL</th>\n",
       "      <td>538.322581</td>\n",
       "      <td>0.002325</td>\n",
       "    </tr>\n",
       "    <tr>\n",
       "      <th>PUBLICO URBANO</th>\n",
       "      <td>630.804878</td>\n",
       "      <td>0.000782</td>\n",
       "    </tr>\n",
       "    <tr>\n",
       "      <th>SERVICIOS</th>\n",
       "      <td>481.250000</td>\n",
       "      <td>0.000210</td>\n",
       "    </tr>\n",
       "  </tbody>\n",
       "</table>\n",
       "</div>"
      ],
      "text/plain": [
       "                        ID  Volumen Ponderado\n",
       "Uso                                          \n",
       "AGRICOLA        697.009950           0.000603\n",
       "INDUSTRIAL      538.322581           0.002325\n",
       "PUBLICO URBANO  630.804878           0.000782\n",
       "SERVICIOS       481.250000           0.000210"
      ]
     },
     "execution_count": 32,
     "metadata": {},
     "output_type": "execute_result"
    }
   ],
   "source": [
    "#Sacar el volumen ponderado\n",
    "volumen_pon1 = volumen(pozos, aux1, volumen_total)\n",
    "volumen_pon1.groupby('Uso').mean()"
   ]
  },
  {
   "cell_type": "code",
   "execution_count": 33,
   "id": "300bef7d-5432-4595-8614-3b37af8ed035",
   "metadata": {},
   "outputs": [
    {
     "data": {
      "text/html": [
       "<div>\n",
       "<style scoped>\n",
       "    .dataframe tbody tr th:only-of-type {\n",
       "        vertical-align: middle;\n",
       "    }\n",
       "\n",
       "    .dataframe tbody tr th {\n",
       "        vertical-align: top;\n",
       "    }\n",
       "\n",
       "    .dataframe thead th {\n",
       "        text-align: right;\n",
       "    }\n",
       "</style>\n",
       "<table border=\"1\" class=\"dataframe\">\n",
       "  <thead>\n",
       "    <tr style=\"text-align: right;\">\n",
       "      <th></th>\n",
       "      <th>ID</th>\n",
       "      <th>Volumen Ponderado</th>\n",
       "    </tr>\n",
       "    <tr>\n",
       "      <th>Uso</th>\n",
       "      <th></th>\n",
       "      <th></th>\n",
       "    </tr>\n",
       "  </thead>\n",
       "  <tbody>\n",
       "    <tr>\n",
       "      <th>AGRICOLA</th>\n",
       "      <td>697.009950</td>\n",
       "      <td>0.001397</td>\n",
       "    </tr>\n",
       "    <tr>\n",
       "      <th>INDUSTRIAL</th>\n",
       "      <td>538.322581</td>\n",
       "      <td>0.008166</td>\n",
       "    </tr>\n",
       "    <tr>\n",
       "      <th>PUBLICO URBANO</th>\n",
       "      <td>630.804878</td>\n",
       "      <td>0.003532</td>\n",
       "    </tr>\n",
       "    <tr>\n",
       "      <th>SERVICIOS</th>\n",
       "      <td>481.250000</td>\n",
       "      <td>0.007819</td>\n",
       "    </tr>\n",
       "  </tbody>\n",
       "</table>\n",
       "</div>"
      ],
      "text/plain": [
       "                        ID  Volumen Ponderado\n",
       "Uso                                          \n",
       "AGRICOLA        697.009950           0.001397\n",
       "INDUSTRIAL      538.322581           0.008166\n",
       "PUBLICO URBANO  630.804878           0.003532\n",
       "SERVICIOS       481.250000           0.007819"
      ]
     },
     "execution_count": 33,
     "metadata": {},
     "output_type": "execute_result"
    }
   ],
   "source": [
    "#Sacar el volumen ponderado por etiquetas\n",
    "vol_label1 = vol_lab(pozos['Volumen (m3/año)'], aux1, v)\n",
    "vol_label1.groupby('Uso').mean()"
   ]
  },
  {
   "cell_type": "markdown",
   "id": "09244b42-1ab8-4252-ae9f-52dc96c837ba",
   "metadata": {},
   "source": [
    "# Encontrar el valor de k"
   ]
  },
  {
   "cell_type": "code",
   "execution_count": 34,
   "id": "21ec8785-755f-4f72-9341-7b9be3844596",
   "metadata": {},
   "outputs": [
    {
     "data": {
      "text/plain": [
       "([<matplotlib.axis.YTick at 0x7fd7504ad430>,\n",
       "  <matplotlib.axis.YTick at 0x7fd7504a1d90>,\n",
       "  <matplotlib.axis.YTick at 0x7fd750471d30>,\n",
       "  <matplotlib.axis.YTick at 0x7fd750456b20>,\n",
       "  <matplotlib.axis.YTick at 0x7fd75045f070>],\n",
       " [Text(0, 0, ''),\n",
       "  Text(0, 0, ''),\n",
       "  Text(0, 0, ''),\n",
       "  Text(0, 0, ''),\n",
       "  Text(0, 0, '')])"
      ]
     },
     "execution_count": 34,
     "metadata": {},
     "output_type": "execute_result"
    },
    {
     "data": {
      "image/png": "[encoded data removed]",
      "text/plain": [
       "<Figure size 432x288 with 1 Axes>"
      ]
     },
     "metadata": {
      "needs_background": "light"
     },
     "output_type": "display_data"
    }
   ],
   "source": [
    "#No usar test. Se sobreajusta\n",
    "\n",
    "k_range = range(2, 25)\n",
    "scores = []\n",
    "for k in k_range:\n",
    "    knn = KNeighborsClassifier(n_neighbors = k)\n",
    "    knn.fit(X_train, y_train)\n",
    "    pred1=knn.predict(X_train)\n",
    "    scores.append(precision_score(y_train, pred1, average='micro'))\n",
    "#plt.figure()\n",
    "plt.scatter(k_range, scores)\n",
    "plt.xlabel('k')\n",
    "plt.ylabel('Precision')\n",
    "plt.grid()\n",
    "plt.xticks([0,5,10,15,20])\n",
    "plt.yticks([0, 0.25, 0.5, 0.75, 1])"
   ]
  },
  {
   "cell_type": "markdown",
   "id": "47b81d4e-6c8c-456f-85ef-64798a192e81",
   "metadata": {},
   "source": [
    "A patir de k = 15, la precisión empieza a ocilar "
   ]
  },
  {
   "cell_type": "code",
   "execution_count": 35,
   "id": "e1f91a06-0c8c-41d2-85fc-faf455311046",
   "metadata": {},
   "outputs": [
    {
     "data": {
      "text/plain": [
       "KNeighborsClassifier(n_neighbors=15, weights='distance')"
      ]
     },
     "execution_count": 35,
     "metadata": {},
     "output_type": "execute_result"
    }
   ],
   "source": [
    "knn_k = KNeighborsClassifier(n_neighbors=15, weights='distance')\n",
    "knn_k.fit(X_train, y_train)"
   ]
  },
  {
   "cell_type": "code",
   "execution_count": 36,
   "id": "b6d9e6b8-8413-45f9-962b-ea97c58337c3",
   "metadata": {},
   "outputs": [
    {
     "name": "stdout",
     "output_type": "stream",
     "text": [
      "Precisión =  0.6723716381418093\n",
      "                 precision    recall  f1-score   support\n",
      "\n",
      "       AGRICOLA       0.76      0.85      0.81       224\n",
      "  AGROINDUSTIAL       0.00      0.00      0.00         1\n",
      "DIFERENTES USOS       0.08      0.04      0.05        25\n",
      "      DOMESTICO       0.00      0.00      0.00         4\n",
      "     INDUSTRIAL       0.84      0.82      0.83        44\n",
      "       PECUARIO       0.00      0.00      0.00         4\n",
      " PUBLICO URBANO       0.50      0.48      0.49        81\n",
      "      SERVICIOS       0.33      0.31      0.32        26\n",
      "\n",
      "       accuracy                           0.67       409\n",
      "      macro avg       0.31      0.31      0.31       409\n",
      "   weighted avg       0.63      0.67      0.65       409\n",
      "\n"
     ]
    },
    {
     "name": "stderr",
     "output_type": "stream",
     "text": [
      "/home/michell21/anaconda3/envs/practicasML/lib/python3.9/site-packages/sklearn/metrics/_classification.py:1248: UndefinedMetricWarning: Precision and F-score are ill-defined and being set to 0.0 in labels with no predicted samples. Use `zero_division` parameter to control this behavior.\n",
      "  _warn_prf(average, modifier, msg_start, len(result))\n",
      "/home/michell21/anaconda3/envs/practicasML/lib/python3.9/site-packages/sklearn/metrics/_classification.py:1248: UndefinedMetricWarning: Precision and F-score are ill-defined and being set to 0.0 in labels with no predicted samples. Use `zero_division` parameter to control this behavior.\n",
      "  _warn_prf(average, modifier, msg_start, len(result))\n",
      "/home/michell21/anaconda3/envs/practicasML/lib/python3.9/site-packages/sklearn/metrics/_classification.py:1248: UndefinedMetricWarning: Precision and F-score are ill-defined and being set to 0.0 in labels with no predicted samples. Use `zero_division` parameter to control this behavior.\n",
      "  _warn_prf(average, modifier, msg_start, len(result))\n"
     ]
    },
    {
     "data": {
      "image/png": "[encoded data removed]",
      "text/plain": [
       "<Figure size 432x288 with 2 Axes>"
      ]
     },
     "metadata": {
      "needs_background": "light"
     },
     "output_type": "display_data"
    }
   ],
   "source": [
    "y_pred_k = prediccion(knn_k, X_test, y_test)"
   ]
  },
  {
   "cell_type": "code",
   "execution_count": 37,
   "id": "a6650549-8492-40ca-a1db-49bf1e27b040",
   "metadata": {},
   "outputs": [
    {
     "data": {
      "text/plain": [
       "275"
      ]
     },
     "execution_count": 37,
     "metadata": {},
     "output_type": "execute_result"
    }
   ],
   "source": [
    "aux2 = match(y_test, y_pred_k)\n",
    "len(aux2) #por ahora hay -1 etiquetas que en el caso anterior"
   ]
  },
  {
   "cell_type": "code",
   "execution_count": 38,
   "id": "f5534d5d-ada9-4d96-b933-a90da44c9e9e",
   "metadata": {},
   "outputs": [
    {
     "data": {
      "text/html": [
       "<div>\n",
       "<style scoped>\n",
       "    .dataframe tbody tr th:only-of-type {\n",
       "        vertical-align: middle;\n",
       "    }\n",
       "\n",
       "    .dataframe tbody tr th {\n",
       "        vertical-align: top;\n",
       "    }\n",
       "\n",
       "    .dataframe thead th {\n",
       "        text-align: right;\n",
       "    }\n",
       "</style>\n",
       "<table border=\"1\" class=\"dataframe\">\n",
       "  <thead>\n",
       "    <tr style=\"text-align: right;\">\n",
       "      <th></th>\n",
       "      <th>ID</th>\n",
       "      <th>Volumen Ponderado</th>\n",
       "    </tr>\n",
       "    <tr>\n",
       "      <th>Uso</th>\n",
       "      <th></th>\n",
       "      <th></th>\n",
       "    </tr>\n",
       "  </thead>\n",
       "  <tbody>\n",
       "    <tr>\n",
       "      <th>AGRICOLA</th>\n",
       "      <td>709.455497</td>\n",
       "      <td>0.000638</td>\n",
       "    </tr>\n",
       "    <tr>\n",
       "      <th>DIFERENTES USOS</th>\n",
       "      <td>417.000000</td>\n",
       "      <td>0.000075</td>\n",
       "    </tr>\n",
       "    <tr>\n",
       "      <th>INDUSTRIAL</th>\n",
       "      <td>621.777778</td>\n",
       "      <td>0.002115</td>\n",
       "    </tr>\n",
       "    <tr>\n",
       "      <th>PUBLICO URBANO</th>\n",
       "      <td>614.615385</td>\n",
       "      <td>0.000766</td>\n",
       "    </tr>\n",
       "    <tr>\n",
       "      <th>SERVICIOS</th>\n",
       "      <td>345.000000</td>\n",
       "      <td>0.000161</td>\n",
       "    </tr>\n",
       "  </tbody>\n",
       "</table>\n",
       "</div>"
      ],
      "text/plain": [
       "                         ID  Volumen Ponderado\n",
       "Uso                                           \n",
       "AGRICOLA         709.455497           0.000638\n",
       "DIFERENTES USOS  417.000000           0.000075\n",
       "INDUSTRIAL       621.777778           0.002115\n",
       "PUBLICO URBANO   614.615385           0.000766\n",
       "SERVICIOS        345.000000           0.000161"
      ]
     },
     "execution_count": 38,
     "metadata": {},
     "output_type": "execute_result"
    }
   ],
   "source": [
    "#Sacar el volumen ponderado\n",
    "volumen_pon2 = volumen(pozos, aux2, volumen_total)\n",
    "volumen_pon2.groupby('Uso').mean()"
   ]
  },
  {
   "cell_type": "code",
   "execution_count": 39,
   "id": "da93301d-7f89-479a-82a3-3dfcbaf346b9",
   "metadata": {},
   "outputs": [
    {
     "data": {
      "text/html": [
       "<div>\n",
       "<style scoped>\n",
       "    .dataframe tbody tr th:only-of-type {\n",
       "        vertical-align: middle;\n",
       "    }\n",
       "\n",
       "    .dataframe tbody tr th {\n",
       "        vertical-align: top;\n",
       "    }\n",
       "\n",
       "    .dataframe thead th {\n",
       "        text-align: right;\n",
       "    }\n",
       "</style>\n",
       "<table border=\"1\" class=\"dataframe\">\n",
       "  <thead>\n",
       "    <tr style=\"text-align: right;\">\n",
       "      <th></th>\n",
       "      <th>ID</th>\n",
       "      <th>Volumen Ponderado</th>\n",
       "    </tr>\n",
       "    <tr>\n",
       "      <th>Uso</th>\n",
       "      <th></th>\n",
       "      <th></th>\n",
       "    </tr>\n",
       "  </thead>\n",
       "  <tbody>\n",
       "    <tr>\n",
       "      <th>AGRICOLA</th>\n",
       "      <td>709.455497</td>\n",
       "      <td>0.001478</td>\n",
       "    </tr>\n",
       "    <tr>\n",
       "      <th>DIFERENTES USOS</th>\n",
       "      <td>417.000000</td>\n",
       "      <td>0.002717</td>\n",
       "    </tr>\n",
       "    <tr>\n",
       "      <th>INDUSTRIAL</th>\n",
       "      <td>621.777778</td>\n",
       "      <td>0.007430</td>\n",
       "    </tr>\n",
       "    <tr>\n",
       "      <th>PUBLICO URBANO</th>\n",
       "      <td>614.615385</td>\n",
       "      <td>0.003459</td>\n",
       "    </tr>\n",
       "    <tr>\n",
       "      <th>SERVICIOS</th>\n",
       "      <td>345.000000</td>\n",
       "      <td>0.005992</td>\n",
       "    </tr>\n",
       "  </tbody>\n",
       "</table>\n",
       "</div>"
      ],
      "text/plain": [
       "                         ID  Volumen Ponderado\n",
       "Uso                                           \n",
       "AGRICOLA         709.455497           0.001478\n",
       "DIFERENTES USOS  417.000000           0.002717\n",
       "INDUSTRIAL       621.777778           0.007430\n",
       "PUBLICO URBANO   614.615385           0.003459\n",
       "SERVICIOS        345.000000           0.005992"
      ]
     },
     "execution_count": 39,
     "metadata": {},
     "output_type": "execute_result"
    }
   ],
   "source": [
    "#Sacar el volumen ponderado por etiquetas\n",
    "vol_label2 = vol_lab(pozos['Volumen (m3/año)'], aux2, v)\n",
    "vol_label2.groupby('Uso').mean()"
   ]
  },
  {
   "cell_type": "markdown",
   "id": "daaf2c32-9e3f-4f1d-863f-e281b411d284",
   "metadata": {},
   "source": [
    "## Graficar los datos"
   ]
  },
  {
   "cell_type": "code",
   "execution_count": 25,
   "id": "ce5397e4-c8dd-45b3-b218-94ac05c20f50",
   "metadata": {},
   "outputs": [
    {
     "data": {
      "text/plain": [
       "array(['AGRICOLA', 'SERVICIOS', 'INDUSTRIAL', 'PUBLICO URBANO',\n",
       "       'DIFERENTES USOS', 'PECUARIO', 'DOMESTICO'], dtype=object)"
      ]
     },
     "execution_count": 25,
     "metadata": {},
     "output_type": "execute_result"
    }
   ],
   "source": [
    "pozos['Uso'].unique()"
   ]
  },
  {
   "cell_type": "code",
   "execution_count": 47,
   "id": "b4ef8799-f83b-4ea6-934d-a72e036b3e0d",
   "metadata": {},
   "outputs": [],
   "source": [
    "#y_test\n",
    "label_or = y_test.map({'AGRICOLA': 0, 'SERVICIOS': 1, 'INDUSTRIAL': 2, 'PUBLICO URBANO': 3,\n",
    "                   'DIFERENTES USOS': 4, 'PECUARIO':5, 'DOMESTICO': 6, 'ACUACULTURA': 7, 'AGROINDUSTIAL': 8},na_action=None)"
   ]
  },
  {
   "cell_type": "code",
   "execution_count": 53,
   "id": "fe26639f-8888-4490-a29b-4ef5472f2cc4",
   "metadata": {},
   "outputs": [],
   "source": [
    "#y_pred\n",
    "label_pred = y_pred.map({'AGRICOLA': 0, 'SERVICIOS': 1, 'INDUSTRIAL': 2, 'PUBLICO URBANO': 3,\n",
    "                   'DIFERENTES USOS': 4, 'PECUARIO':5, 'DOMESTICO': 6, 'ACUACULTURA': 7, 'AGROINDUSTIAL': 8},na_action=None)"
   ]
  },
  {
   "cell_type": "code",
   "execution_count": 57,
   "id": "b8a5c641-fb91-478a-a8ae-3c916f2908ef",
   "metadata": {},
   "outputs": [],
   "source": [
    "#y_pred_grif\n",
    "label_grid = y_pred_grid.map({'AGRICOLA': 0, 'SERVICIOS': 1, 'INDUSTRIAL': 2, 'PUBLICO URBANO': 3,\n",
    "                   'DIFERENTES USOS': 4, 'PECUARIO':5, 'DOMESTICO': 6, 'ACUACULTURA': 7, 'AGROINDUSTIAL': 8},na_action=None)"
   ]
  },
  {
   "cell_type": "code",
   "execution_count": 55,
   "id": "b2f3fc93-33d7-44a0-8db1-2c1b5472c403",
   "metadata": {},
   "outputs": [],
   "source": [
    "#y_pred_k\n",
    "label_k = y_pred_k.map({'AGRICOLA': 0, 'SERVICIOS': 1, 'INDUSTRIAL': 2, 'PUBLICO URBANO': 3,\n",
    "                   'DIFERENTES USOS': 4, 'PECUARIO':5, 'DOMESTICO': 6, 'ACUACULTURA': 7, 'AGROINDUSTIAL': 8},na_action=None)"
   ]
  },
  {
   "cell_type": "code",
   "execution_count": 51,
   "id": "053efe21-81fe-4d05-aa55-773cc6dd4756",
   "metadata": {},
   "outputs": [],
   "source": [
    "def grafica(data):\n",
    "    for i in range(10):\n",
    "        plt.scatter(x=data[data==i].index, y=data[data==i], cmap='Sequential')\n",
    "    return plt.show()"
   ]
  },
  {
   "cell_type": "code",
   "execution_count": 52,
   "id": "96b965c6-8d03-4fc1-b209-113dbc454668",
   "metadata": {},
   "outputs": [
    {
     "data": {
      "image/png": "[encoded data removed]",
      "text/plain": [
       "<Figure size 432x288 with 1 Axes>"
      ]
     },
     "metadata": {
      "needs_background": "light"
     },
     "output_type": "display_data"
    }
   ],
   "source": [
    "grafica(label_or) #original"
   ]
  },
  {
   "cell_type": "code",
   "execution_count": 56,
   "id": "955daddc-8c13-4453-8b59-684505506243",
   "metadata": {},
   "outputs": [
    {
     "data": {
      "image/png": "[encoded data removed]",
      "text/plain": [
       "<Figure size 432x288 with 1 Axes>"
      ]
     },
     "metadata": {
      "needs_background": "light"
     },
     "output_type": "display_data"
    }
   ],
   "source": [
    "grafica(label_pred) #Primera prediccion k=3"
   ]
  },
  {
   "cell_type": "code",
   "execution_count": 58,
   "id": "5d9ba2a1-bbb7-467d-85af-f0b466b7aa60",
   "metadata": {},
   "outputs": [
    {
     "data": {
      "image/png": "[encoded data removed]",
      "text/plain": [
       "<Figure size 432x288 with 1 Axes>"
      ]
     },
     "metadata": {
      "needs_background": "light"
     },
     "output_type": "display_data"
    }
   ],
   "source": [
    "grafica(label_grid)"
   ]
  },
  {
   "cell_type": "code",
   "execution_count": 59,
   "id": "44904d3c-7c01-48a5-8437-5b429d368a13",
   "metadata": {},
   "outputs": [
    {
     "data": {
      "image/png": "[encoded data removed]",
      "text/plain": [
       "<Figure size 432x288 with 1 Axes>"
      ]
     },
     "metadata": {
      "needs_background": "light"
     },
     "output_type": "display_data"
    }
   ],
   "source": [
    "grafica(label_k)"
   ]
  },
  {
   "cell_type": "code",
   "execution_count": null,
   "id": "ccdfa8c2-0eb8-4370-b9d8-9a0af5ee51af",
   "metadata": {},
   "outputs": [],
   "source": []
  }
 ],
 "metadata": {
  "kernelspec": {
   "display_name": "Python 3",
   "language": "python",
   "name": "python3"
  },
  "language_info": {
   "codemirror_mode": {
    "name": "ipython",
    "version": 3
   },
   "file_extension": ".py",
   "mimetype": "text/x-python",
   "name": "python",
   "nbconvert_exporter": "python",
   "pygments_lexer": "ipython3",
   "version": "3.9.5"
  }
 },
 "nbformat": 4,
 "nbformat_minor": 5
}

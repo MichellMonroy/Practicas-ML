{
 "cells": [
  {
   "cell_type": "markdown",
   "id": "5657d3d9-0ab0-434d-93a8-2638a9f7c17d",
   "metadata": {},
   "source": [
    "#  Predicción del costo de casa-habitación Regresión Lineal"
   ]
  },
  {
   "cell_type": "code",
   "execution_count": 1,
   "id": "5a537160-e01d-4def-939e-2fc91256c81c",
   "metadata": {},
   "outputs": [],
   "source": [
    "import os\n",
    "import path\n",
    "import zipfile\n",
    "import numpy as np\n",
    "import pandas as pd\n",
    "from sklearn.model_selection import train_test_split\n",
    "from sklearn.preprocessing import StandardScaler, MinMaxScaler\n",
    "from sklearn.linear_model import LinearRegression\n",
    "from sklearn.metrics import mean_squared_error, mean_absolute_error\n",
    "import matplotlib.pyplot as plt"
   ]
  },
  {
   "cell_type": "markdown",
   "id": "f60bccd0-d55f-4127-ae37-740308d87d68",
   "metadata": {},
   "source": [
    "**Nota** StandardScaler es para las columnas y Normalizer para las filas"
   ]
  },
  {
   "cell_type": "code",
   "execution_count": 2,
   "id": "47424dde-b0bf-48ec-bec6-ea1e4d9aa5ab",
   "metadata": {},
   "outputs": [],
   "source": [
    "Path = \"/home/michell21/Datasets/\" #Puede cambiar de acuerdo al usuario"
   ]
  },
  {
   "cell_type": "markdown",
   "id": "82d133b5-984f-4cd1-b75e-382c3622468a",
   "metadata": {},
   "source": [
    "## Preparar los datos\n",
    "El archivo original ha sido renombrado como \"California-housing.zip\""
   ]
  },
  {
   "cell_type": "code",
   "execution_count": null,
   "id": "5b711c08-fc4f-4d05-9aab-bc1dc698adf8",
   "metadata": {},
   "outputs": [],
   "source": [
    "#Solo ejecutar la primera vez, ya que después de eso, ya está creada la carpeta con los archivos necesarios\n",
    "with zipfile.ZipFile(Path+'California-housing.zip', 'r') as archive:\n",
    "   # Extract all the contents of zip file in current directory\n",
    "   archive.extractall(Path)"
   ]
  },
  {
   "cell_type": "code",
   "execution_count": null,
   "id": "3db7167e-e36e-4e07-8455-96e167a75289",
   "metadata": {},
   "outputs": [],
   "source": [
    "os.listdir(Path)"
   ]
  },
  {
   "cell_type": "code",
   "execution_count": 3,
   "id": "0d579342-d3b1-4ab0-9326-e8e6f68ef7ca",
   "metadata": {},
   "outputs": [],
   "source": [
    "house = pd.DataFrame(pd.read_csv(Path+\"California_Houses.csv\"))"
   ]
  },
  {
   "cell_type": "code",
   "execution_count": 4,
   "id": "c3aa3e1b-f7ab-4a25-8a63-6667747d31b7",
   "metadata": {},
   "outputs": [
    {
     "data": {
      "text/html": [
       "<div>\n",
       "<style scoped>\n",
       "    .dataframe tbody tr th:only-of-type {\n",
       "        vertical-align: middle;\n",
       "    }\n",
       "\n",
       "    .dataframe tbody tr th {\n",
       "        vertical-align: top;\n",
       "    }\n",
       "\n",
       "    .dataframe thead th {\n",
       "        text-align: right;\n",
       "    }\n",
       "</style>\n",
       "<table border=\"1\" class=\"dataframe\">\n",
       "  <thead>\n",
       "    <tr style=\"text-align: right;\">\n",
       "      <th></th>\n",
       "      <th>Median_House_Value</th>\n",
       "      <th>Median_Income</th>\n",
       "      <th>Median_Age</th>\n",
       "      <th>Tot_Rooms</th>\n",
       "      <th>Tot_Bedrooms</th>\n",
       "      <th>Population</th>\n",
       "      <th>Households</th>\n",
       "      <th>Latitude</th>\n",
       "      <th>Longitude</th>\n",
       "      <th>Distance_to_coast</th>\n",
       "      <th>Distance_to_LA</th>\n",
       "      <th>Distance_to_SanDiego</th>\n",
       "      <th>Distance_to_SanJose</th>\n",
       "      <th>Distance_to_SanFrancisco</th>\n",
       "    </tr>\n",
       "  </thead>\n",
       "  <tbody>\n",
       "    <tr>\n",
       "      <th>0</th>\n",
       "      <td>452600.0</td>\n",
       "      <td>8.3252</td>\n",
       "      <td>41</td>\n",
       "      <td>880</td>\n",
       "      <td>129</td>\n",
       "      <td>322</td>\n",
       "      <td>126</td>\n",
       "      <td>37.88</td>\n",
       "      <td>-122.23</td>\n",
       "      <td>9263.040773</td>\n",
       "      <td>556529.158342</td>\n",
       "      <td>735501.806984</td>\n",
       "      <td>67432.517001</td>\n",
       "      <td>21250.213767</td>\n",
       "    </tr>\n",
       "    <tr>\n",
       "      <th>1</th>\n",
       "      <td>358500.0</td>\n",
       "      <td>8.3014</td>\n",
       "      <td>21</td>\n",
       "      <td>7099</td>\n",
       "      <td>1106</td>\n",
       "      <td>2401</td>\n",
       "      <td>1138</td>\n",
       "      <td>37.86</td>\n",
       "      <td>-122.22</td>\n",
       "      <td>10225.733072</td>\n",
       "      <td>554279.850069</td>\n",
       "      <td>733236.884360</td>\n",
       "      <td>65049.908574</td>\n",
       "      <td>20880.600400</td>\n",
       "    </tr>\n",
       "    <tr>\n",
       "      <th>2</th>\n",
       "      <td>352100.0</td>\n",
       "      <td>7.2574</td>\n",
       "      <td>52</td>\n",
       "      <td>1467</td>\n",
       "      <td>190</td>\n",
       "      <td>496</td>\n",
       "      <td>177</td>\n",
       "      <td>37.85</td>\n",
       "      <td>-122.24</td>\n",
       "      <td>8259.085109</td>\n",
       "      <td>554610.717069</td>\n",
       "      <td>733525.682937</td>\n",
       "      <td>64867.289833</td>\n",
       "      <td>18811.487450</td>\n",
       "    </tr>\n",
       "    <tr>\n",
       "      <th>3</th>\n",
       "      <td>341300.0</td>\n",
       "      <td>5.6431</td>\n",
       "      <td>52</td>\n",
       "      <td>1274</td>\n",
       "      <td>235</td>\n",
       "      <td>558</td>\n",
       "      <td>219</td>\n",
       "      <td>37.85</td>\n",
       "      <td>-122.25</td>\n",
       "      <td>7768.086571</td>\n",
       "      <td>555194.266086</td>\n",
       "      <td>734095.290744</td>\n",
       "      <td>65287.138412</td>\n",
       "      <td>18031.047568</td>\n",
       "    </tr>\n",
       "    <tr>\n",
       "      <th>4</th>\n",
       "      <td>342200.0</td>\n",
       "      <td>3.8462</td>\n",
       "      <td>52</td>\n",
       "      <td>1627</td>\n",
       "      <td>280</td>\n",
       "      <td>565</td>\n",
       "      <td>259</td>\n",
       "      <td>37.85</td>\n",
       "      <td>-122.25</td>\n",
       "      <td>7768.086571</td>\n",
       "      <td>555194.266086</td>\n",
       "      <td>734095.290744</td>\n",
       "      <td>65287.138412</td>\n",
       "      <td>18031.047568</td>\n",
       "    </tr>\n",
       "  </tbody>\n",
       "</table>\n",
       "</div>"
      ],
      "text/plain": [
       "   Median_House_Value  Median_Income  Median_Age  Tot_Rooms  Tot_Bedrooms  \\\n",
       "0            452600.0         8.3252          41        880           129   \n",
       "1            358500.0         8.3014          21       7099          1106   \n",
       "2            352100.0         7.2574          52       1467           190   \n",
       "3            341300.0         5.6431          52       1274           235   \n",
       "4            342200.0         3.8462          52       1627           280   \n",
       "\n",
       "   Population  Households  Latitude  Longitude  Distance_to_coast  \\\n",
       "0         322         126     37.88    -122.23        9263.040773   \n",
       "1        2401        1138     37.86    -122.22       10225.733072   \n",
       "2         496         177     37.85    -122.24        8259.085109   \n",
       "3         558         219     37.85    -122.25        7768.086571   \n",
       "4         565         259     37.85    -122.25        7768.086571   \n",
       "\n",
       "   Distance_to_LA  Distance_to_SanDiego  Distance_to_SanJose  \\\n",
       "0   556529.158342         735501.806984         67432.517001   \n",
       "1   554279.850069         733236.884360         65049.908574   \n",
       "2   554610.717069         733525.682937         64867.289833   \n",
       "3   555194.266086         734095.290744         65287.138412   \n",
       "4   555194.266086         734095.290744         65287.138412   \n",
       "\n",
       "   Distance_to_SanFrancisco  \n",
       "0              21250.213767  \n",
       "1              20880.600400  \n",
       "2              18811.487450  \n",
       "3              18031.047568  \n",
       "4              18031.047568  "
      ]
     },
     "execution_count": 4,
     "metadata": {},
     "output_type": "execute_result"
    }
   ],
   "source": [
    "house.head()"
   ]
  },
  {
   "cell_type": "markdown",
   "id": "1bf663b5-82f2-4fb7-86d8-17d36a96bc1d",
   "metadata": {},
   "source": [
    "## Hacemos exploración de los datos \n",
    "Esto se realiza con el fin de darnos una idea de cómo son los datos y que contienen"
   ]
  },
  {
   "cell_type": "code",
   "execution_count": 5,
   "id": "96aff8f0-039f-41ec-b478-53d88b24e5a9",
   "metadata": {},
   "outputs": [
    {
     "name": "stdout",
     "output_type": "stream",
     "text": [
      "<class 'pandas.core.frame.DataFrame'>\n",
      "RangeIndex: 20640 entries, 0 to 20639\n",
      "Data columns (total 14 columns):\n",
      " #   Column                    Non-Null Count  Dtype  \n",
      "---  ------                    --------------  -----  \n",
      " 0   Median_House_Value        20640 non-null  float64\n",
      " 1   Median_Income             20640 non-null  float64\n",
      " 2   Median_Age                20640 non-null  int64  \n",
      " 3   Tot_Rooms                 20640 non-null  int64  \n",
      " 4   Tot_Bedrooms              20640 non-null  int64  \n",
      " 5   Population                20640 non-null  int64  \n",
      " 6   Households                20640 non-null  int64  \n",
      " 7   Latitude                  20640 non-null  float64\n",
      " 8   Longitude                 20640 non-null  float64\n",
      " 9   Distance_to_coast         20640 non-null  float64\n",
      " 10  Distance_to_LA            20640 non-null  float64\n",
      " 11  Distance_to_SanDiego      20640 non-null  float64\n",
      " 12  Distance_to_SanJose       20640 non-null  float64\n",
      " 13  Distance_to_SanFrancisco  20640 non-null  float64\n",
      "dtypes: float64(9), int64(5)\n",
      "memory usage: 2.2 MB\n"
     ]
    }
   ],
   "source": [
    "house.info()"
   ]
  },
  {
   "cell_type": "code",
   "execution_count": 6,
   "id": "60035ab1-95cb-4b72-8fb7-da784d2df5c3",
   "metadata": {},
   "outputs": [
    {
     "data": {
      "text/html": [
       "<div>\n",
       "<style scoped>\n",
       "    .dataframe tbody tr th:only-of-type {\n",
       "        vertical-align: middle;\n",
       "    }\n",
       "\n",
       "    .dataframe tbody tr th {\n",
       "        vertical-align: top;\n",
       "    }\n",
       "\n",
       "    .dataframe thead th {\n",
       "        text-align: right;\n",
       "    }\n",
       "</style>\n",
       "<table border=\"1\" class=\"dataframe\">\n",
       "  <thead>\n",
       "    <tr style=\"text-align: right;\">\n",
       "      <th></th>\n",
       "      <th>Median_House_Value</th>\n",
       "      <th>Median_Income</th>\n",
       "      <th>Median_Age</th>\n",
       "      <th>Tot_Rooms</th>\n",
       "      <th>Tot_Bedrooms</th>\n",
       "      <th>Population</th>\n",
       "      <th>Households</th>\n",
       "      <th>Latitude</th>\n",
       "      <th>Longitude</th>\n",
       "      <th>Distance_to_coast</th>\n",
       "      <th>Distance_to_LA</th>\n",
       "      <th>Distance_to_SanDiego</th>\n",
       "      <th>Distance_to_SanJose</th>\n",
       "      <th>Distance_to_SanFrancisco</th>\n",
       "    </tr>\n",
       "  </thead>\n",
       "  <tbody>\n",
       "    <tr>\n",
       "      <th>count</th>\n",
       "      <td>20640.000000</td>\n",
       "      <td>20640.000000</td>\n",
       "      <td>20640.000000</td>\n",
       "      <td>20640.000000</td>\n",
       "      <td>20640.000000</td>\n",
       "      <td>20640.000000</td>\n",
       "      <td>20640.000000</td>\n",
       "      <td>20640.000000</td>\n",
       "      <td>20640.000000</td>\n",
       "      <td>20640.000000</td>\n",
       "      <td>2.064000e+04</td>\n",
       "      <td>2.064000e+04</td>\n",
       "      <td>20640.000000</td>\n",
       "      <td>20640.000000</td>\n",
       "    </tr>\n",
       "    <tr>\n",
       "      <th>mean</th>\n",
       "      <td>206855.816909</td>\n",
       "      <td>3.870671</td>\n",
       "      <td>28.639486</td>\n",
       "      <td>2635.763081</td>\n",
       "      <td>537.898014</td>\n",
       "      <td>1425.476744</td>\n",
       "      <td>499.539680</td>\n",
       "      <td>35.631861</td>\n",
       "      <td>-119.569704</td>\n",
       "      <td>40509.264883</td>\n",
       "      <td>2.694220e+05</td>\n",
       "      <td>3.981649e+05</td>\n",
       "      <td>349187.551219</td>\n",
       "      <td>386688.422291</td>\n",
       "    </tr>\n",
       "    <tr>\n",
       "      <th>std</th>\n",
       "      <td>115395.615874</td>\n",
       "      <td>1.899822</td>\n",
       "      <td>12.585558</td>\n",
       "      <td>2181.615252</td>\n",
       "      <td>421.247906</td>\n",
       "      <td>1132.462122</td>\n",
       "      <td>382.329753</td>\n",
       "      <td>2.135952</td>\n",
       "      <td>2.003532</td>\n",
       "      <td>49140.039160</td>\n",
       "      <td>2.477324e+05</td>\n",
       "      <td>2.894006e+05</td>\n",
       "      <td>217149.875026</td>\n",
       "      <td>250122.192316</td>\n",
       "    </tr>\n",
       "    <tr>\n",
       "      <th>min</th>\n",
       "      <td>14999.000000</td>\n",
       "      <td>0.499900</td>\n",
       "      <td>1.000000</td>\n",
       "      <td>2.000000</td>\n",
       "      <td>1.000000</td>\n",
       "      <td>3.000000</td>\n",
       "      <td>1.000000</td>\n",
       "      <td>32.540000</td>\n",
       "      <td>-124.350000</td>\n",
       "      <td>120.676447</td>\n",
       "      <td>4.205891e+02</td>\n",
       "      <td>4.849180e+02</td>\n",
       "      <td>569.448118</td>\n",
       "      <td>456.141313</td>\n",
       "    </tr>\n",
       "    <tr>\n",
       "      <th>25%</th>\n",
       "      <td>119600.000000</td>\n",
       "      <td>2.563400</td>\n",
       "      <td>18.000000</td>\n",
       "      <td>1447.750000</td>\n",
       "      <td>295.000000</td>\n",
       "      <td>787.000000</td>\n",
       "      <td>280.000000</td>\n",
       "      <td>33.930000</td>\n",
       "      <td>-121.800000</td>\n",
       "      <td>9079.756762</td>\n",
       "      <td>3.211125e+04</td>\n",
       "      <td>1.594264e+05</td>\n",
       "      <td>113119.928682</td>\n",
       "      <td>117395.477505</td>\n",
       "    </tr>\n",
       "    <tr>\n",
       "      <th>50%</th>\n",
       "      <td>179700.000000</td>\n",
       "      <td>3.534800</td>\n",
       "      <td>29.000000</td>\n",
       "      <td>2127.000000</td>\n",
       "      <td>435.000000</td>\n",
       "      <td>1166.000000</td>\n",
       "      <td>409.000000</td>\n",
       "      <td>34.260000</td>\n",
       "      <td>-118.490000</td>\n",
       "      <td>20522.019101</td>\n",
       "      <td>1.736675e+05</td>\n",
       "      <td>2.147398e+05</td>\n",
       "      <td>459758.877000</td>\n",
       "      <td>526546.661701</td>\n",
       "    </tr>\n",
       "    <tr>\n",
       "      <th>75%</th>\n",
       "      <td>264725.000000</td>\n",
       "      <td>4.743250</td>\n",
       "      <td>37.000000</td>\n",
       "      <td>3148.000000</td>\n",
       "      <td>647.000000</td>\n",
       "      <td>1725.000000</td>\n",
       "      <td>605.000000</td>\n",
       "      <td>37.710000</td>\n",
       "      <td>-118.010000</td>\n",
       "      <td>49830.414479</td>\n",
       "      <td>5.271562e+05</td>\n",
       "      <td>7.057954e+05</td>\n",
       "      <td>516946.490963</td>\n",
       "      <td>584552.007907</td>\n",
       "    </tr>\n",
       "    <tr>\n",
       "      <th>max</th>\n",
       "      <td>500001.000000</td>\n",
       "      <td>15.000100</td>\n",
       "      <td>52.000000</td>\n",
       "      <td>39320.000000</td>\n",
       "      <td>6445.000000</td>\n",
       "      <td>35682.000000</td>\n",
       "      <td>6082.000000</td>\n",
       "      <td>41.950000</td>\n",
       "      <td>-114.310000</td>\n",
       "      <td>333804.686371</td>\n",
       "      <td>1.018260e+06</td>\n",
       "      <td>1.196919e+06</td>\n",
       "      <td>836762.678210</td>\n",
       "      <td>903627.663298</td>\n",
       "    </tr>\n",
       "  </tbody>\n",
       "</table>\n",
       "</div>"
      ],
      "text/plain": [
       "       Median_House_Value  Median_Income    Median_Age     Tot_Rooms  \\\n",
       "count        20640.000000   20640.000000  20640.000000  20640.000000   \n",
       "mean        206855.816909       3.870671     28.639486   2635.763081   \n",
       "std         115395.615874       1.899822     12.585558   2181.615252   \n",
       "min          14999.000000       0.499900      1.000000      2.000000   \n",
       "25%         119600.000000       2.563400     18.000000   1447.750000   \n",
       "50%         179700.000000       3.534800     29.000000   2127.000000   \n",
       "75%         264725.000000       4.743250     37.000000   3148.000000   \n",
       "max         500001.000000      15.000100     52.000000  39320.000000   \n",
       "\n",
       "       Tot_Bedrooms    Population    Households      Latitude     Longitude  \\\n",
       "count  20640.000000  20640.000000  20640.000000  20640.000000  20640.000000   \n",
       "mean     537.898014   1425.476744    499.539680     35.631861   -119.569704   \n",
       "std      421.247906   1132.462122    382.329753      2.135952      2.003532   \n",
       "min        1.000000      3.000000      1.000000     32.540000   -124.350000   \n",
       "25%      295.000000    787.000000    280.000000     33.930000   -121.800000   \n",
       "50%      435.000000   1166.000000    409.000000     34.260000   -118.490000   \n",
       "75%      647.000000   1725.000000    605.000000     37.710000   -118.010000   \n",
       "max     6445.000000  35682.000000   6082.000000     41.950000   -114.310000   \n",
       "\n",
       "       Distance_to_coast  Distance_to_LA  Distance_to_SanDiego  \\\n",
       "count       20640.000000    2.064000e+04          2.064000e+04   \n",
       "mean        40509.264883    2.694220e+05          3.981649e+05   \n",
       "std         49140.039160    2.477324e+05          2.894006e+05   \n",
       "min           120.676447    4.205891e+02          4.849180e+02   \n",
       "25%          9079.756762    3.211125e+04          1.594264e+05   \n",
       "50%         20522.019101    1.736675e+05          2.147398e+05   \n",
       "75%         49830.414479    5.271562e+05          7.057954e+05   \n",
       "max        333804.686371    1.018260e+06          1.196919e+06   \n",
       "\n",
       "       Distance_to_SanJose  Distance_to_SanFrancisco  \n",
       "count         20640.000000              20640.000000  \n",
       "mean         349187.551219             386688.422291  \n",
       "std          217149.875026             250122.192316  \n",
       "min             569.448118                456.141313  \n",
       "25%          113119.928682             117395.477505  \n",
       "50%          459758.877000             526546.661701  \n",
       "75%          516946.490963             584552.007907  \n",
       "max          836762.678210             903627.663298  "
      ]
     },
     "execution_count": 6,
     "metadata": {},
     "output_type": "execute_result"
    }
   ],
   "source": [
    "house.describe()"
   ]
  },
  {
   "cell_type": "markdown",
   "id": "532b870a-8638-42fc-be41-1fd1e9b2d6ad",
   "metadata": {},
   "source": [
    "Como se puede apreciar, no hay datos faltantes. Por lo tanto no es necesario rellenar datos como en la práctica anterior. Pero los datos se encuentran en diferentes escalas, por lo tanto es necesario escalar los datos"
   ]
  },
  {
   "cell_type": "markdown",
   "id": "4c847a34-fa21-45e8-945d-b3dc49ad68da",
   "metadata": {},
   "source": [
    "## Visualización de Datos"
   ]
  },
  {
   "cell_type": "code",
   "execution_count": 7,
   "id": "60aad3e5-1c23-4544-8815-5aeb2c8214aa",
   "metadata": {},
   "outputs": [],
   "source": [
    "def grafica(data, colx, coly):\n",
    "    plt.plot(data[colx], data[coly], 'o')\n",
    "    plt.xlabel(colx, size = 15)\n",
    "    plt.ylabel(coly, size = 15)\n",
    "    plt.title(colx+' vs '+ coly, size = 20)\n",
    "    plt.show()"
   ]
  },
  {
   "cell_type": "code",
   "execution_count": 8,
   "id": "a093c56e-ac33-4b2a-bfd5-e45ecac2958f",
   "metadata": {},
   "outputs": [
    {
     "data": {
      "image/png": "[encoded data removed]",
      "text/plain": [
       "<Figure size 432x288 with 1 Axes>"
      ]
     },
     "metadata": {
      "needs_background": "light"
     },
     "output_type": "display_data"
    }
   ],
   "source": [
    "grafica(house, 'Median_House_Value', 'Median_Income')"
   ]
  },
  {
   "cell_type": "code",
   "execution_count": 9,
   "id": "037d8c7e-dc71-4ee5-a1b0-cdf67f826850",
   "metadata": {},
   "outputs": [
    {
     "data": {
      "image/png": "[encoded data removed]",
      "text/plain": [
       "<Figure size 432x288 with 1 Axes>"
      ]
     },
     "metadata": {
      "needs_background": "light"
     },
     "output_type": "display_data"
    }
   ],
   "source": [
    "grafica(house, 'Median_House_Value', 'Median_Age')"
   ]
  },
  {
   "cell_type": "code",
   "execution_count": 10,
   "id": "0bb644d9-1a0e-473c-bb57-fe6853adbbc5",
   "metadata": {},
   "outputs": [
    {
     "data": {
      "image/png": "[encoded data removed]",
      "text/plain": [
       "<Figure size 432x288 with 1 Axes>"
      ]
     },
     "metadata": {
      "needs_background": "light"
     },
     "output_type": "display_data"
    }
   ],
   "source": [
    "grafica(house, 'Median_House_Value', 'Tot_Rooms')"
   ]
  },
  {
   "cell_type": "code",
   "execution_count": 11,
   "id": "53a7f203-cace-41ea-be8c-4fbe8a3bc7c2",
   "metadata": {},
   "outputs": [
    {
     "data": {
      "image/png": "[encoded data removed]",
      "text/plain": [
       "<Figure size 432x288 with 1 Axes>"
      ]
     },
     "metadata": {
      "needs_background": "light"
     },
     "output_type": "display_data"
    }
   ],
   "source": [
    "grafica(house, 'Median_House_Value', 'Population')"
   ]
  },
  {
   "cell_type": "markdown",
   "id": "4b738d97-1d3f-43df-a946-7f68062b6b77",
   "metadata": {},
   "source": [
    "La mayoría de los datos se concentran en la primera mitad de las variables independientes\n"
   ]
  },
  {
   "cell_type": "markdown",
   "id": "4f24da44-7fe7-4295-a371-b779d7492cad",
   "metadata": {},
   "source": [
    "## Dividimos las columnas en $X$ y $y$"
   ]
  },
  {
   "cell_type": "code",
   "execution_count": 5,
   "id": "2026d708-bb80-4454-87fa-315db91d2f28",
   "metadata": {},
   "outputs": [],
   "source": [
    "y = house['Median_House_Value']\n",
    "X = house.iloc[:,1:]"
   ]
  },
  {
   "cell_type": "code",
   "execution_count": 6,
   "id": "cbab16f2-19e4-487a-8cea-d3e20228b8c8",
   "metadata": {},
   "outputs": [
    {
     "data": {
      "text/html": [
       "<div>\n",
       "<style scoped>\n",
       "    .dataframe tbody tr th:only-of-type {\n",
       "        vertical-align: middle;\n",
       "    }\n",
       "\n",
       "    .dataframe tbody tr th {\n",
       "        vertical-align: top;\n",
       "    }\n",
       "\n",
       "    .dataframe thead th {\n",
       "        text-align: right;\n",
       "    }\n",
       "</style>\n",
       "<table border=\"1\" class=\"dataframe\">\n",
       "  <thead>\n",
       "    <tr style=\"text-align: right;\">\n",
       "      <th></th>\n",
       "      <th>Median_Income</th>\n",
       "      <th>Median_Age</th>\n",
       "      <th>Tot_Rooms</th>\n",
       "      <th>Tot_Bedrooms</th>\n",
       "      <th>Population</th>\n",
       "      <th>Households</th>\n",
       "      <th>Latitude</th>\n",
       "      <th>Longitude</th>\n",
       "      <th>Distance_to_coast</th>\n",
       "      <th>Distance_to_LA</th>\n",
       "      <th>Distance_to_SanDiego</th>\n",
       "      <th>Distance_to_SanJose</th>\n",
       "      <th>Distance_to_SanFrancisco</th>\n",
       "    </tr>\n",
       "  </thead>\n",
       "  <tbody>\n",
       "    <tr>\n",
       "      <th>0</th>\n",
       "      <td>8.3252</td>\n",
       "      <td>41</td>\n",
       "      <td>880</td>\n",
       "      <td>129</td>\n",
       "      <td>322</td>\n",
       "      <td>126</td>\n",
       "      <td>37.88</td>\n",
       "      <td>-122.23</td>\n",
       "      <td>9263.040773</td>\n",
       "      <td>556529.158342</td>\n",
       "      <td>735501.806984</td>\n",
       "      <td>67432.517001</td>\n",
       "      <td>21250.213767</td>\n",
       "    </tr>\n",
       "    <tr>\n",
       "      <th>1</th>\n",
       "      <td>8.3014</td>\n",
       "      <td>21</td>\n",
       "      <td>7099</td>\n",
       "      <td>1106</td>\n",
       "      <td>2401</td>\n",
       "      <td>1138</td>\n",
       "      <td>37.86</td>\n",
       "      <td>-122.22</td>\n",
       "      <td>10225.733072</td>\n",
       "      <td>554279.850069</td>\n",
       "      <td>733236.884360</td>\n",
       "      <td>65049.908574</td>\n",
       "      <td>20880.600400</td>\n",
       "    </tr>\n",
       "    <tr>\n",
       "      <th>2</th>\n",
       "      <td>7.2574</td>\n",
       "      <td>52</td>\n",
       "      <td>1467</td>\n",
       "      <td>190</td>\n",
       "      <td>496</td>\n",
       "      <td>177</td>\n",
       "      <td>37.85</td>\n",
       "      <td>-122.24</td>\n",
       "      <td>8259.085109</td>\n",
       "      <td>554610.717069</td>\n",
       "      <td>733525.682937</td>\n",
       "      <td>64867.289833</td>\n",
       "      <td>18811.487450</td>\n",
       "    </tr>\n",
       "    <tr>\n",
       "      <th>3</th>\n",
       "      <td>5.6431</td>\n",
       "      <td>52</td>\n",
       "      <td>1274</td>\n",
       "      <td>235</td>\n",
       "      <td>558</td>\n",
       "      <td>219</td>\n",
       "      <td>37.85</td>\n",
       "      <td>-122.25</td>\n",
       "      <td>7768.086571</td>\n",
       "      <td>555194.266086</td>\n",
       "      <td>734095.290744</td>\n",
       "      <td>65287.138412</td>\n",
       "      <td>18031.047568</td>\n",
       "    </tr>\n",
       "    <tr>\n",
       "      <th>4</th>\n",
       "      <td>3.8462</td>\n",
       "      <td>52</td>\n",
       "      <td>1627</td>\n",
       "      <td>280</td>\n",
       "      <td>565</td>\n",
       "      <td>259</td>\n",
       "      <td>37.85</td>\n",
       "      <td>-122.25</td>\n",
       "      <td>7768.086571</td>\n",
       "      <td>555194.266086</td>\n",
       "      <td>734095.290744</td>\n",
       "      <td>65287.138412</td>\n",
       "      <td>18031.047568</td>\n",
       "    </tr>\n",
       "  </tbody>\n",
       "</table>\n",
       "</div>"
      ],
      "text/plain": [
       "   Median_Income  Median_Age  Tot_Rooms  Tot_Bedrooms  Population  Households  \\\n",
       "0         8.3252          41        880           129         322         126   \n",
       "1         8.3014          21       7099          1106        2401        1138   \n",
       "2         7.2574          52       1467           190         496         177   \n",
       "3         5.6431          52       1274           235         558         219   \n",
       "4         3.8462          52       1627           280         565         259   \n",
       "\n",
       "   Latitude  Longitude  Distance_to_coast  Distance_to_LA  \\\n",
       "0     37.88    -122.23        9263.040773   556529.158342   \n",
       "1     37.86    -122.22       10225.733072   554279.850069   \n",
       "2     37.85    -122.24        8259.085109   554610.717069   \n",
       "3     37.85    -122.25        7768.086571   555194.266086   \n",
       "4     37.85    -122.25        7768.086571   555194.266086   \n",
       "\n",
       "   Distance_to_SanDiego  Distance_to_SanJose  Distance_to_SanFrancisco  \n",
       "0         735501.806984         67432.517001              21250.213767  \n",
       "1         733236.884360         65049.908574              20880.600400  \n",
       "2         733525.682937         64867.289833              18811.487450  \n",
       "3         734095.290744         65287.138412              18031.047568  \n",
       "4         734095.290744         65287.138412              18031.047568  "
      ]
     },
     "execution_count": 6,
     "metadata": {},
     "output_type": "execute_result"
    }
   ],
   "source": [
    "X.head()"
   ]
  },
  {
   "cell_type": "code",
   "execution_count": 14,
   "id": "ea7acaf9-26de-4275-906b-541431d3474c",
   "metadata": {},
   "outputs": [
    {
     "data": {
      "text/plain": [
       "0    452600.0\n",
       "1    358500.0\n",
       "2    352100.0\n",
       "3    341300.0\n",
       "4    342200.0\n",
       "Name: Median_House_Value, dtype: float64"
      ]
     },
     "execution_count": 14,
     "metadata": {},
     "output_type": "execute_result"
    }
   ],
   "source": [
    "y.head()"
   ]
  },
  {
   "cell_type": "markdown",
   "id": "85e4d359-b755-4a85-bca1-126e4aac0c17",
   "metadata": {},
   "source": [
    "## Escalamos los datos por columna usando StandardScaler"
   ]
  },
  {
   "cell_type": "markdown",
   "id": "fff76624-52b1-44ae-9283-d2785208a88b",
   "metadata": {},
   "source": [
    "StandardScalerr se calcula eliminando la media y escalando a la varianza de la unidad La puntuación estándar de una muestra $x$ se calcula como: $z = \\frac{(x - u)}{s}$ donde $u$ es la media de las muestras de entrenamiento o cero si with_mean = False, y $s$ es la desviación estándar de las muestras de entrenamiento o uno si with_std = False."
   ]
  },
  {
   "cell_type": "code",
   "execution_count": 7,
   "id": "1f45414f-c1cf-49ef-853f-8fa013ba3c73",
   "metadata": {},
   "outputs": [],
   "source": [
    "sc = StandardScaler()\n",
    "Xsc = X.copy()\n",
    "Xsc.iloc[:,:] = sc.fit_transform(X.iloc[:, :])"
   ]
  },
  {
   "cell_type": "code",
   "execution_count": 16,
   "id": "f54928af-a007-4258-b7ac-31090a3eeb8a",
   "metadata": {},
   "outputs": [
    {
     "data": {
      "text/html": [
       "<div>\n",
       "<style scoped>\n",
       "    .dataframe tbody tr th:only-of-type {\n",
       "        vertical-align: middle;\n",
       "    }\n",
       "\n",
       "    .dataframe tbody tr th {\n",
       "        vertical-align: top;\n",
       "    }\n",
       "\n",
       "    .dataframe thead th {\n",
       "        text-align: right;\n",
       "    }\n",
       "</style>\n",
       "<table border=\"1\" class=\"dataframe\">\n",
       "  <thead>\n",
       "    <tr style=\"text-align: right;\">\n",
       "      <th></th>\n",
       "      <th>Median_Income</th>\n",
       "      <th>Median_Age</th>\n",
       "      <th>Tot_Rooms</th>\n",
       "      <th>Tot_Bedrooms</th>\n",
       "      <th>Population</th>\n",
       "      <th>Households</th>\n",
       "      <th>Latitude</th>\n",
       "      <th>Longitude</th>\n",
       "      <th>Distance_to_coast</th>\n",
       "      <th>Distance_to_LA</th>\n",
       "      <th>Distance_to_SanDiego</th>\n",
       "      <th>Distance_to_SanJose</th>\n",
       "      <th>Distance_to_SanFrancisco</th>\n",
       "    </tr>\n",
       "  </thead>\n",
       "  <tbody>\n",
       "    <tr>\n",
       "      <th>0</th>\n",
       "      <td>2.344766</td>\n",
       "      <td>0.982143</td>\n",
       "      <td>-0.804819</td>\n",
       "      <td>-0.970706</td>\n",
       "      <td>-0.974429</td>\n",
       "      <td>-0.977033</td>\n",
       "      <td>1.052548</td>\n",
       "      <td>-1.327835</td>\n",
       "      <td>-0.635876</td>\n",
       "      <td>1.158969</td>\n",
       "      <td>1.165668</td>\n",
       "      <td>-1.297546</td>\n",
       "      <td>-1.461074</td>\n",
       "    </tr>\n",
       "    <tr>\n",
       "      <th>1</th>\n",
       "      <td>2.332238</td>\n",
       "      <td>-0.607019</td>\n",
       "      <td>2.045890</td>\n",
       "      <td>1.348649</td>\n",
       "      <td>0.861439</td>\n",
       "      <td>1.669961</td>\n",
       "      <td>1.043185</td>\n",
       "      <td>-1.322844</td>\n",
       "      <td>-0.616285</td>\n",
       "      <td>1.149889</td>\n",
       "      <td>1.157842</td>\n",
       "      <td>-1.308518</td>\n",
       "      <td>-1.462552</td>\n",
       "    </tr>\n",
       "    <tr>\n",
       "      <th>2</th>\n",
       "      <td>1.782699</td>\n",
       "      <td>1.856182</td>\n",
       "      <td>-0.535746</td>\n",
       "      <td>-0.825895</td>\n",
       "      <td>-0.820777</td>\n",
       "      <td>-0.843637</td>\n",
       "      <td>1.038503</td>\n",
       "      <td>-1.332827</td>\n",
       "      <td>-0.656307</td>\n",
       "      <td>1.151224</td>\n",
       "      <td>1.158840</td>\n",
       "      <td>-1.309359</td>\n",
       "      <td>-1.470824</td>\n",
       "    </tr>\n",
       "    <tr>\n",
       "      <th>3</th>\n",
       "      <td>0.932968</td>\n",
       "      <td>1.856182</td>\n",
       "      <td>-0.624215</td>\n",
       "      <td>-0.719067</td>\n",
       "      <td>-0.766028</td>\n",
       "      <td>-0.733781</td>\n",
       "      <td>1.038503</td>\n",
       "      <td>-1.337818</td>\n",
       "      <td>-0.666299</td>\n",
       "      <td>1.153580</td>\n",
       "      <td>1.160808</td>\n",
       "      <td>-1.307426</td>\n",
       "      <td>-1.473945</td>\n",
       "    </tr>\n",
       "    <tr>\n",
       "      <th>4</th>\n",
       "      <td>-0.012881</td>\n",
       "      <td>1.856182</td>\n",
       "      <td>-0.462404</td>\n",
       "      <td>-0.612239</td>\n",
       "      <td>-0.759847</td>\n",
       "      <td>-0.629157</td>\n",
       "      <td>1.038503</td>\n",
       "      <td>-1.337818</td>\n",
       "      <td>-0.666299</td>\n",
       "      <td>1.153580</td>\n",
       "      <td>1.160808</td>\n",
       "      <td>-1.307426</td>\n",
       "      <td>-1.473945</td>\n",
       "    </tr>\n",
       "  </tbody>\n",
       "</table>\n",
       "</div>"
      ],
      "text/plain": [
       "   Median_Income  Median_Age  Tot_Rooms  Tot_Bedrooms  Population  Households  \\\n",
       "0       2.344766    0.982143  -0.804819     -0.970706   -0.974429   -0.977033   \n",
       "1       2.332238   -0.607019   2.045890      1.348649    0.861439    1.669961   \n",
       "2       1.782699    1.856182  -0.535746     -0.825895   -0.820777   -0.843637   \n",
       "3       0.932968    1.856182  -0.624215     -0.719067   -0.766028   -0.733781   \n",
       "4      -0.012881    1.856182  -0.462404     -0.612239   -0.759847   -0.629157   \n",
       "\n",
       "   Latitude  Longitude  Distance_to_coast  Distance_to_LA  \\\n",
       "0  1.052548  -1.327835          -0.635876        1.158969   \n",
       "1  1.043185  -1.322844          -0.616285        1.149889   \n",
       "2  1.038503  -1.332827          -0.656307        1.151224   \n",
       "3  1.038503  -1.337818          -0.666299        1.153580   \n",
       "4  1.038503  -1.337818          -0.666299        1.153580   \n",
       "\n",
       "   Distance_to_SanDiego  Distance_to_SanJose  Distance_to_SanFrancisco  \n",
       "0              1.165668            -1.297546                 -1.461074  \n",
       "1              1.157842            -1.308518                 -1.462552  \n",
       "2              1.158840            -1.309359                 -1.470824  \n",
       "3              1.160808            -1.307426                 -1.473945  \n",
       "4              1.160808            -1.307426                 -1.473945  "
      ]
     },
     "execution_count": 16,
     "metadata": {},
     "output_type": "execute_result"
    }
   ],
   "source": [
    "Xsc.head()"
   ]
  },
  {
   "cell_type": "markdown",
   "id": "75bd50b5-5ce8-4a77-8de9-858bf8eb27f9",
   "metadata": {},
   "source": [
    "## Escalamos los datos por columna usando MinMaxScaler"
   ]
  },
  {
   "cell_type": "code",
   "execution_count": 8,
   "id": "daee2461-8cbc-4315-ae8a-1d47c72aef89",
   "metadata": {},
   "outputs": [],
   "source": [
    "scaler = MinMaxScaler() \n",
    "Xnorm = X.copy()\n",
    "scaled_values = scaler.fit_transform(X)"
   ]
  },
  {
   "cell_type": "code",
   "execution_count": 18,
   "id": "299f9cca-a2ac-40f5-9699-9c5bc9db9413",
   "metadata": {},
   "outputs": [
    {
     "data": {
      "text/html": [
       "<div>\n",
       "<style scoped>\n",
       "    .dataframe tbody tr th:only-of-type {\n",
       "        vertical-align: middle;\n",
       "    }\n",
       "\n",
       "    .dataframe tbody tr th {\n",
       "        vertical-align: top;\n",
       "    }\n",
       "\n",
       "    .dataframe thead th {\n",
       "        text-align: right;\n",
       "    }\n",
       "</style>\n",
       "<table border=\"1\" class=\"dataframe\">\n",
       "  <thead>\n",
       "    <tr style=\"text-align: right;\">\n",
       "      <th></th>\n",
       "      <th>Median_Income</th>\n",
       "      <th>Median_Age</th>\n",
       "      <th>Tot_Rooms</th>\n",
       "      <th>Tot_Bedrooms</th>\n",
       "      <th>Population</th>\n",
       "      <th>Households</th>\n",
       "      <th>Latitude</th>\n",
       "      <th>Longitude</th>\n",
       "      <th>Distance_to_coast</th>\n",
       "      <th>Distance_to_LA</th>\n",
       "      <th>Distance_to_SanDiego</th>\n",
       "      <th>Distance_to_SanJose</th>\n",
       "      <th>Distance_to_SanFrancisco</th>\n",
       "    </tr>\n",
       "  </thead>\n",
       "  <tbody>\n",
       "    <tr>\n",
       "      <th>0</th>\n",
       "      <td>0.539668</td>\n",
       "      <td>0.784314</td>\n",
       "      <td>0.022331</td>\n",
       "      <td>0.019863</td>\n",
       "      <td>0.008941</td>\n",
       "      <td>0.020556</td>\n",
       "      <td>0.567481</td>\n",
       "      <td>0.211155</td>\n",
       "      <td>0.027398</td>\n",
       "      <td>0.546362</td>\n",
       "      <td>0.614340</td>\n",
       "      <td>0.079961</td>\n",
       "      <td>0.023023</td>\n",
       "    </tr>\n",
       "    <tr>\n",
       "      <th>1</th>\n",
       "      <td>0.538027</td>\n",
       "      <td>0.392157</td>\n",
       "      <td>0.180503</td>\n",
       "      <td>0.171477</td>\n",
       "      <td>0.067210</td>\n",
       "      <td>0.186976</td>\n",
       "      <td>0.565356</td>\n",
       "      <td>0.212151</td>\n",
       "      <td>0.030283</td>\n",
       "      <td>0.544152</td>\n",
       "      <td>0.612446</td>\n",
       "      <td>0.077112</td>\n",
       "      <td>0.022614</td>\n",
       "    </tr>\n",
       "    <tr>\n",
       "      <th>2</th>\n",
       "      <td>0.466028</td>\n",
       "      <td>1.000000</td>\n",
       "      <td>0.037260</td>\n",
       "      <td>0.029330</td>\n",
       "      <td>0.013818</td>\n",
       "      <td>0.028943</td>\n",
       "      <td>0.564293</td>\n",
       "      <td>0.210159</td>\n",
       "      <td>0.024390</td>\n",
       "      <td>0.544477</td>\n",
       "      <td>0.612688</td>\n",
       "      <td>0.076894</td>\n",
       "      <td>0.020323</td>\n",
       "    </tr>\n",
       "    <tr>\n",
       "      <th>3</th>\n",
       "      <td>0.354699</td>\n",
       "      <td>1.000000</td>\n",
       "      <td>0.032352</td>\n",
       "      <td>0.036313</td>\n",
       "      <td>0.015555</td>\n",
       "      <td>0.035849</td>\n",
       "      <td>0.564293</td>\n",
       "      <td>0.209163</td>\n",
       "      <td>0.022918</td>\n",
       "      <td>0.545050</td>\n",
       "      <td>0.613164</td>\n",
       "      <td>0.077396</td>\n",
       "      <td>0.019459</td>\n",
       "    </tr>\n",
       "    <tr>\n",
       "      <th>4</th>\n",
       "      <td>0.230776</td>\n",
       "      <td>1.000000</td>\n",
       "      <td>0.041330</td>\n",
       "      <td>0.043296</td>\n",
       "      <td>0.015752</td>\n",
       "      <td>0.042427</td>\n",
       "      <td>0.564293</td>\n",
       "      <td>0.209163</td>\n",
       "      <td>0.022918</td>\n",
       "      <td>0.545050</td>\n",
       "      <td>0.613164</td>\n",
       "      <td>0.077396</td>\n",
       "      <td>0.019459</td>\n",
       "    </tr>\n",
       "  </tbody>\n",
       "</table>\n",
       "</div>"
      ],
      "text/plain": [
       "   Median_Income  Median_Age  Tot_Rooms  Tot_Bedrooms  Population  Households  \\\n",
       "0       0.539668    0.784314   0.022331      0.019863    0.008941    0.020556   \n",
       "1       0.538027    0.392157   0.180503      0.171477    0.067210    0.186976   \n",
       "2       0.466028    1.000000   0.037260      0.029330    0.013818    0.028943   \n",
       "3       0.354699    1.000000   0.032352      0.036313    0.015555    0.035849   \n",
       "4       0.230776    1.000000   0.041330      0.043296    0.015752    0.042427   \n",
       "\n",
       "   Latitude  Longitude  Distance_to_coast  Distance_to_LA  \\\n",
       "0  0.567481   0.211155           0.027398        0.546362   \n",
       "1  0.565356   0.212151           0.030283        0.544152   \n",
       "2  0.564293   0.210159           0.024390        0.544477   \n",
       "3  0.564293   0.209163           0.022918        0.545050   \n",
       "4  0.564293   0.209163           0.022918        0.545050   \n",
       "\n",
       "   Distance_to_SanDiego  Distance_to_SanJose  Distance_to_SanFrancisco  \n",
       "0              0.614340             0.079961                  0.023023  \n",
       "1              0.612446             0.077112                  0.022614  \n",
       "2              0.612688             0.076894                  0.020323  \n",
       "3              0.613164             0.077396                  0.019459  \n",
       "4              0.613164             0.077396                  0.019459  "
      ]
     },
     "execution_count": 18,
     "metadata": {},
     "output_type": "execute_result"
    }
   ],
   "source": [
    "Xnorm.loc[:,:] = scaled_values\n",
    "Xnorm.head()"
   ]
  },
  {
   "cell_type": "code",
   "execution_count": 9,
   "id": "23ce3244-b71d-423a-9a51-6e01dc503b33",
   "metadata": {},
   "outputs": [],
   "source": [
    "def regression(X, y):\n",
    "    #Dividimos los datos\n",
    "    X_train, X_test, y_train, y_test = train_test_split(X, y, test_size = 0.3, shuffle=True)\n",
    "    \n",
    "    #Construir el modelo\n",
    "    model = LinearRegression()\n",
    "    model.fit(X_train, y_train)\n",
    "    \n",
    "    #Predicciones\n",
    "    y_pred = model.predict(X_test)\n",
    "    \n",
    "    print(\"RMSE =\", mean_squared_error(y_test, y_pred, squared=False))\n",
    "    print(\"MAE =\", mean_absolute_error(y_test, y_pred))\n",
    "    plt.plot(y_test.index, y_test, 'o')\n",
    "    plt.plot(y_test.index, y_pred, 'o')\n",
    "    return y_test, y_pred"
   ]
  },
  {
   "cell_type": "markdown",
   "id": "3ad44d03-264a-4e4d-8b64-5109a4c4ec44",
   "metadata": {},
   "source": [
    "## Hacer regresión con los datos StandardScaler"
   ]
  },
  {
   "cell_type": "code",
   "execution_count": 10,
   "id": "d65a65a6-9def-4489-80fd-4c2c392e5130",
   "metadata": {},
   "outputs": [
    {
     "name": "stdout",
     "output_type": "stream",
     "text": [
      "RMSE = 68834.79870210506\n",
      "MAE = 50295.87234304882\n"
     ]
    },
    {
     "data": {
      "image/png": "[encoded data removed]",
      "text/plain": [
       "<Figure size 432x288 with 1 Axes>"
      ]
     },
     "metadata": {
      "needs_background": "light"
     },
     "output_type": "display_data"
    }
   ],
   "source": [
    "y_test_sc, y_sc = regression(Xsc, y)"
   ]
  },
  {
   "cell_type": "markdown",
   "id": "cba1eaf4-fc11-49ad-8337-2e6dbb9fb950",
   "metadata": {},
   "source": [
    "## Hacer regresión con los datos MinMaxScaler"
   ]
  },
  {
   "cell_type": "code",
   "execution_count": 11,
   "id": "b71579b4-b7b2-4a94-9f20-99e2cb843832",
   "metadata": {},
   "outputs": [
    {
     "name": "stdout",
     "output_type": "stream",
     "text": [
      "RMSE = 68817.56323469666\n",
      "MAE = 50116.94099833763\n"
     ]
    },
    {
     "data": {
      "image/png": "[encoded data removed]",
      "text/plain": [
       "<Figure size 432x288 with 1 Axes>"
      ]
     },
     "metadata": {
      "needs_background": "light"
     },
     "output_type": "display_data"
    }
   ],
   "source": [
    "y_test_norm, y_norm = regression(Xnorm, y)"
   ]
  },
  {
   "cell_type": "markdown",
   "id": "ab02ab3a-2a27-407c-a8b5-9b19dae2feb8",
   "metadata": {},
   "source": [
    "Al usar MinMaxScaler se tienen mejores resultados que al usar StandardScaler. "
   ]
  },
  {
   "cell_type": "markdown",
   "id": "a50a1b20-3f34-4bed-addf-422e3ba52c8b",
   "metadata": {},
   "source": [
    "Poner gráfica de barras que compare los errores usando ambos datasets (diferencias entre true y pred)\n",
    "\n",
    "Calculo de valores presente (poner ejercicios adicionales)\n",
    "\n",
    "Buscar los valores actuales para comparar los precios reales con las predicciones"
   ]
  },
  {
   "cell_type": "markdown",
   "id": "4ed6eb5f-2d19-4f84-a604-f5918b076be2",
   "metadata": {},
   "source": [
    "## Comparando ambas predicciones"
   ]
  },
  {
   "cell_type": "code",
   "execution_count": 15,
   "id": "2f3cd6a0-4ef3-40cd-9b27-5e5ce6e3a49a",
   "metadata": {},
   "outputs": [
    {
     "name": "stderr",
     "output_type": "stream",
     "text": [
      "/home/michell21/anaconda3/envs/practicasML/lib/python3.9/site-packages/IPython/core/pylabtools.py:134: UserWarning: Creating legend with loc=\"best\" can be slow with large amounts of data.\n",
      "  fig.canvas.print_figure(bytes_io, **kw)\n"
     ]
    },
    {
     "data": {
      "image/png": "[encoded data removed]",
      "text/plain": [
       "<Figure size 432x288 with 1 Axes>"
      ]
     },
     "metadata": {
      "needs_background": "light"
     },
     "output_type": "display_data"
    }
   ],
   "source": [
    "x_axis = y_test_sc.index\n",
    "#y_axis = y_test_sc\n",
    "plt.bar(x_axis, y_test_sc, width = 10, label = 'Test')\n",
    "plt.bar(x_axis, y_sc, width = 10, label = 'Prediccion SC')\n",
    "plt.bar(x_axis, y_norm, width = 10, label = 'Prediccion Norm')\n",
    "plt.legend()\n",
    "plt.show()"
   ]
  },
  {
   "cell_type": "markdown",
   "id": "e9f299c6-6363-4282-8fb2-17eae410a130",
   "metadata": {},
   "source": [
    "### Ejercicios adicionales"
   ]
  },
  {
   "cell_type": "markdown",
   "id": "ab6c72c2-32e4-41ce-a5ad-87861f8bac72",
   "metadata": {},
   "source": [
    "- Investigar los precios actuales de casas en california y sus caracteristicas. \n",
    "- Usar el modelo de regresión lineal para predecir los precios actuales\n",
    "- Comprobar resultados"
   ]
  },
  {
   "cell_type": "code",
   "execution_count": null,
   "id": "e05bb883-2e90-445d-a955-51e6ce1e13ff",
   "metadata": {},
   "outputs": [],
   "source": []
  }
 ],
 "metadata": {
  "kernelspec": {
   "display_name": "Python 3",
   "language": "python",
   "name": "python3"
  },
  "language_info": {
   "codemirror_mode": {
    "name": "ipython",
    "version": 3
   },
   "file_extension": ".py",
   "mimetype": "text/x-python",
   "name": "python",
   "nbconvert_exporter": "python",
   "pygments_lexer": "ipython3",
   "version": "3.8.8"
  }
 },
 "nbformat": 4,
 "nbformat_minor": 5
}

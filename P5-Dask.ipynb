{
 "cells": [
  {
   "cell_type": "code",
   "execution_count": 1,
   "id": "4d0423ab-df19-460f-b5b5-f758f89d4c95",
   "metadata": {},
   "outputs": [],
   "source": [
    "import os\n",
    "import glob\n",
    "import zipfile\n",
    "import pandas as pd\n",
    "import dask.dataframe as dd"
   ]
  },
  {
   "cell_type": "code",
   "execution_count": 2,
   "id": "11edb616-19b8-423f-9774-51acaf73deb7",
   "metadata": {},
   "outputs": [],
   "source": [
    "Path = \"/home/michell21/Datasets/\""
   ]
  },
  {
   "cell_type": "code",
   "execution_count": 10,
   "id": "2101faeb-64e5-4cb1-8126-cb15bd419ba0",
   "metadata": {},
   "outputs": [],
   "source": [
    "with zipfile.ZipFile(Path+'Datos_ruoa.zip', 'r') as archive:\n",
    "    archive.extractall(Path)"
   ]
  },
  {
   "cell_type": "code",
   "execution_count": 3,
   "id": "67cf2570-2fd0-437c-bc2b-88328de20583",
   "metadata": {},
   "outputs": [],
   "source": [
    "#os.chdir(Path+'Datos_ruoa/')\n",
    "csv_files = glob.glob(Path+'Datos_ruoa/*.csv')\n",
    "csv_files.sort()"
   ]
  },
  {
   "cell_type": "code",
   "execution_count": 4,
   "id": "d0ebeb5c-2f6b-48a7-91d8-b45a54e3247b",
   "metadata": {
    "collapsed": true,
    "jupyter": {
     "outputs_hidden": true
    },
    "tags": []
   },
   "outputs": [
    {
     "name": "stdout",
     "output_type": "stream",
     "text": [
      "['/home/michell21/Datasets/Datos_ruoa/2015-08-more_hora_L1.csv', '/home/michell21/Datasets/Datos_ruoa/2015-09-more_hora_L1.csv', '/home/michell21/Datasets/Datos_ruoa/2015-10-more_hora_L1.csv', '/home/michell21/Datasets/Datos_ruoa/2015-11-more_hora_L1.csv', '/home/michell21/Datasets/Datos_ruoa/2015-12-more_hora_L1.csv', '/home/michell21/Datasets/Datos_ruoa/2016-01-more_hora_L1.csv', '/home/michell21/Datasets/Datos_ruoa/2016-02-more_hora_L1.csv', '/home/michell21/Datasets/Datos_ruoa/2016-03-more_hora_L1.csv', '/home/michell21/Datasets/Datos_ruoa/2016-04-more_hora_L1.csv', '/home/michell21/Datasets/Datos_ruoa/2016-05-more_hora_L1.csv', '/home/michell21/Datasets/Datos_ruoa/2016-06-more_hora_L1.csv', '/home/michell21/Datasets/Datos_ruoa/2016-07-more_hora_L1.csv', '/home/michell21/Datasets/Datos_ruoa/2016-08-more_hora_L1.csv', '/home/michell21/Datasets/Datos_ruoa/2016-09-more_hora_L1.csv', '/home/michell21/Datasets/Datos_ruoa/2016-10-more_hora_L1.csv', '/home/michell21/Datasets/Datos_ruoa/2016-11-more_hora_L1.csv', '/home/michell21/Datasets/Datos_ruoa/2016-12-more_hora_L1.csv', '/home/michell21/Datasets/Datos_ruoa/2017-01-more_hora_L1.csv', '/home/michell21/Datasets/Datos_ruoa/2017-02-more_hora_L1.csv', '/home/michell21/Datasets/Datos_ruoa/2017-03-more_hora_L1.csv', '/home/michell21/Datasets/Datos_ruoa/2017-04-more_hora_L1.csv', '/home/michell21/Datasets/Datos_ruoa/2017-05-more_hora_L1.csv', '/home/michell21/Datasets/Datos_ruoa/2017-06-more_hora_L1.csv', '/home/michell21/Datasets/Datos_ruoa/2017-07-more_hora_L1.csv', '/home/michell21/Datasets/Datos_ruoa/2017-08-more_hora_L1.csv', '/home/michell21/Datasets/Datos_ruoa/2017-09-more_hora_L1.csv', '/home/michell21/Datasets/Datos_ruoa/2017-10-more_hora_L1.csv', '/home/michell21/Datasets/Datos_ruoa/2017-11-more_hora_L1.csv', '/home/michell21/Datasets/Datos_ruoa/2017-12-more_hora_L1.csv', '/home/michell21/Datasets/Datos_ruoa/2018-01-more_hora_L1.csv', '/home/michell21/Datasets/Datos_ruoa/2018-02-more_hora_L1.csv', '/home/michell21/Datasets/Datos_ruoa/2018-03-more_hora_L1.csv', '/home/michell21/Datasets/Datos_ruoa/2018-04-more_hora_L1.csv', '/home/michell21/Datasets/Datos_ruoa/2018-05-more_hora_L1.csv', '/home/michell21/Datasets/Datos_ruoa/2018-06-more_hora_L1.csv', '/home/michell21/Datasets/Datos_ruoa/2018-07-more_hora_L1.csv', '/home/michell21/Datasets/Datos_ruoa/2018-08-more_hora_L1.csv', '/home/michell21/Datasets/Datos_ruoa/2018-09-more_hora_L1.csv', '/home/michell21/Datasets/Datos_ruoa/2018-10-more_hora_L1.csv', '/home/michell21/Datasets/Datos_ruoa/2018-11-more_hora_L1.csv', '/home/michell21/Datasets/Datos_ruoa/2018-12-more_hora_L1.csv', '/home/michell21/Datasets/Datos_ruoa/2019-01-more_hora_L1.csv', '/home/michell21/Datasets/Datos_ruoa/2019-02-more_hora_L1.csv', '/home/michell21/Datasets/Datos_ruoa/2019-03-more_hora_L1.csv', '/home/michell21/Datasets/Datos_ruoa/2019-04-more_hora_L1.csv', '/home/michell21/Datasets/Datos_ruoa/2019-05-more_hora_L1.csv', '/home/michell21/Datasets/Datos_ruoa/2019-06-more_hora_L1.csv', '/home/michell21/Datasets/Datos_ruoa/2019-07-more_hora_L1.csv', '/home/michell21/Datasets/Datos_ruoa/2019-08-more_hora_L1.csv', '/home/michell21/Datasets/Datos_ruoa/2019-09-more_hora_L1.csv', '/home/michell21/Datasets/Datos_ruoa/2019-10-more_hora_L1.csv', '/home/michell21/Datasets/Datos_ruoa/2019-11-more_hora_L1.csv', '/home/michell21/Datasets/Datos_ruoa/2019-12-more_hora_L1.csv', '/home/michell21/Datasets/Datos_ruoa/2020-01-more_hora_L1.csv', '/home/michell21/Datasets/Datos_ruoa/2020-02-more_hora_L1.csv', '/home/michell21/Datasets/Datos_ruoa/2020-03-more_hora_L1.csv', '/home/michell21/Datasets/Datos_ruoa/2020-04-more_hora_L1.csv', '/home/michell21/Datasets/Datos_ruoa/2020-05-more_hora_L1.csv', '/home/michell21/Datasets/Datos_ruoa/2020-06-more_hora_L1.csv', '/home/michell21/Datasets/Datos_ruoa/2020-07-more_hora_L1.csv', '/home/michell21/Datasets/Datos_ruoa/2020-08-more_hora_L1.csv', '/home/michell21/Datasets/Datos_ruoa/2020-09-more_hora_L1.csv', '/home/michell21/Datasets/Datos_ruoa/2020-10-more_hora_L1.csv', '/home/michell21/Datasets/Datos_ruoa/2020-11-more_hora_L1.csv', '/home/michell21/Datasets/Datos_ruoa/2020-12-more_hora_L1.csv', '/home/michell21/Datasets/Datos_ruoa/2021-01-more_hora_L1.csv', '/home/michell21/Datasets/Datos_ruoa/2021-02-more_hora_L1.csv', '/home/michell21/Datasets/Datos_ruoa/2021-03-more_hora_L1.csv', '/home/michell21/Datasets/Datos_ruoa/2021-04-more_hora_L1.csv', '/home/michell21/Datasets/Datos_ruoa/2021-05-more_hora_L1.csv', '/home/michell21/Datasets/Datos_ruoa/2021-06-more_hora_L1.csv']\n"
     ]
    }
   ],
   "source": [
    "print(csv_files)"
   ]
  },
  {
   "cell_type": "code",
   "execution_count": 4,
   "id": "244c21f6-f6fb-4688-b670-d8c7f1db7e44",
   "metadata": {},
   "outputs": [],
   "source": [
    "# Prueba con pandas\n",
    "list_data = []\n",
    "\n",
    "for filename in csv_files:\n",
    "    data = pd.read_csv(filename, skiprows=5)\n",
    "    data.drop(0,axis=0, inplace=True)\n",
    "    list_data.append(data)\n",
    "\n",
    "df = pd.concat(list_data,ignore_index=True)\n",
    "df.to_csv(Path+\"Data_complete.csv\")"
   ]
  },
  {
   "cell_type": "code",
   "execution_count": 5,
   "id": "4bd34945-39bf-48fd-ad77-dbd636ea5526",
   "metadata": {},
   "outputs": [
    {
     "name": "stdout",
     "output_type": "stream",
     "text": [
      "CPU times: user 97.1 ms, sys: 8.1 ms, total: 105 ms\n",
      "Wall time: 104 ms\n"
     ]
    }
   ],
   "source": [
    "%time df_pandas = pd.read_csv(Path+\"Data_complete.csv\")"
   ]
  },
  {
   "cell_type": "code",
   "execution_count": 6,
   "id": "d048a135-8722-4280-a251-8dd474e53359",
   "metadata": {},
   "outputs": [
    {
     "data": {
      "text/html": [
       "<div>\n",
       "<style scoped>\n",
       "    .dataframe tbody tr th:only-of-type {\n",
       "        vertical-align: middle;\n",
       "    }\n",
       "\n",
       "    .dataframe tbody tr th {\n",
       "        vertical-align: top;\n",
       "    }\n",
       "\n",
       "    .dataframe thead th {\n",
       "        text-align: right;\n",
       "    }\n",
       "</style>\n",
       "<table border=\"1\" class=\"dataframe\">\n",
       "  <thead>\n",
       "    <tr style=\"text-align: right;\">\n",
       "      <th></th>\n",
       "      <th>Unnamed: 0</th>\n",
       "      <th>TIMESTAMP</th>\n",
       "      <th>Temp_Avg</th>\n",
       "      <th>RH_Avg</th>\n",
       "      <th>WSpeed_Avg</th>\n",
       "      <th>WSpeed_Max</th>\n",
       "      <th>WDir_Avg</th>\n",
       "      <th>Rain_Tot</th>\n",
       "      <th>Press_Avg</th>\n",
       "      <th>Rad_Avg</th>\n",
       "    </tr>\n",
       "  </thead>\n",
       "  <tbody>\n",
       "    <tr>\n",
       "      <th>0</th>\n",
       "      <td>0</td>\n",
       "      <td>2015-08-01 00:00:00</td>\n",
       "      <td>NaN</td>\n",
       "      <td>NaN</td>\n",
       "      <td>NaN</td>\n",
       "      <td>NaN</td>\n",
       "      <td>NaN</td>\n",
       "      <td>NaN</td>\n",
       "      <td>NaN</td>\n",
       "      <td>NaN</td>\n",
       "    </tr>\n",
       "    <tr>\n",
       "      <th>1</th>\n",
       "      <td>1</td>\n",
       "      <td>2015-08-01 01:00:00</td>\n",
       "      <td>NaN</td>\n",
       "      <td>NaN</td>\n",
       "      <td>NaN</td>\n",
       "      <td>NaN</td>\n",
       "      <td>NaN</td>\n",
       "      <td>NaN</td>\n",
       "      <td>NaN</td>\n",
       "      <td>NaN</td>\n",
       "    </tr>\n",
       "    <tr>\n",
       "      <th>2</th>\n",
       "      <td>2</td>\n",
       "      <td>2015-08-01 02:00:00</td>\n",
       "      <td>NaN</td>\n",
       "      <td>NaN</td>\n",
       "      <td>NaN</td>\n",
       "      <td>NaN</td>\n",
       "      <td>NaN</td>\n",
       "      <td>NaN</td>\n",
       "      <td>NaN</td>\n",
       "      <td>NaN</td>\n",
       "    </tr>\n",
       "    <tr>\n",
       "      <th>3</th>\n",
       "      <td>3</td>\n",
       "      <td>2015-08-01 03:00:00</td>\n",
       "      <td>NaN</td>\n",
       "      <td>NaN</td>\n",
       "      <td>NaN</td>\n",
       "      <td>NaN</td>\n",
       "      <td>NaN</td>\n",
       "      <td>NaN</td>\n",
       "      <td>NaN</td>\n",
       "      <td>NaN</td>\n",
       "    </tr>\n",
       "    <tr>\n",
       "      <th>4</th>\n",
       "      <td>4</td>\n",
       "      <td>2015-08-01 04:00:00</td>\n",
       "      <td>NaN</td>\n",
       "      <td>NaN</td>\n",
       "      <td>NaN</td>\n",
       "      <td>NaN</td>\n",
       "      <td>NaN</td>\n",
       "      <td>NaN</td>\n",
       "      <td>NaN</td>\n",
       "      <td>NaN</td>\n",
       "    </tr>\n",
       "  </tbody>\n",
       "</table>\n",
       "</div>"
      ],
      "text/plain": [
       "   Unnamed: 0            TIMESTAMP  Temp_Avg  RH_Avg  WSpeed_Avg  WSpeed_Max  \\\n",
       "0           0  2015-08-01 00:00:00       NaN     NaN         NaN         NaN   \n",
       "1           1  2015-08-01 01:00:00       NaN     NaN         NaN         NaN   \n",
       "2           2  2015-08-01 02:00:00       NaN     NaN         NaN         NaN   \n",
       "3           3  2015-08-01 03:00:00       NaN     NaN         NaN         NaN   \n",
       "4           4  2015-08-01 04:00:00       NaN     NaN         NaN         NaN   \n",
       "\n",
       "   WDir_Avg  Rain_Tot  Press_Avg  Rad_Avg  \n",
       "0       NaN       NaN        NaN      NaN  \n",
       "1       NaN       NaN        NaN      NaN  \n",
       "2       NaN       NaN        NaN      NaN  \n",
       "3       NaN       NaN        NaN      NaN  \n",
       "4       NaN       NaN        NaN      NaN  "
      ]
     },
     "execution_count": 6,
     "metadata": {},
     "output_type": "execute_result"
    }
   ],
   "source": [
    "df_pandas.head()"
   ]
  },
  {
   "cell_type": "code",
   "execution_count": 7,
   "id": "6e67d996-bfb2-410c-b19d-5cb0b2a05a3a",
   "metadata": {},
   "outputs": [
    {
     "name": "stdout",
     "output_type": "stream",
     "text": [
      "CPU times: user 9.91 ms, sys: 7.84 ms, total: 17.8 ms\n",
      "Wall time: 16.3 ms\n"
     ]
    }
   ],
   "source": [
    "# Prueba con dask\n",
    "\n",
    "%time df_dask = dd.read_csv(Path+'Data_complete.csv')"
   ]
  },
  {
   "cell_type": "code",
   "execution_count": 8,
   "id": "2c09aaf7-594d-4d20-a659-c14f1c0bea93",
   "metadata": {},
   "outputs": [
    {
     "data": {
      "text/html": [
       "<div>\n",
       "<style scoped>\n",
       "    .dataframe tbody tr th:only-of-type {\n",
       "        vertical-align: middle;\n",
       "    }\n",
       "\n",
       "    .dataframe tbody tr th {\n",
       "        vertical-align: top;\n",
       "    }\n",
       "\n",
       "    .dataframe thead th {\n",
       "        text-align: right;\n",
       "    }\n",
       "</style>\n",
       "<table border=\"1\" class=\"dataframe\">\n",
       "  <thead>\n",
       "    <tr style=\"text-align: right;\">\n",
       "      <th></th>\n",
       "      <th>Unnamed: 0</th>\n",
       "      <th>TIMESTAMP</th>\n",
       "      <th>Temp_Avg</th>\n",
       "      <th>RH_Avg</th>\n",
       "      <th>WSpeed_Avg</th>\n",
       "      <th>WSpeed_Max</th>\n",
       "      <th>WDir_Avg</th>\n",
       "      <th>Rain_Tot</th>\n",
       "      <th>Press_Avg</th>\n",
       "      <th>Rad_Avg</th>\n",
       "    </tr>\n",
       "  </thead>\n",
       "  <tbody>\n",
       "    <tr>\n",
       "      <th>0</th>\n",
       "      <td>0</td>\n",
       "      <td>2015-08-01 00:00:00</td>\n",
       "      <td>NaN</td>\n",
       "      <td>NaN</td>\n",
       "      <td>NaN</td>\n",
       "      <td>NaN</td>\n",
       "      <td>NaN</td>\n",
       "      <td>NaN</td>\n",
       "      <td>NaN</td>\n",
       "      <td>NaN</td>\n",
       "    </tr>\n",
       "    <tr>\n",
       "      <th>1</th>\n",
       "      <td>1</td>\n",
       "      <td>2015-08-01 01:00:00</td>\n",
       "      <td>NaN</td>\n",
       "      <td>NaN</td>\n",
       "      <td>NaN</td>\n",
       "      <td>NaN</td>\n",
       "      <td>NaN</td>\n",
       "      <td>NaN</td>\n",
       "      <td>NaN</td>\n",
       "      <td>NaN</td>\n",
       "    </tr>\n",
       "    <tr>\n",
       "      <th>2</th>\n",
       "      <td>2</td>\n",
       "      <td>2015-08-01 02:00:00</td>\n",
       "      <td>NaN</td>\n",
       "      <td>NaN</td>\n",
       "      <td>NaN</td>\n",
       "      <td>NaN</td>\n",
       "      <td>NaN</td>\n",
       "      <td>NaN</td>\n",
       "      <td>NaN</td>\n",
       "      <td>NaN</td>\n",
       "    </tr>\n",
       "    <tr>\n",
       "      <th>3</th>\n",
       "      <td>3</td>\n",
       "      <td>2015-08-01 03:00:00</td>\n",
       "      <td>NaN</td>\n",
       "      <td>NaN</td>\n",
       "      <td>NaN</td>\n",
       "      <td>NaN</td>\n",
       "      <td>NaN</td>\n",
       "      <td>NaN</td>\n",
       "      <td>NaN</td>\n",
       "      <td>NaN</td>\n",
       "    </tr>\n",
       "    <tr>\n",
       "      <th>4</th>\n",
       "      <td>4</td>\n",
       "      <td>2015-08-01 04:00:00</td>\n",
       "      <td>NaN</td>\n",
       "      <td>NaN</td>\n",
       "      <td>NaN</td>\n",
       "      <td>NaN</td>\n",
       "      <td>NaN</td>\n",
       "      <td>NaN</td>\n",
       "      <td>NaN</td>\n",
       "      <td>NaN</td>\n",
       "    </tr>\n",
       "  </tbody>\n",
       "</table>\n",
       "</div>"
      ],
      "text/plain": [
       "   Unnamed: 0            TIMESTAMP  Temp_Avg  RH_Avg  WSpeed_Avg  WSpeed_Max  \\\n",
       "0           0  2015-08-01 00:00:00       NaN     NaN         NaN         NaN   \n",
       "1           1  2015-08-01 01:00:00       NaN     NaN         NaN         NaN   \n",
       "2           2  2015-08-01 02:00:00       NaN     NaN         NaN         NaN   \n",
       "3           3  2015-08-01 03:00:00       NaN     NaN         NaN         NaN   \n",
       "4           4  2015-08-01 04:00:00       NaN     NaN         NaN         NaN   \n",
       "\n",
       "   WDir_Avg  Rain_Tot  Press_Avg  Rad_Avg  \n",
       "0       NaN       NaN        NaN      NaN  \n",
       "1       NaN       NaN        NaN      NaN  \n",
       "2       NaN       NaN        NaN      NaN  \n",
       "3       NaN       NaN        NaN      NaN  \n",
       "4       NaN       NaN        NaN      NaN  "
      ]
     },
     "execution_count": 8,
     "metadata": {},
     "output_type": "execute_result"
    }
   ],
   "source": [
    "df_dask.head()"
   ]
  },
  {
   "cell_type": "code",
   "execution_count": null,
   "id": "44b9ddcf-ce0f-44d6-853a-77d9de7ff610",
   "metadata": {},
   "outputs": [],
   "source": []
  }
 ],
 "metadata": {
  "kernelspec": {
   "display_name": "Python 3",
   "language": "python",
   "name": "python3"
  },
  "language_info": {
   "codemirror_mode": {
    "name": "ipython",
    "version": 3
   },
   "file_extension": ".py",
   "mimetype": "text/x-python",
   "name": "python",
   "nbconvert_exporter": "python",
   "pygments_lexer": "ipython3",
   "version": "3.9.5"
  }
 },
 "nbformat": 4,
 "nbformat_minor": 5
}

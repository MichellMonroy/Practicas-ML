{
 "cells": [
  {
   "cell_type": "markdown",
   "metadata": {},
   "source": [
    "# k-vecinos más cercanos"
   ]
  },
  {
   "cell_type": "code",
   "execution_count": 1,
   "metadata": {},
   "outputs": [],
   "source": [
    "import os\n",
    "import path\n",
    "import zipfile\n",
    "#import numpy as np\n",
    "import pandas as pd\n",
    "from sklearn.model_selection import train_test_split\n",
    "from sklearn.preprocessing import LabelEncoder\n",
    "from sklearn.preprocessing import MinMaxScaler\n",
    "from sklearn.neighbors import KNeighborsClassifier\n",
    "from sklearn.metrics import plot_confusion_matrix, precision_score, classification_report\n",
    "import matplotlib.pyplot as plt\n",
    "import seaborn as sns"
   ]
  },
  {
   "cell_type": "code",
   "execution_count": 2,
   "metadata": {},
   "outputs": [],
   "source": [
    "Path = \"/home/michell21/Datasets/\" #Puede cambiar de acuerdo al usuario"
   ]
  },
  {
   "cell_type": "markdown",
   "metadata": {},
   "source": [
    "Instalar las siguientes librerías para leer el archivo\n",
    "\n",
    "- conda install xlrd\n",
    "- conda install openpyxl"
   ]
  },
  {
   "cell_type": "code",
   "execution_count": 3,
   "metadata": {},
   "outputs": [],
   "source": [
    "read = pd.read_excel(Path+'Pozos_Michoacan.xlsx')"
   ]
  },
  {
   "cell_type": "code",
   "execution_count": 4,
   "metadata": {},
   "outputs": [],
   "source": [
    "pozos = pd.DataFrame(pd.read_excel(Path+'Pozos_Michoacan.xlsx'))"
   ]
  },
  {
   "cell_type": "code",
   "execution_count": 5,
   "metadata": {},
   "outputs": [
    {
     "data": {
      "text/html": [
       "<div>\n",
       "<style scoped>\n",
       "    .dataframe tbody tr th:only-of-type {\n",
       "        vertical-align: middle;\n",
       "    }\n",
       "\n",
       "    .dataframe tbody tr th {\n",
       "        vertical-align: top;\n",
       "    }\n",
       "\n",
       "    .dataframe thead th {\n",
       "        text-align: right;\n",
       "    }\n",
       "</style>\n",
       "<table border=\"1\" class=\"dataframe\">\n",
       "  <thead>\n",
       "    <tr style=\"text-align: right;\">\n",
       "      <th></th>\n",
       "      <th>#</th>\n",
       "      <th>Título</th>\n",
       "      <th>Latitud</th>\n",
       "      <th>Longitud</th>\n",
       "      <th>Estado</th>\n",
       "      <th>Municipio</th>\n",
       "      <th>RegiónHidrológica</th>\n",
       "      <th>Cuenca</th>\n",
       "      <th>AcuíferoHomologado</th>\n",
       "      <th>Volumen (m3/año)</th>\n",
       "      <th>Uso</th>\n",
       "    </tr>\n",
       "  </thead>\n",
       "  <tbody>\n",
       "    <tr>\n",
       "      <th>0</th>\n",
       "      <td>1</td>\n",
       "      <td>837156</td>\n",
       "      <td>19°58'36.0006\"</td>\n",
       "      <td>-101°16'41.0007\"</td>\n",
       "      <td>MICHOACÁN DE OCAMPO</td>\n",
       "      <td>HUANDACAREO</td>\n",
       "      <td>LERMA-SANTIAGO</td>\n",
       "      <td>188</td>\n",
       "      <td>1602  - MORELIA-QUERENDARO</td>\n",
       "      <td>22800.0</td>\n",
       "      <td>AGRICOLA</td>\n",
       "    </tr>\n",
       "    <tr>\n",
       "      <th>1</th>\n",
       "      <td>2</td>\n",
       "      <td>836988</td>\n",
       "      <td>19°59'22.0004\"</td>\n",
       "      <td>-101°16'30.0003\"</td>\n",
       "      <td>MICHOACÁN DE OCAMPO</td>\n",
       "      <td>HUANDACAREO</td>\n",
       "      <td>LERMA-SANTIAGO</td>\n",
       "      <td>188</td>\n",
       "      <td>1602  - MORELIA-QUERENDARO</td>\n",
       "      <td>9000.0</td>\n",
       "      <td>AGRICOLA</td>\n",
       "    </tr>\n",
       "    <tr>\n",
       "      <th>2</th>\n",
       "      <td>3</td>\n",
       "      <td>836992</td>\n",
       "      <td>20°02'22.0006\"</td>\n",
       "      <td>-101°09'00.0005\"</td>\n",
       "      <td>MICHOACÁN DE OCAMPO</td>\n",
       "      <td>CUITZEO</td>\n",
       "      <td>LERMA-SANTIAGO</td>\n",
       "      <td>188</td>\n",
       "      <td>1602  - MORELIA-QUERENDARO</td>\n",
       "      <td>20020.0</td>\n",
       "      <td>AGRICOLA</td>\n",
       "    </tr>\n",
       "    <tr>\n",
       "      <th>3</th>\n",
       "      <td>4</td>\n",
       "      <td>836822</td>\n",
       "      <td>20°01'50.0005\"</td>\n",
       "      <td>-101°09'38.0006\"</td>\n",
       "      <td>MICHOACÁN DE OCAMPO</td>\n",
       "      <td>CUITZEO</td>\n",
       "      <td>LERMA-SANTIAGO</td>\n",
       "      <td>188</td>\n",
       "      <td>1602  - MORELIA-QUERENDARO</td>\n",
       "      <td>6000.0</td>\n",
       "      <td>AGRICOLA</td>\n",
       "    </tr>\n",
       "    <tr>\n",
       "      <th>4</th>\n",
       "      <td>5</td>\n",
       "      <td>835739</td>\n",
       "      <td>19°49'11.0005\"</td>\n",
       "      <td>-101°08'37.0006\"</td>\n",
       "      <td>MICHOACÁN DE OCAMPO</td>\n",
       "      <td>TARÍMBARO</td>\n",
       "      <td>LERMA-SANTIAGO</td>\n",
       "      <td>188</td>\n",
       "      <td>1602  - MORELIA-QUERENDARO</td>\n",
       "      <td>30000.0</td>\n",
       "      <td>SERVICIOS</td>\n",
       "    </tr>\n",
       "  </tbody>\n",
       "</table>\n",
       "</div>"
      ],
      "text/plain": [
       "   #  Título         Latitud          Longitud               Estado  \\\n",
       "0  1  837156  19°58'36.0006\"  -101°16'41.0007\"  MICHOACÁN DE OCAMPO   \n",
       "1  2  836988  19°59'22.0004\"  -101°16'30.0003\"  MICHOACÁN DE OCAMPO   \n",
       "2  3  836992  20°02'22.0006\"  -101°09'00.0005\"  MICHOACÁN DE OCAMPO   \n",
       "3  4  836822  20°01'50.0005\"  -101°09'38.0006\"  MICHOACÁN DE OCAMPO   \n",
       "4  5  835739  19°49'11.0005\"  -101°08'37.0006\"  MICHOACÁN DE OCAMPO   \n",
       "\n",
       "     Municipio RegiónHidrológica  Cuenca          AcuíferoHomologado  \\\n",
       "0  HUANDACAREO    LERMA-SANTIAGO     188  1602  - MORELIA-QUERENDARO   \n",
       "1  HUANDACAREO    LERMA-SANTIAGO     188  1602  - MORELIA-QUERENDARO   \n",
       "2      CUITZEO    LERMA-SANTIAGO     188  1602  - MORELIA-QUERENDARO   \n",
       "3      CUITZEO    LERMA-SANTIAGO     188  1602  - MORELIA-QUERENDARO   \n",
       "4    TARÍMBARO    LERMA-SANTIAGO     188  1602  - MORELIA-QUERENDARO   \n",
       "\n",
       "   Volumen (m3/año)        Uso  \n",
       "0           22800.0   AGRICOLA  \n",
       "1            9000.0   AGRICOLA  \n",
       "2           20020.0   AGRICOLA  \n",
       "3            6000.0   AGRICOLA  \n",
       "4           30000.0  SERVICIOS  "
      ]
     },
     "execution_count": 5,
     "metadata": {},
     "output_type": "execute_result"
    }
   ],
   "source": [
    "pozos.head()"
   ]
  },
  {
   "cell_type": "code",
   "execution_count": 6,
   "metadata": {},
   "outputs": [
    {
     "name": "stdout",
     "output_type": "stream",
     "text": [
      "<class 'pandas.core.frame.DataFrame'>\n",
      "RangeIndex: 1363 entries, 0 to 1362\n",
      "Data columns (total 11 columns):\n",
      " #   Column              Non-Null Count  Dtype  \n",
      "---  ------              --------------  -----  \n",
      " 0   #                   1363 non-null   int64  \n",
      " 1   Título              1363 non-null   object \n",
      " 2   Latitud             1363 non-null   object \n",
      " 3   Longitud            1363 non-null   object \n",
      " 4   Estado              1363 non-null   object \n",
      " 5   Municipio           1363 non-null   object \n",
      " 6   RegiónHidrológica   1363 non-null   object \n",
      " 7   Cuenca              1363 non-null   int64  \n",
      " 8   AcuíferoHomologado  1363 non-null   object \n",
      " 9   Volumen (m3/año)    1363 non-null   float64\n",
      " 10  Uso                 1363 non-null   object \n",
      "dtypes: float64(1), int64(2), object(8)\n",
      "memory usage: 117.3+ KB\n"
     ]
    }
   ],
   "source": [
    "pozos.info()"
   ]
  },
  {
   "cell_type": "markdown",
   "metadata": {},
   "source": [
    "Como no hay registros vacios, se procede a trabajar con los datos. Lo primero será borrar la columna # "
   ]
  },
  {
   "cell_type": "markdown",
   "metadata": {},
   "source": [
    "# Visualización de Datos"
   ]
  },
  {
   "cell_type": "code",
   "execution_count": 73,
   "metadata": {},
   "outputs": [
    {
     "data": {
      "text/plain": [
       "<seaborn.axisgrid.FacetGrid at 0x7fd6d5065df0>"
      ]
     },
     "execution_count": 73,
     "metadata": {},
     "output_type": "execute_result"
    },
    {
     "data": {
      "image/png": "[encoded data removed]",
      "text/plain": [
       "<Figure size 360x360 with 1 Axes>"
      ]
     },
     "metadata": {
      "needs_background": "light"
     },
     "output_type": "display_data"
    }
   ],
   "source": [
    "sns.displot(pozos['Uso'], palette=\"rocket\")"
   ]
  },
  {
   "cell_type": "markdown",
   "metadata": {},
   "source": [
    "# Explorar datos \n",
    "Transformar las coordenadas a tipo float Crear columnas de grados"
   ]
  },
  {
   "cell_type": "code",
   "execution_count": 6,
   "metadata": {
    "tags": []
   },
   "outputs": [
    {
     "data": {
      "text/plain": [
       "array(['MICHOACÁN DE OCAMPO'], dtype=object)"
      ]
     },
     "execution_count": 6,
     "metadata": {},
     "output_type": "execute_result"
    }
   ],
   "source": [
    "pozos['Estado'].unique() #Eliminar"
   ]
  },
  {
   "cell_type": "code",
   "execution_count": 7,
   "metadata": {
    "tags": []
   },
   "outputs": [
    {
     "data": {
      "text/plain": [
       "array(['LERMA-SANTIAGO', 'BALSAS'], dtype=object)"
      ]
     },
     "execution_count": 7,
     "metadata": {},
     "output_type": "execute_result"
    }
   ],
   "source": [
    "pozos['RegiónHidrológica'].unique() "
   ]
  },
  {
   "cell_type": "code",
   "execution_count": 5,
   "metadata": {
    "tags": []
   },
   "outputs": [
    {
     "data": {
      "text/plain": [
       "array(['1602  - MORELIA-QUERENDARO', '1602 - MORELIA-QUERENDARO',\n",
       "       '1610 - CIUDAD HIDALGO-TUXPAN'], dtype=object)"
      ]
     },
     "execution_count": 5,
     "metadata": {},
     "output_type": "execute_result"
    }
   ],
   "source": [
    "pozos['AcuíferoHomologado'].unique() "
   ]
  },
  {
   "cell_type": "code",
   "execution_count": 7,
   "metadata": {
    "tags": []
   },
   "outputs": [
    {
     "data": {
      "text/plain": [
       "array(['1602 - MORELIA-QUERENDARO', '1610 - CIUDAD HIDALGO-TUXPAN'],\n",
       "      dtype=object)"
      ]
     },
     "execution_count": 7,
     "metadata": {},
     "output_type": "execute_result"
    }
   ],
   "source": [
    "pozos['AcuíferoHomologado'].unique() #Eliminar"
   ]
  },
  {
   "cell_type": "code",
   "execution_count": 9,
   "metadata": {
    "tags": []
   },
   "outputs": [],
   "source": [
    "#Unir los registros con AcuíferoHomologado = '1602 - MORELIA-QUERENDARO' y '1602  - MORELIA-QUERENDARO'\n",
    "pozos['AcuíferoHomologado'] = pozos['AcuíferoHomologado'].map({'1602  - MORELIA-QUERENDARO': '1602 - MORELIA-QUERENDARO', \n",
    "                                                              '1610 - CIUDAD HIDALGO-TUXPAN': '1610 - CIUDAD HIDALGO-TUXPAN',\n",
    "                                                              '1602 - MORELIA-QUERENDARO': '1602 - MORELIA-QUERENDARO'},na_action=None)#'1602 - MORELIA-QUERENDARO' #1138+197"
   ]
  },
  {
   "cell_type": "code",
   "execution_count": 6,
   "metadata": {
    "tags": []
   },
   "outputs": [
    {
     "data": {
      "text/plain": [
       "array(['HUANDACAREO', 'CUITZEO', 'TARÍMBARO', 'SANTA ANA MAYA', 'MORELIA',\n",
       "       'CHARO', 'ACUITZIO', 'COPÁNDARO', 'ÁLVARO OBREGÓN', 'INDAPARAPEO',\n",
       "       'MORELOS', 'CHUCÁNDIRO', 'QUERÉNDARO', 'ZINAPÉCUARO', 'LAGUNILLAS',\n",
       "       'ARIO', 'HIDALGO', 'TZINTZUNTZAN', 'HUIRAMBA',\n",
       "       'JOSÉ SIXTO VERDUZCO', 'LA PIEDAD', 'PURUÁNDIRO'], dtype=object)"
      ]
     },
     "execution_count": 6,
     "metadata": {},
     "output_type": "execute_result"
    }
   ],
   "source": [
    "pozos['Municipio'].unique() #Eliminar"
   ]
  },
  {
   "cell_type": "code",
   "execution_count": 10,
   "metadata": {},
   "outputs": [],
   "source": [
    "pozos.drop(['#', 'Estado', \"Título\"], axis = 1, inplace = True) #Eliminamos estos dos ya que no aportan información"
   ]
  },
  {
   "cell_type": "code",
   "execution_count": 11,
   "metadata": {},
   "outputs": [],
   "source": [
    "def grad2float(datos, id1,id2):\n",
    "    characters = '°\\'\"'\n",
    "    lista = []\n",
    "    for i in datos:\n",
    "        i = ''.join( x for x in i if x not in characters)\n",
    "        if i[0] == '-':\n",
    "            a = -1*(3600*float(i[1:id1]) + 60*float(i[id1:id2]) + float(i[id2:])) #Para latitud\n",
    "        else:\n",
    "            a = 3600*float(i[:id1]) + 60*float(i[id1:id2]) + float(i[id2:])\n",
    "        #a = 3600*float(i[:4]) + 60*float(i[4:6]) + float(i[6:]) #Para longitud\n",
    "        lista.append(float(a))\n",
    "    return lista"
   ]
  },
  {
   "cell_type": "code",
   "execution_count": 12,
   "metadata": {},
   "outputs": [],
   "source": [
    "pozos['Latitud'] = grad2float(pozos['Latitud'], 2, 4)\n",
    "pozos['Longitud'] = grad2float(pozos['Longitud'], 4, 6)"
   ]
  },
  {
   "cell_type": "code",
   "execution_count": 13,
   "metadata": {},
   "outputs": [
    {
     "data": {
      "text/html": [
       "<div>\n",
       "<style scoped>\n",
       "    .dataframe tbody tr th:only-of-type {\n",
       "        vertical-align: middle;\n",
       "    }\n",
       "\n",
       "    .dataframe tbody tr th {\n",
       "        vertical-align: top;\n",
       "    }\n",
       "\n",
       "    .dataframe thead th {\n",
       "        text-align: right;\n",
       "    }\n",
       "</style>\n",
       "<table border=\"1\" class=\"dataframe\">\n",
       "  <thead>\n",
       "    <tr style=\"text-align: right;\">\n",
       "      <th></th>\n",
       "      <th>Latitud</th>\n",
       "      <th>Longitud</th>\n",
       "      <th>Municipio</th>\n",
       "      <th>RegiónHidrológica</th>\n",
       "      <th>Cuenca</th>\n",
       "      <th>AcuíferoHomologado</th>\n",
       "      <th>Volumen (m3/año)</th>\n",
       "      <th>Uso</th>\n",
       "    </tr>\n",
       "  </thead>\n",
       "  <tbody>\n",
       "    <tr>\n",
       "      <th>0</th>\n",
       "      <td>71916.0006</td>\n",
       "      <td>-364601.0007</td>\n",
       "      <td>HUANDACAREO</td>\n",
       "      <td>LERMA-SANTIAGO</td>\n",
       "      <td>188</td>\n",
       "      <td>1602 - MORELIA-QUERENDARO</td>\n",
       "      <td>22800.0</td>\n",
       "      <td>AGRICOLA</td>\n",
       "    </tr>\n",
       "    <tr>\n",
       "      <th>1</th>\n",
       "      <td>71962.0004</td>\n",
       "      <td>-364590.0003</td>\n",
       "      <td>HUANDACAREO</td>\n",
       "      <td>LERMA-SANTIAGO</td>\n",
       "      <td>188</td>\n",
       "      <td>1602 - MORELIA-QUERENDARO</td>\n",
       "      <td>9000.0</td>\n",
       "      <td>AGRICOLA</td>\n",
       "    </tr>\n",
       "    <tr>\n",
       "      <th>2</th>\n",
       "      <td>72142.0006</td>\n",
       "      <td>-364140.0005</td>\n",
       "      <td>CUITZEO</td>\n",
       "      <td>LERMA-SANTIAGO</td>\n",
       "      <td>188</td>\n",
       "      <td>1602 - MORELIA-QUERENDARO</td>\n",
       "      <td>20020.0</td>\n",
       "      <td>AGRICOLA</td>\n",
       "    </tr>\n",
       "    <tr>\n",
       "      <th>3</th>\n",
       "      <td>72110.0005</td>\n",
       "      <td>-364178.0006</td>\n",
       "      <td>CUITZEO</td>\n",
       "      <td>LERMA-SANTIAGO</td>\n",
       "      <td>188</td>\n",
       "      <td>1602 - MORELIA-QUERENDARO</td>\n",
       "      <td>6000.0</td>\n",
       "      <td>AGRICOLA</td>\n",
       "    </tr>\n",
       "    <tr>\n",
       "      <th>4</th>\n",
       "      <td>71351.0005</td>\n",
       "      <td>-364117.0006</td>\n",
       "      <td>TARÍMBARO</td>\n",
       "      <td>LERMA-SANTIAGO</td>\n",
       "      <td>188</td>\n",
       "      <td>1602 - MORELIA-QUERENDARO</td>\n",
       "      <td>30000.0</td>\n",
       "      <td>SERVICIOS</td>\n",
       "    </tr>\n",
       "  </tbody>\n",
       "</table>\n",
       "</div>"
      ],
      "text/plain": [
       "      Latitud     Longitud    Municipio RegiónHidrológica  Cuenca  \\\n",
       "0  71916.0006 -364601.0007  HUANDACAREO    LERMA-SANTIAGO     188   \n",
       "1  71962.0004 -364590.0003  HUANDACAREO    LERMA-SANTIAGO     188   \n",
       "2  72142.0006 -364140.0005      CUITZEO    LERMA-SANTIAGO     188   \n",
       "3  72110.0005 -364178.0006      CUITZEO    LERMA-SANTIAGO     188   \n",
       "4  71351.0005 -364117.0006    TARÍMBARO    LERMA-SANTIAGO     188   \n",
       "\n",
       "          AcuíferoHomologado  Volumen (m3/año)        Uso  \n",
       "0  1602 - MORELIA-QUERENDARO           22800.0   AGRICOLA  \n",
       "1  1602 - MORELIA-QUERENDARO            9000.0   AGRICOLA  \n",
       "2  1602 - MORELIA-QUERENDARO           20020.0   AGRICOLA  \n",
       "3  1602 - MORELIA-QUERENDARO            6000.0   AGRICOLA  \n",
       "4  1602 - MORELIA-QUERENDARO           30000.0  SERVICIOS  "
      ]
     },
     "execution_count": 13,
     "metadata": {},
     "output_type": "execute_result"
    }
   ],
   "source": [
    "pozos.head()"
   ]
  },
  {
   "cell_type": "code",
   "execution_count": 45,
   "metadata": {},
   "outputs": [
    {
     "data": {
      "text/plain": [
       "array(['AGRICOLA', 'SERVICIOS', 'INDUSTRIAL', 'PUBLICO URBANO',\n",
       "       'DIFERENTES USOS', 'PECUARIO', 'DOMESTICO', 'ACUACULTURA',\n",
       "       'AGROINDUSTIAL'], dtype=object)"
      ]
     },
     "execution_count": 45,
     "metadata": {},
     "output_type": "execute_result"
    }
   ],
   "source": [
    "pozos['Uso'].unique()"
   ]
  },
  {
   "cell_type": "markdown",
   "metadata": {},
   "source": [
    "# Dividir los datos en $X$ y $y$"
   ]
  },
  {
   "cell_type": "code",
   "execution_count": 14,
   "metadata": {},
   "outputs": [],
   "source": [
    "X = pozos.iloc[:,:-1]\n",
    "y = pozos['Uso']"
   ]
  },
  {
   "cell_type": "code",
   "execution_count": 15,
   "metadata": {},
   "outputs": [
    {
     "data": {
      "text/html": [
       "<div>\n",
       "<style scoped>\n",
       "    .dataframe tbody tr th:only-of-type {\n",
       "        vertical-align: middle;\n",
       "    }\n",
       "\n",
       "    .dataframe tbody tr th {\n",
       "        vertical-align: top;\n",
       "    }\n",
       "\n",
       "    .dataframe thead th {\n",
       "        text-align: right;\n",
       "    }\n",
       "</style>\n",
       "<table border=\"1\" class=\"dataframe\">\n",
       "  <thead>\n",
       "    <tr style=\"text-align: right;\">\n",
       "      <th></th>\n",
       "      <th>Latitud</th>\n",
       "      <th>Longitud</th>\n",
       "      <th>Municipio</th>\n",
       "      <th>RegiónHidrológica</th>\n",
       "      <th>Cuenca</th>\n",
       "      <th>AcuíferoHomologado</th>\n",
       "      <th>Volumen (m3/año)</th>\n",
       "    </tr>\n",
       "  </thead>\n",
       "  <tbody>\n",
       "    <tr>\n",
       "      <th>0</th>\n",
       "      <td>71916.0006</td>\n",
       "      <td>-364601.0007</td>\n",
       "      <td>HUANDACAREO</td>\n",
       "      <td>LERMA-SANTIAGO</td>\n",
       "      <td>188</td>\n",
       "      <td>1602 - MORELIA-QUERENDARO</td>\n",
       "      <td>22800.0</td>\n",
       "    </tr>\n",
       "    <tr>\n",
       "      <th>1</th>\n",
       "      <td>71962.0004</td>\n",
       "      <td>-364590.0003</td>\n",
       "      <td>HUANDACAREO</td>\n",
       "      <td>LERMA-SANTIAGO</td>\n",
       "      <td>188</td>\n",
       "      <td>1602 - MORELIA-QUERENDARO</td>\n",
       "      <td>9000.0</td>\n",
       "    </tr>\n",
       "    <tr>\n",
       "      <th>2</th>\n",
       "      <td>72142.0006</td>\n",
       "      <td>-364140.0005</td>\n",
       "      <td>CUITZEO</td>\n",
       "      <td>LERMA-SANTIAGO</td>\n",
       "      <td>188</td>\n",
       "      <td>1602 - MORELIA-QUERENDARO</td>\n",
       "      <td>20020.0</td>\n",
       "    </tr>\n",
       "    <tr>\n",
       "      <th>3</th>\n",
       "      <td>72110.0005</td>\n",
       "      <td>-364178.0006</td>\n",
       "      <td>CUITZEO</td>\n",
       "      <td>LERMA-SANTIAGO</td>\n",
       "      <td>188</td>\n",
       "      <td>1602 - MORELIA-QUERENDARO</td>\n",
       "      <td>6000.0</td>\n",
       "    </tr>\n",
       "    <tr>\n",
       "      <th>4</th>\n",
       "      <td>71351.0005</td>\n",
       "      <td>-364117.0006</td>\n",
       "      <td>TARÍMBARO</td>\n",
       "      <td>LERMA-SANTIAGO</td>\n",
       "      <td>188</td>\n",
       "      <td>1602 - MORELIA-QUERENDARO</td>\n",
       "      <td>30000.0</td>\n",
       "    </tr>\n",
       "  </tbody>\n",
       "</table>\n",
       "</div>"
      ],
      "text/plain": [
       "      Latitud     Longitud    Municipio RegiónHidrológica  Cuenca  \\\n",
       "0  71916.0006 -364601.0007  HUANDACAREO    LERMA-SANTIAGO     188   \n",
       "1  71962.0004 -364590.0003  HUANDACAREO    LERMA-SANTIAGO     188   \n",
       "2  72142.0006 -364140.0005      CUITZEO    LERMA-SANTIAGO     188   \n",
       "3  72110.0005 -364178.0006      CUITZEO    LERMA-SANTIAGO     188   \n",
       "4  71351.0005 -364117.0006    TARÍMBARO    LERMA-SANTIAGO     188   \n",
       "\n",
       "          AcuíferoHomologado  Volumen (m3/año)  \n",
       "0  1602 - MORELIA-QUERENDARO           22800.0  \n",
       "1  1602 - MORELIA-QUERENDARO            9000.0  \n",
       "2  1602 - MORELIA-QUERENDARO           20020.0  \n",
       "3  1602 - MORELIA-QUERENDARO            6000.0  \n",
       "4  1602 - MORELIA-QUERENDARO           30000.0  "
      ]
     },
     "execution_count": 15,
     "metadata": {},
     "output_type": "execute_result"
    }
   ],
   "source": [
    "X.head()"
   ]
  },
  {
   "cell_type": "code",
   "execution_count": 16,
   "metadata": {},
   "outputs": [
    {
     "data": {
      "text/plain": [
       "0     AGRICOLA\n",
       "1     AGRICOLA\n",
       "2     AGRICOLA\n",
       "3     AGRICOLA\n",
       "4    SERVICIOS\n",
       "Name: Uso, dtype: object"
      ]
     },
     "execution_count": 16,
     "metadata": {},
     "output_type": "execute_result"
    }
   ],
   "source": [
    "y.head()"
   ]
  },
  {
   "cell_type": "markdown",
   "metadata": {},
   "source": [
    "## Codificar los datos categoricos y Escalar los datos numericos en X"
   ]
  },
  {
   "cell_type": "code",
   "execution_count": 11,
   "metadata": {},
   "outputs": [
    {
     "data": {
      "text/html": [
       "<div>\n",
       "<style scoped>\n",
       "    .dataframe tbody tr th:only-of-type {\n",
       "        vertical-align: middle;\n",
       "    }\n",
       "\n",
       "    .dataframe tbody tr th {\n",
       "        vertical-align: top;\n",
       "    }\n",
       "\n",
       "    .dataframe thead th {\n",
       "        text-align: right;\n",
       "    }\n",
       "</style>\n",
       "<table border=\"1\" class=\"dataframe\">\n",
       "  <thead>\n",
       "    <tr style=\"text-align: right;\">\n",
       "      <th></th>\n",
       "      <th>Latitud</th>\n",
       "      <th>Longitud</th>\n",
       "      <th>Cuenca</th>\n",
       "      <th>Volumen (m3/año)</th>\n",
       "    </tr>\n",
       "  </thead>\n",
       "  <tbody>\n",
       "    <tr>\n",
       "      <th>count</th>\n",
       "      <td>1363.000000</td>\n",
       "      <td>1363.000000</td>\n",
       "      <td>1363.000000</td>\n",
       "      <td>1.363000e+03</td>\n",
       "    </tr>\n",
       "    <tr>\n",
       "      <th>mean</th>\n",
       "      <td>71490.946855</td>\n",
       "      <td>-364096.132121</td>\n",
       "      <td>28.546588</td>\n",
       "      <td>1.558366e+05</td>\n",
       "    </tr>\n",
       "    <tr>\n",
       "      <th>std</th>\n",
       "      <td>645.397221</td>\n",
       "      <td>721.149748</td>\n",
       "      <td>67.485278</td>\n",
       "      <td>3.884465e+05</td>\n",
       "    </tr>\n",
       "    <tr>\n",
       "      <th>min</th>\n",
       "      <td>68005.000000</td>\n",
       "      <td>-371361.000000</td>\n",
       "      <td>0.000000</td>\n",
       "      <td>0.000000e+00</td>\n",
       "    </tr>\n",
       "    <tr>\n",
       "      <th>25%</th>\n",
       "      <td>71118.004800</td>\n",
       "      <td>-364411.500000</td>\n",
       "      <td>0.000000</td>\n",
       "      <td>1.500000e+04</td>\n",
       "    </tr>\n",
       "    <tr>\n",
       "      <th>50%</th>\n",
       "      <td>71468.000000</td>\n",
       "      <td>-364145.000000</td>\n",
       "      <td>0.000000</td>\n",
       "      <td>4.668000e+04</td>\n",
       "    </tr>\n",
       "    <tr>\n",
       "      <th>75%</th>\n",
       "      <td>71938.250000</td>\n",
       "      <td>-363778.000000</td>\n",
       "      <td>0.000000</td>\n",
       "      <td>1.621800e+05</td>\n",
       "    </tr>\n",
       "    <tr>\n",
       "      <th>max</th>\n",
       "      <td>79260.000000</td>\n",
       "      <td>-362170.000000</td>\n",
       "      <td>188.000000</td>\n",
       "      <td>1.103760e+07</td>\n",
       "    </tr>\n",
       "  </tbody>\n",
       "</table>\n",
       "</div>"
      ],
      "text/plain": [
       "            Latitud       Longitud       Cuenca  Volumen (m3/año)\n",
       "count   1363.000000    1363.000000  1363.000000      1.363000e+03\n",
       "mean   71490.946855 -364096.132121    28.546588      1.558366e+05\n",
       "std      645.397221     721.149748    67.485278      3.884465e+05\n",
       "min    68005.000000 -371361.000000     0.000000      0.000000e+00\n",
       "25%    71118.004800 -364411.500000     0.000000      1.500000e+04\n",
       "50%    71468.000000 -364145.000000     0.000000      4.668000e+04\n",
       "75%    71938.250000 -363778.000000     0.000000      1.621800e+05\n",
       "max    79260.000000 -362170.000000   188.000000      1.103760e+07"
      ]
     },
     "execution_count": 11,
     "metadata": {},
     "output_type": "execute_result"
    }
   ],
   "source": [
    "pozos.describe() #Las demás columnas son columnas categoricas, eso significa que se deben codificar."
   ]
  },
  {
   "cell_type": "code",
   "execution_count": 16,
   "metadata": {},
   "outputs": [],
   "source": [
    "def codificar(data):\n",
    "    cat = []\n",
    "    num = []\n",
    "    for i in data.columns:\n",
    "        if data[i].dtypes == 'object':\n",
    "            cat.append(i)\n",
    "        elif data[i].dtypes == 'float64' or 'int64':\n",
    "            num.append(i)\n",
    "    scaler = MinMaxScaler() \n",
    "    scaled_values = scaler.fit_transform(data[num])\n",
    "    data[num] = scaled_values\n",
    "    code = LabelEncoder()\n",
    "    data[cat] = data[cat].apply(code.fit_transform)\n",
    "    print('num', num)\n",
    "    print('cat',cat)\n",
    "    return data"
   ]
  },
  {
   "cell_type": "code",
   "execution_count": 17,
   "metadata": {},
   "outputs": [
    {
     "name": "stdout",
     "output_type": "stream",
     "text": [
      "num ['Latitud', 'Longitud', 'Cuenca', 'Volumen (m3/año)']\n",
      "cat ['Municipio', 'RegiónHidrológica', 'AcuíferoHomologado']\n"
     ]
    }
   ],
   "source": [
    "x_cod = X.copy()\n",
    "X_cod = codificar(X)"
   ]
  },
  {
   "cell_type": "code",
   "execution_count": 18,
   "metadata": {},
   "outputs": [
    {
     "data": {
      "text/html": [
       "<div>\n",
       "<style scoped>\n",
       "    .dataframe tbody tr th:only-of-type {\n",
       "        vertical-align: middle;\n",
       "    }\n",
       "\n",
       "    .dataframe tbody tr th {\n",
       "        vertical-align: top;\n",
       "    }\n",
       "\n",
       "    .dataframe thead th {\n",
       "        text-align: right;\n",
       "    }\n",
       "</style>\n",
       "<table border=\"1\" class=\"dataframe\">\n",
       "  <thead>\n",
       "    <tr style=\"text-align: right;\">\n",
       "      <th></th>\n",
       "      <th>Latitud</th>\n",
       "      <th>Longitud</th>\n",
       "      <th>Municipio</th>\n",
       "      <th>RegiónHidrológica</th>\n",
       "      <th>Cuenca</th>\n",
       "      <th>AcuíferoHomologado</th>\n",
       "      <th>Volumen (m3/año)</th>\n",
       "    </tr>\n",
       "  </thead>\n",
       "  <tbody>\n",
       "    <tr>\n",
       "      <th>0</th>\n",
       "      <td>0.347490</td>\n",
       "      <td>0.735502</td>\n",
       "      <td>7</td>\n",
       "      <td>1</td>\n",
       "      <td>1.0</td>\n",
       "      <td>0</td>\n",
       "      <td>0.002066</td>\n",
       "    </tr>\n",
       "    <tr>\n",
       "      <th>1</th>\n",
       "      <td>0.351577</td>\n",
       "      <td>0.736699</td>\n",
       "      <td>7</td>\n",
       "      <td>1</td>\n",
       "      <td>1.0</td>\n",
       "      <td>0</td>\n",
       "      <td>0.000815</td>\n",
       "    </tr>\n",
       "    <tr>\n",
       "      <th>2</th>\n",
       "      <td>0.367570</td>\n",
       "      <td>0.785660</td>\n",
       "      <td>5</td>\n",
       "      <td>1</td>\n",
       "      <td>1.0</td>\n",
       "      <td>0</td>\n",
       "      <td>0.001814</td>\n",
       "    </tr>\n",
       "    <tr>\n",
       "      <th>3</th>\n",
       "      <td>0.364727</td>\n",
       "      <td>0.781525</td>\n",
       "      <td>5</td>\n",
       "      <td>1</td>\n",
       "      <td>1.0</td>\n",
       "      <td>0</td>\n",
       "      <td>0.000544</td>\n",
       "    </tr>\n",
       "    <tr>\n",
       "      <th>4</th>\n",
       "      <td>0.297290</td>\n",
       "      <td>0.788162</td>\n",
       "      <td>18</td>\n",
       "      <td>1</td>\n",
       "      <td>1.0</td>\n",
       "      <td>0</td>\n",
       "      <td>0.002718</td>\n",
       "    </tr>\n",
       "  </tbody>\n",
       "</table>\n",
       "</div>"
      ],
      "text/plain": [
       "    Latitud  Longitud  Municipio  RegiónHidrológica  Cuenca  \\\n",
       "0  0.347490  0.735502          7                  1     1.0   \n",
       "1  0.351577  0.736699          7                  1     1.0   \n",
       "2  0.367570  0.785660          5                  1     1.0   \n",
       "3  0.364727  0.781525          5                  1     1.0   \n",
       "4  0.297290  0.788162         18                  1     1.0   \n",
       "\n",
       "   AcuíferoHomologado  Volumen (m3/año)  \n",
       "0                   0          0.002066  \n",
       "1                   0          0.000815  \n",
       "2                   0          0.001814  \n",
       "3                   0          0.000544  \n",
       "4                   0          0.002718  "
      ]
     },
     "execution_count": 18,
     "metadata": {},
     "output_type": "execute_result"
    }
   ],
   "source": [
    "X_cod.head()"
   ]
  },
  {
   "cell_type": "code",
   "execution_count": 19,
   "metadata": {},
   "outputs": [
    {
     "name": "stdout",
     "output_type": "stream",
     "text": [
      "<class 'pandas.core.frame.DataFrame'>\n",
      "RangeIndex: 1363 entries, 0 to 1362\n",
      "Data columns (total 7 columns):\n",
      " #   Column              Non-Null Count  Dtype  \n",
      "---  ------              --------------  -----  \n",
      " 0   Latitud             1363 non-null   float64\n",
      " 1   Longitud            1363 non-null   float64\n",
      " 2   Municipio           1363 non-null   int64  \n",
      " 3   RegiónHidrológica   1363 non-null   int64  \n",
      " 4   Cuenca              1363 non-null   float64\n",
      " 5   AcuíferoHomologado  1363 non-null   int64  \n",
      " 6   Volumen (m3/año)    1363 non-null   float64\n",
      "dtypes: float64(4), int64(3)\n",
      "memory usage: 74.7 KB\n"
     ]
    }
   ],
   "source": [
    "X_cod.info()"
   ]
  },
  {
   "cell_type": "code",
   "execution_count": 21,
   "metadata": {},
   "outputs": [
    {
     "data": {
      "text/plain": [
       "array([1.        , 0.96276596, 0.        ])"
      ]
     },
     "execution_count": 21,
     "metadata": {},
     "output_type": "execute_result"
    }
   ],
   "source": [
    "X_cod['Cuenca'].unique()"
   ]
  },
  {
   "cell_type": "markdown",
   "metadata": {},
   "source": [
    "# Dividir los datos en Train y Test"
   ]
  },
  {
   "cell_type": "code",
   "execution_count": 22,
   "metadata": {},
   "outputs": [],
   "source": [
    "X_train, X_test, y_train, y_test = train_test_split(X_cod, y, test_size = 0.3, shuffle=True)"
   ]
  },
  {
   "cell_type": "markdown",
   "metadata": {},
   "source": [
    "# Construir modelo"
   ]
  },
  {
   "cell_type": "code",
   "execution_count": 23,
   "metadata": {},
   "outputs": [
    {
     "data": {
      "text/plain": [
       "KNeighborsClassifier(weights='distance')"
      ]
     },
     "execution_count": 23,
     "metadata": {},
     "output_type": "execute_result"
    }
   ],
   "source": [
    "#n_neighbors = \n",
    "\n",
    "knn = KNeighborsClassifier(n_neighbors=5, weights='distance')\n",
    "knn.fit(X_train, y_train)"
   ]
  },
  {
   "cell_type": "code",
   "execution_count": 25,
   "metadata": {},
   "outputs": [
    {
     "name": "stdout",
     "output_type": "stream",
     "text": [
      "Precisión =  0.6430317848410758\n"
     ]
    },
    {
     "data": {
      "text/plain": [
       "<sklearn.metrics._plot.confusion_matrix.ConfusionMatrixDisplay at 0x7f548bc23d00>"
      ]
     },
     "execution_count": 25,
     "metadata": {},
     "output_type": "execute_result"
    },
    {
     "data": {
      "image/png": "[encoded data removed]",
      "text/plain": [
       "<Figure size 432x288 with 2 Axes>"
      ]
     },
     "metadata": {
      "needs_background": "light"
     },
     "output_type": "display_data"
    }
   ],
   "source": [
    "# Predicción\n",
    "\n",
    "pred = knn.predict(X_test)\n",
    "y_pred = pd.Series(pred)\n",
    "print('Precisión = ', precision_score(y_test, pred, average='micro'))\n",
    "#print(classification_report(y_test, pred))\n",
    "plot_confusion_matrix(knn, X_train, y_train)"
   ]
  },
  {
   "cell_type": "code",
   "execution_count": 45,
   "metadata": {},
   "outputs": [
    {
     "data": {
      "text/plain": [
       "array(['AGRICOLA', 'SERVICIOS', 'INDUSTRIAL', 'PUBLICO URBANO',\n",
       "       'DIFERENTES USOS', 'PECUARIO', 'DOMESTICO', 'ACUACULTURA',\n",
       "       'AGROINDUSTIAL'], dtype=object)"
      ]
     },
     "execution_count": 45,
     "metadata": {},
     "output_type": "execute_result"
    }
   ],
   "source": [
    "pozos['Uso'].unique()"
   ]
  },
  {
   "cell_type": "code",
   "execution_count": 26,
   "metadata": {},
   "outputs": [],
   "source": [
    "label = y_test.map({'AGRICOLA': 0, 'SERVICIOS': 1, 'INDUSTRIAL': 2, 'PUBLICO URBANO': 3,\n",
    "                   'DIFERENTES USOS': 4, 'PECUARIO':5, 'DOMESTICO': 6, 'ACUACULTURA': 7, 'AGROINDUSTIAL': 8},na_action=None)"
   ]
  },
  {
   "cell_type": "code",
   "execution_count": 27,
   "metadata": {},
   "outputs": [],
   "source": [
    "label_p = y_pred.map({'AGRICOLA': 0, 'SERVICIOS': 1, 'INDUSTRIAL': 2, 'PUBLICO URBANO': 3,\n",
    "                   'DIFERENTES USOS': 4, 'PECUARIO':5, 'DOMESTICO': 6, 'ACUACULTURA': 7, 'AGROINDUSTIAL': 8},na_action=None)"
   ]
  },
  {
   "cell_type": "code",
   "execution_count": 28,
   "metadata": {},
   "outputs": [],
   "source": [
    "def grafica(data):\n",
    "    for i in range(9):\n",
    "        plt.scatter(x=data[data==i].index, y=data[data==i], cmap='Sequential')\n",
    "    return plt.show()"
   ]
  },
  {
   "cell_type": "code",
   "execution_count": 29,
   "metadata": {},
   "outputs": [
    {
     "data": {
      "image/png": "[encoded data removed]",
      "text/plain": [
       "<Figure size 432x288 with 1 Axes>"
      ]
     },
     "metadata": {
      "needs_background": "light"
     },
     "output_type": "display_data"
    }
   ],
   "source": [
    "grafica(label)"
   ]
  },
  {
   "cell_type": "code",
   "execution_count": 30,
   "metadata": {},
   "outputs": [
    {
     "data": {
      "image/png": "[encoded data removed]",
      "text/plain": [
       "<Figure size 432x288 with 1 Axes>"
      ]
     },
     "metadata": {
      "needs_background": "light"
     },
     "output_type": "display_data"
    }
   ],
   "source": [
    "grafica(label_p) #El modelo no identifica más de la mitad de las etiquetas"
   ]
  },
  {
   "cell_type": "markdown",
   "metadata": {},
   "source": [
    "# Encontrar el valor de k"
   ]
  },
  {
   "cell_type": "code",
   "execution_count": 37,
   "metadata": {},
   "outputs": [
    {
     "data": {
      "text/plain": [
       "Text(0, 0.5, 'Precision')"
      ]
     },
     "execution_count": 37,
     "metadata": {},
     "output_type": "execute_result"
    },
    {
     "data": {
      "image/png": "[encoded data removed]",
      "text/plain": [
       "<Figure size 432x288 with 1 Axes>"
      ]
     },
     "metadata": {
      "needs_background": "light"
     },
     "output_type": "display_data"
    }
   ],
   "source": [
    "k_range = range(1, 15)\n",
    "scores = []\n",
    "for k in k_range:\n",
    "    knn = KNeighborsClassifier(n_neighbors = k)\n",
    "    knn.fit(X_train, y_train)\n",
    "    pred1=knn.predict(X_test)\n",
    "    scores.append(precision_score(y_test, pred1, average='micro'))\n",
    "#plt.figure()\n",
    "plt.scatter(k_range, scores)\n",
    "plt.xlabel('k')\n",
    "plt.ylabel('Precision')\n",
    "#plt.xticks([0,5,10,15,20])"
   ]
  },
  {
   "cell_type": "code",
   "execution_count": 32,
   "metadata": {},
   "outputs": [
    {
     "data": {
      "text/plain": [
       "KNeighborsClassifier(n_neighbors=8, weights='distance')"
      ]
     },
     "execution_count": 32,
     "metadata": {},
     "output_type": "execute_result"
    }
   ],
   "source": [
    "knn_final = KNeighborsClassifier(n_neighbors=8, weights='distance')\n",
    "knn_final.fit(X_train, y_train)"
   ]
  },
  {
   "cell_type": "code",
   "execution_count": 33,
   "metadata": {},
   "outputs": [
    {
     "name": "stdout",
     "output_type": "stream",
     "text": [
      "Precisión =  0.6650366748166259\n"
     ]
    }
   ],
   "source": [
    "pred_final = knn_final.predict(X_test)\n",
    "y_pred_final = pd.Series(pred_final)\n",
    "print('Precisión = ', precision_score(y_test, y_pred_final, average='micro'))"
   ]
  },
  {
   "cell_type": "code",
   "execution_count": 34,
   "metadata": {},
   "outputs": [
    {
     "data": {
      "image/png": "[encoded data removed]",
      "text/plain": [
       "<Figure size 432x288 with 1 Axes>"
      ]
     },
     "metadata": {
      "needs_background": "light"
     },
     "output_type": "display_data"
    }
   ],
   "source": [
    "label_final = y_pred.map({'AGRICOLA': 0, 'SERVICIOS': 1, 'INDUSTRIAL': 2, 'PUBLICO URBANO': 3,\n",
    "                   'DIFERENTES USOS': 4, 'PECUARIO':5, 'DOMESTICO': 6, 'ACUACULTURA': 7, 'AGROINDUSTIAL': 8},na_action=None)\n",
    "grafica(label_p)"
   ]
  },
  {
   "cell_type": "markdown",
   "metadata": {},
   "source": [
    "## Revisar una K mejor"
   ]
  },
  {
   "cell_type": "code",
   "execution_count": null,
   "metadata": {},
   "outputs": [],
   "source": []
  }
 ],
 "metadata": {
  "kernelspec": {
   "display_name": "Python 3",
   "language": "python",
   "name": "python3"
  },
  "language_info": {
   "codemirror_mode": {
    "name": "ipython",
    "version": 3
   },
   "file_extension": ".py",
   "mimetype": "text/x-python",
   "name": "python",
   "nbconvert_exporter": "python",
   "pygments_lexer": "ipython3",
   "version": "3.7.4"
  }
 },
 "nbformat": 4,
 "nbformat_minor": 5
}
